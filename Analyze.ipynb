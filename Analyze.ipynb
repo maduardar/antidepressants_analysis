{
 "cells": [
  {
   "cell_type": "markdown",
   "metadata": {},
   "source": [
    "# Сбор таблички с отзывами"
   ]
  },
  {
   "cell_type": "markdown",
   "metadata": {},
   "source": [
    "## Imports"
   ]
  },
  {
   "cell_type": "code",
   "execution_count": 305,
   "metadata": {},
   "outputs": [],
   "source": [
    "import numpy as np\n",
    "import pandas as pd\n",
    "import matplotlib.pyplot as plt\n",
    "import nltk\n",
    "from pymystem3 import Mystem\n",
    "from string import punctuation\n",
    "\n",
    "import nltk\n",
    "import pandas as pd\n",
    "import pymongo\n",
    "import json\n",
    "from pymongo import MongoClient\n",
    "import regex as re\n",
    "import pprint\n",
    "import csv\n",
    "import pandas as pd\n",
    "import sklearn\n",
    "import numpy as np\n",
    "\n",
    "#Aprori\n",
    "import sys\n",
    "\n",
    "from itertools import chain, combinations\n",
    "from collections import defaultdict\n",
    "from optparse import OptionParser\n",
    "\n",
    "\n",
    "\n",
    "## Tokenize\n",
    "from collections import defaultdict\n",
    "import nltk.tokenize\n",
    "from nltk.tag import pos_tag\n",
    "from nltk.tokenize.punkt import PunktSentenceTokenizer, PunktLanguageVars\n",
    "\n",
    "\n",
    "##\n",
    "from gensim.corpora.dictionary import Dictionary\n",
    "from gensim.models.tfidfmodel import TfidfModel\n",
    "from nltk.stem.porter import PorterStemmer\n",
    "\n",
    "import spacy\n",
    "\n",
    "## Classification\n",
    "from sklearn.feature_extraction.text import CountVectorizer\n",
    "from sklearn.model_selection import train_test_split\n",
    "from sklearn.feature_extraction.text import TfidfVectorizer\n",
    "from sklearn.naive_bayes import MultinomialNB\n",
    "from sklearn.linear_model import LogisticRegression\n",
    "from sklearn import metrics\n",
    "\n",
    "## Regression\n",
    "from sklearn.linear_model import LinearRegression\n",
    "from sklearn.neural_network import MLPRegressor\n",
    "\n",
    "PATH = \"./\"\n",
    "%matplotlib inline"
   ]
  },
  {
   "cell_type": "markdown",
   "metadata": {},
   "source": [
    "## Прозак  \n",
    "\n",
    "**Действующее вещество:**\n",
    "Флуоксетин (Fluoxetine)  \n",
    "\n",
    "**Показания препарата Прозак®**\n",
    "Депрессии, нервная булимия, обсессивно-компульсивные расстройства (навязчивые мысли и действия).\n",
    "\n",
    "**Побочные действия**\n",
    "В начале терапии и при увеличении дозы могут появляться тревога и раздражительность, нарушения сна, сонливость, головная боль, тошнота; реже — рвота и диарея. Возможно развитие анорексии и уменьшение массы тела, а также появление гипонатриемии, особенно у больных пожилого возраста. Редко — возникновение судорожных припадков. Возможны аллергические реакции в виде появления кожной сыпи, зуда, озноба, повышения температуры, боли в мышцах, суставах."
   ]
  },
  {
   "cell_type": "code",
   "execution_count": 2,
   "metadata": {},
   "outputs": [
    {
     "data": {
      "text/html": [
       "<div>\n",
       "<style scoped>\n",
       "    .dataframe tbody tr th:only-of-type {\n",
       "        vertical-align: middle;\n",
       "    }\n",
       "\n",
       "    .dataframe tbody tr th {\n",
       "        vertical-align: top;\n",
       "    }\n",
       "\n",
       "    .dataframe thead th {\n",
       "        text-align: right;\n",
       "    }\n",
       "</style>\n",
       "<table border=\"1\" class=\"dataframe\">\n",
       "  <thead>\n",
       "    <tr style=\"text-align: right;\">\n",
       "      <th></th>\n",
       "      <th>username</th>\n",
       "      <th>text</th>\n",
       "    </tr>\n",
       "  </thead>\n",
       "  <tbody>\n",
       "    <tr>\n",
       "      <th>0</th>\n",
       "      <td>Rebrendiran</td>\n",
       "      <td>Мојов преферира прозак</td>\n",
       "    </tr>\n",
       "    <tr>\n",
       "      <th>1</th>\n",
       "      <td>natbes</td>\n",
       "      <td>Прозак в помощь. Это не стеб</td>\n",
       "    </tr>\n",
       "    <tr>\n",
       "      <th>2</th>\n",
       "      <td>IvanAmericos</td>\n",
       "      <td>Чудик, от тебя такое зарево, что твои потуги н...</td>\n",
       "    </tr>\n",
       "    <tr>\n",
       "      <th>3</th>\n",
       "      <td>eric_belov</td>\n",
       "      <td>Перевернул все вверх дном Потерян, не помню ни...</td>\n",
       "    </tr>\n",
       "    <tr>\n",
       "      <th>4</th>\n",
       "      <td>red_ya_bastard</td>\n",
       "      <td>штож как говорится добро пожаловать в фандом г...</td>\n",
       "    </tr>\n",
       "  </tbody>\n",
       "</table>\n",
       "</div>"
      ],
      "text/plain": [
       "         username                                               text\n",
       "0     Rebrendiran                             Мојов преферира прозак\n",
       "1          natbes                      Прозак в помощь. Это не стеб \n",
       "2    IvanAmericos  Чудик, от тебя такое зарево, что твои потуги н...\n",
       "3      eric_belov  Перевернул все вверх дном Потерян, не помню ни...\n",
       "4  red_ya_bastard  штож как говорится добро пожаловать в фандом г..."
      ]
     },
     "execution_count": 2,
     "metadata": {},
     "output_type": "execute_result"
    }
   ],
   "source": [
    "df = pd.read_csv(\"prozak.csv\")\n",
    "df = df.append(pd.read_csv(\"fluoxetine.csv\"))\n",
    "df = df[['username', 'text']]\n",
    "df.head()"
   ]
  },
  {
   "cell_type": "markdown",
   "metadata": {},
   "source": [
    "\n",
    "  \n",
    "Небольшой препроцессинг"
   ]
  },
  {
   "cell_type": "code",
   "execution_count": 3,
   "metadata": {},
   "outputs": [
    {
     "name": "stdout",
     "output_type": "stream",
     "text": [
      "Requirement already satisfied: pymystem3 in /Library/Frameworks/Python.framework/Versions/3.8/lib/python3.8/site-packages (0.2.0)\n",
      "Requirement already satisfied: requests in /Library/Frameworks/Python.framework/Versions/3.8/lib/python3.8/site-packages (from pymystem3) (2.22.0)\n",
      "Requirement already satisfied: idna<2.9,>=2.5 in /Library/Frameworks/Python.framework/Versions/3.8/lib/python3.8/site-packages (from requests->pymystem3) (2.8)\n",
      "Requirement already satisfied: urllib3!=1.25.0,!=1.25.1,<1.26,>=1.21.1 in /Library/Frameworks/Python.framework/Versions/3.8/lib/python3.8/site-packages (from requests->pymystem3) (1.25.8)\n",
      "Requirement already satisfied: chardet<3.1.0,>=3.0.2 in /Library/Frameworks/Python.framework/Versions/3.8/lib/python3.8/site-packages (from requests->pymystem3) (3.0.4)\n",
      "Requirement already satisfied: certifi>=2017.4.17 in /Library/Frameworks/Python.framework/Versions/3.8/lib/python3.8/site-packages (from requests->pymystem3) (2020.4.5.1)\n",
      "\u001b[33mWARNING: You are using pip version 19.3.1; however, version 20.1 is available.\n",
      "You should consider upgrading via the 'pip install --upgrade pip' command.\u001b[0m\n"
     ]
    }
   ],
   "source": [
    "!pip install pymystem3"
   ]
  },
  {
   "cell_type": "code",
   "execution_count": 4,
   "metadata": {},
   "outputs": [],
   "source": [
    "\n",
    "mystem = Mystem() \n",
    "\n",
    "def preprocess_text(text):\n",
    "#     tokens = mystem.lemmatize(text.lower())\n",
    "    tokens = text.lower().split()\n",
    "    tokens = [token for token in tokens if token != \" \" \\\n",
    "              and token.strip() not in punctuation]\n",
    "    \n",
    "    text = \" \".join(tokens)\n",
    "    \n",
    "    return text"
   ]
  },
  {
   "cell_type": "code",
   "execution_count": 5,
   "metadata": {},
   "outputs": [],
   "source": [
    "df.text = df.text.apply(preprocess_text)"
   ]
  },
  {
   "cell_type": "code",
   "execution_count": 6,
   "metadata": {},
   "outputs": [],
   "source": [
    "must_include = ['приним', \"пью\", \"куп\", \"выпис\", \"назнач\", \"пропис\", \"проб\",\n",
    "                \"депрес\", \"побоч\", \"эффек\", \"хор\", \"лучш\", \"хоч\",\n",
    "                \"аппет\", \"есть\", \"трев\", \"раздраж\", \"худ\", \"вес\", \"бол\", \"тошн\",\n",
    "               \"темп\", \"судор\", \"сып\", \"зуд\", \"озноб\", \"дрож\", \"колбас\", \"мышц\", \"рвот\", \"вырв\"]"
   ]
  },
  {
   "cell_type": "code",
   "execution_count": null,
   "metadata": {},
   "outputs": [],
   "source": []
  },
  {
   "cell_type": "code",
   "execution_count": 7,
   "metadata": {},
   "outputs": [
    {
     "data": {
      "text/html": [
       "<div>\n",
       "<style scoped>\n",
       "    .dataframe tbody tr th:only-of-type {\n",
       "        vertical-align: middle;\n",
       "    }\n",
       "\n",
       "    .dataframe tbody tr th {\n",
       "        vertical-align: top;\n",
       "    }\n",
       "\n",
       "    .dataframe thead th {\n",
       "        text-align: right;\n",
       "    }\n",
       "</style>\n",
       "<table border=\"1\" class=\"dataframe\">\n",
       "  <thead>\n",
       "    <tr style=\"text-align: right;\">\n",
       "      <th></th>\n",
       "      <th>index</th>\n",
       "      <th>username</th>\n",
       "      <th>text</th>\n",
       "    </tr>\n",
       "  </thead>\n",
       "  <tbody>\n",
       "    <tr>\n",
       "      <th>0</th>\n",
       "      <td>3</td>\n",
       "      <td>eric_belov</td>\n",
       "      <td>перевернул все вверх дном потерян, не помню ни...</td>\n",
       "    </tr>\n",
       "    <tr>\n",
       "      <th>1</th>\n",
       "      <td>5</td>\n",
       "      <td>sonya_from</td>\n",
       "      <td>решительно купил прозак</td>\n",
       "    </tr>\n",
       "    <tr>\n",
       "      <th>2</th>\n",
       "      <td>9</td>\n",
       "      <td>caecaest</td>\n",
       "      <td>прозак закончился, пью флу по башке даёт знатн...</td>\n",
       "    </tr>\n",
       "    <tr>\n",
       "      <th>3</th>\n",
       "      <td>10</td>\n",
       "      <td>transalore</td>\n",
       "      <td>«они принимают виагру, потому что не имеют вре...</td>\n",
       "    </tr>\n",
       "    <tr>\n",
       "      <th>4</th>\n",
       "      <td>13</td>\n",
       "      <td>caecaest</td>\n",
       "      <td>из-за того, что последние 7 лет я абсолютно не...</td>\n",
       "    </tr>\n",
       "    <tr>\n",
       "      <th>...</th>\n",
       "      <td>...</td>\n",
       "      <td>...</td>\n",
       "      <td>...</td>\n",
       "    </tr>\n",
       "    <tr>\n",
       "      <th>6347</th>\n",
       "      <td>9988</td>\n",
       "      <td>morttodo</td>\n",
       "      <td>у меня с серотонином проблемы, и тут 2 выхода:...</td>\n",
       "    </tr>\n",
       "    <tr>\n",
       "      <th>6348</th>\n",
       "      <td>9990</td>\n",
       "      <td>Zaparin_</td>\n",
       "      <td>в аптеке не продали флуоксетин. лежу весь день...</td>\n",
       "    </tr>\n",
       "    <tr>\n",
       "      <th>6349</th>\n",
       "      <td>9992</td>\n",
       "      <td>Gerogerigegegee</td>\n",
       "      <td>@fadeyeva кстати, про чо рассказать-то? как ху...</td>\n",
       "    </tr>\n",
       "    <tr>\n",
       "      <th>6350</th>\n",
       "      <td>9997</td>\n",
       "      <td>svartvind</td>\n",
       "      <td>@gonzocurse чего депрессуешь, камрад? флуоксет...</td>\n",
       "    </tr>\n",
       "    <tr>\n",
       "      <th>6351</th>\n",
       "      <td>9999</td>\n",
       "      <td>wroo0mie</td>\n",
       "      <td>@uberkatze флуоксетин антидепрессант? помогает?</td>\n",
       "    </tr>\n",
       "  </tbody>\n",
       "</table>\n",
       "<p>6352 rows × 3 columns</p>\n",
       "</div>"
      ],
      "text/plain": [
       "      index         username  \\\n",
       "0         3       eric_belov   \n",
       "1         5       sonya_from   \n",
       "2         9         caecaest   \n",
       "3        10       transalore   \n",
       "4        13         caecaest   \n",
       "...     ...              ...   \n",
       "6347   9988         morttodo   \n",
       "6348   9990         Zaparin_   \n",
       "6349   9992  Gerogerigegegee   \n",
       "6350   9997        svartvind   \n",
       "6351   9999         wroo0mie   \n",
       "\n",
       "                                                   text  \n",
       "0     перевернул все вверх дном потерян, не помню ни...  \n",
       "1                               решительно купил прозак  \n",
       "2     прозак закончился, пью флу по башке даёт знатн...  \n",
       "3     «они принимают виагру, потому что не имеют вре...  \n",
       "4     из-за того, что последние 7 лет я абсолютно не...  \n",
       "...                                                 ...  \n",
       "6347  у меня с серотонином проблемы, и тут 2 выхода:...  \n",
       "6348  в аптеке не продали флуоксетин. лежу весь день...  \n",
       "6349  @fadeyeva кстати, про чо рассказать-то? как ху...  \n",
       "6350  @gonzocurse чего депрессуешь, камрад? флуоксет...  \n",
       "6351    @uberkatze флуоксетин антидепрессант? помогает?  \n",
       "\n",
       "[6352 rows x 3 columns]"
      ]
     },
     "execution_count": 7,
     "metadata": {},
     "output_type": "execute_result"
    }
   ],
   "source": [
    "df = df[df['text'].str.contains('|'.join(must_include))].reset_index()\n",
    "df"
   ]
  },
  {
   "cell_type": "markdown",
   "metadata": {},
   "source": [
    "Проанализируем тональность"
   ]
  },
  {
   "cell_type": "code",
   "execution_count": 21,
   "metadata": {},
   "outputs": [],
   "source": [
    "from dostoevsky.tokenization import RegexTokenizer\n",
    "from dostoevsky.models import FastTextSocialNetworkModel\n",
    "\n",
    "tokenizer = RegexTokenizer()\n",
    "model = FastTextSocialNetworkModel(tokenizer=tokenizer)\n",
    "results = model.predict(df.text, k=5)"
   ]
  },
  {
   "cell_type": "code",
   "execution_count": 27,
   "metadata": {},
   "outputs": [
    {
     "ename": "NameError",
     "evalue": "name 'results' is not defined",
     "output_type": "error",
     "traceback": [
      "\u001b[0;31m---------------------------------------------------------------------------\u001b[0m",
      "\u001b[0;31mNameError\u001b[0m                                 Traceback (most recent call last)",
      "\u001b[0;32m<ipython-input-27-fc4c9534b824>\u001b[0m in \u001b[0;36m<module>\u001b[0;34m\u001b[0m\n\u001b[0;32m----> 1\u001b[0;31m \u001b[0mdf\u001b[0m \u001b[0;34m=\u001b[0m \u001b[0mdf\u001b[0m\u001b[0;34m.\u001b[0m\u001b[0mjoin\u001b[0m\u001b[0;34m(\u001b[0m\u001b[0mpd\u001b[0m\u001b[0;34m.\u001b[0m\u001b[0mDataFrame\u001b[0m\u001b[0;34m(\u001b[0m\u001b[0mresults\u001b[0m\u001b[0;34m)\u001b[0m\u001b[0;34m)\u001b[0m\u001b[0;34m\u001b[0m\u001b[0;34m\u001b[0m\u001b[0m\n\u001b[0m\u001b[1;32m      2\u001b[0m \u001b[0mdf\u001b[0m\u001b[0;34m.\u001b[0m\u001b[0mdescribe\u001b[0m\u001b[0;34m(\u001b[0m\u001b[0;34m)\u001b[0m\u001b[0;34m\u001b[0m\u001b[0;34m\u001b[0m\u001b[0m\n",
      "\u001b[0;31mNameError\u001b[0m: name 'results' is not defined"
     ]
    }
   ],
   "source": [
    "df = df.join(pd.DataFrame(results))\n",
    "df.describe()"
   ]
  },
  {
   "cell_type": "code",
   "execution_count": null,
   "metadata": {},
   "outputs": [],
   "source": [
    "df[df.skip > 0.6]"
   ]
  },
  {
   "cell_type": "code",
   "execution_count": null,
   "metadata": {},
   "outputs": [],
   "source": [
    "print()\n",
    "plt.title(\"Распределение положительных отзывов\")\n",
    "df[df['neutral'] < 0.5]['positive'].hist()\n",
    "plt.xlabel('Вероятность того, что отзыв позитивный')\n",
    "plt.show()"
   ]
  },
  {
   "cell_type": "code",
   "execution_count": null,
   "metadata": {},
   "outputs": [],
   "source": [
    "plt.title(\"Распределение отрицательных отзывов\")\n",
    "df[df['neutral'] < 0.5]['negative'].hist()\n",
    "plt.xlabel('Вероятность того, что отзыв негативный')\n",
    "plt.show()"
   ]
  },
  {
   "cell_type": "code",
   "execution_count": null,
   "metadata": {},
   "outputs": [],
   "source": [
    "plt.title(\"Распределение нейтральных отзывов\")\n",
    "df['neutral'].hist()\n",
    "plt.xlabel('Вероятность того, что отзыв нейтральный')\n",
    "plt.show()"
   ]
  },
  {
   "cell_type": "code",
   "execution_count": null,
   "metadata": {},
   "outputs": [],
   "source": [
    "plt.title(\"Распределение бесполезных отзывов\")\n",
    "df['skip'].hist()\n",
    "plt.xlabel('Вероятность того, что отзыв бесполезный')\n",
    "plt.show()"
   ]
  },
  {
   "cell_type": "code",
   "execution_count": null,
   "metadata": {},
   "outputs": [],
   "source": [
    "list(df[df['positive'] > 0.7].text)"
   ]
  },
  {
   "cell_type": "code",
   "execution_count": null,
   "metadata": {},
   "outputs": [],
   "source": [
    "# df = df[((df['positive'] > 0.6) | (df['negative'] > 0.6)) & (df['skip'] < 0.2)].reset_index()\n",
    "df['is_positive'] = 1 * (df['positive'] > df['negative'])"
   ]
  },
  {
   "cell_type": "code",
   "execution_count": null,
   "metadata": {},
   "outputs": [],
   "source": [
    "(df.is_positive).sum() / len(df)"
   ]
  },
  {
   "cell_type": "code",
   "execution_count": null,
   "metadata": {},
   "outputs": [],
   "source": [
    "plt.title(\"Соотношение отрицательных и положительных отзывов\")\n",
    "df['is_positive'].hist()\n",
    "plt.xlabel('0 - негативный, 1 - позитивный')\n",
    "plt.show()"
   ]
  },
  {
   "cell_type": "code",
   "execution_count": null,
   "metadata": {},
   "outputs": [],
   "source": []
  },
  {
   "cell_type": "code",
   "execution_count": null,
   "metadata": {},
   "outputs": [],
   "source": [
    "clean_df = df.copy()"
   ]
  },
  {
   "cell_type": "code",
   "execution_count": null,
   "metadata": {},
   "outputs": [],
   "source": [
    "side_eff = ['тревога', 'раздражительность', 'нарушения сна', 'сонливость', 'головная боль', 'тошнота', \n",
    "            'рвота', 'диарея', 'анорексия', 'похудеть', 'вес', 'гипонатриемия', 'судороги', 'аллергия',\n",
    "            'сыпь', 'зуд', 'озноб', 'температура', 'боль', 'мышцы', 'суставы']"
   ]
  },
  {
   "cell_type": "code",
   "execution_count": null,
   "metadata": {},
   "outputs": [],
   "source": []
  },
  {
   "cell_type": "markdown",
   "metadata": {},
   "source": [
    "## Данные с отзывами с сайта otzovik"
   ]
  },
  {
   "cell_type": "code",
   "execution_count": 102,
   "metadata": {},
   "outputs": [],
   "source": [
    "import pandas as pd"
   ]
  },
  {
   "cell_type": "code",
   "execution_count": 124,
   "metadata": {},
   "outputs": [],
   "source": [
    "from os import listdir\n",
    "from os.path import isfile, join\n",
    "filenames = ['csv/fluoksetin/' + f for f in listdir('csv/fluoksetin') if isfile(join('csv/fluoksetin', f))]"
   ]
  },
  {
   "cell_type": "code",
   "execution_count": 125,
   "metadata": {},
   "outputs": [],
   "source": [
    "li = []\n",
    "for f in filenames:\n",
    "    df = pd.read_csv(f, index_col=None, header=0)\n",
    "    li.append(df)\n",
    "df = pd.concat(li, axis=0, ignore_index=True)\n",
    "df = df.fillna(' 0')"
   ]
  },
  {
   "cell_type": "code",
   "execution_count": 126,
   "metadata": {},
   "outputs": [],
   "source": [
    "df['Сколько человек рекомендует отзыв'] = df['Сколько человек рекомендует отзыв'].apply(lambda x: int(x[18:]))"
   ]
  },
  {
   "cell_type": "code",
   "execution_count": 127,
   "metadata": {},
   "outputs": [],
   "source": [
    "df['Репутация'] = df['Репутация'].astype('str')"
   ]
  },
  {
   "cell_type": "code",
   "execution_count": 128,
   "metadata": {},
   "outputs": [],
   "source": [
    "df['Репутация'] = df['Репутация'].apply(lambda x: int(x[1:]) if len(x)>1 else 0)"
   ]
  },
  {
   "cell_type": "code",
   "execution_count": 129,
   "metadata": {},
   "outputs": [
    {
     "data": {
      "text/plain": [
       "81    -10\n",
       "285    -3\n",
       "Name: Репутация, dtype: int64"
      ]
     },
     "execution_count": 129,
     "metadata": {},
     "output_type": "execute_result"
    }
   ],
   "source": [
    "df['Репутация'][df['Репутация'] < 0 ]"
   ]
  },
  {
   "cell_type": "code",
   "execution_count": 130,
   "metadata": {},
   "outputs": [
    {
     "data": {
      "text/plain": [
       "0                             Иногда он просто спасение\n",
       "1                       Себя оправдал, но есть побочки.\n",
       "2                         хотел быть добрым, а похудел.\n",
       "3                       Флуоксетин меня буквально спас!\n",
       "4                                           Не помогает\n",
       "                             ...                       \n",
       "289                             только по рецепту врача\n",
       "290                                   Отличный препарат\n",
       "291                                    Препарат хороший\n",
       "292                                   Отличный препарат\n",
       "293    Вреда может быть больше чем помощи !Задумайтесь!\n",
       "Name: Заголовок отзывыа, Length: 294, dtype: object"
      ]
     },
     "execution_count": 130,
     "metadata": {},
     "output_type": "execute_result"
    }
   ],
   "source": [
    "df['Заголовок отзывыа']"
   ]
  },
  {
   "cell_type": "code",
   "execution_count": 131,
   "metadata": {},
   "outputs": [
    {
     "name": "stderr",
     "output_type": "stream",
     "text": [
      "\n"
     ]
    }
   ],
   "source": [
    "from dostoevsky.tokenization import RegexTokenizer\n",
    "from dostoevsky.models import FastTextSocialNetworkModel\n",
    "\n",
    "tokenizer = RegexTokenizer()\n",
    "model = FastTextSocialNetworkModel(tokenizer=tokenizer)\n",
    "results = model.predict(df['Заголовок отзывыа'], k=5)"
   ]
  },
  {
   "cell_type": "code",
   "execution_count": 132,
   "metadata": {},
   "outputs": [],
   "source": [
    "df = df.join(pd.DataFrame(results))"
   ]
  },
  {
   "cell_type": "code",
   "execution_count": 133,
   "metadata": {},
   "outputs": [
    {
     "data": {
      "image/png": "[encoded data removed]",
      "text/plain": [
       "<Figure size 432x288 with 1 Axes>"
      ]
     },
     "metadata": {
      "needs_background": "light"
     },
     "output_type": "display_data"
    }
   ],
   "source": [
    "plt.title(\"Распределение положительных отзывов\")\n",
    "df[df['neutral'] < 0.2]['positive'].hist()\n",
    "plt.xlabel('Вероятность того, что отзыв позитивный')\n",
    "plt.show()"
   ]
  },
  {
   "cell_type": "code",
   "execution_count": 134,
   "metadata": {},
   "outputs": [
    {
     "data": {
      "image/png": "[encoded data removed]",
      "text/plain": [
       "<Figure size 432x288 with 1 Axes>"
      ]
     },
     "metadata": {
      "needs_background": "light"
     },
     "output_type": "display_data"
    }
   ],
   "source": [
    "plt.title(\"Распределение положительных отзывов\")\n",
    "df[df['neutral'] < 0.2]['positive'].hist()\n",
    "plt.xlabel('Вероятность того, что отзыв позитивный')\n",
    "plt.show()"
   ]
  },
  {
   "cell_type": "code",
   "execution_count": 135,
   "metadata": {},
   "outputs": [
    {
     "data": {
      "image/png": "[encoded data removed]",
      "text/plain": [
       "<Figure size 432x288 with 1 Axes>"
      ]
     },
     "metadata": {
      "needs_background": "light"
     },
     "output_type": "display_data"
    }
   ],
   "source": [
    "plt.title(\"Распределение отрицательных отзывов\")\n",
    "df[df['neutral'] < 0.2]['negative'].hist()\n",
    "plt.xlabel('Вероятность того, что отзыв негативный')\n",
    "plt.show()"
   ]
  },
  {
   "cell_type": "code",
   "execution_count": 136,
   "metadata": {},
   "outputs": [
    {
     "data": {
      "image/png": "[encoded data removed]",
      "text/plain": [
       "<Figure size 432x288 with 1 Axes>"
      ]
     },
     "metadata": {
      "needs_background": "light"
     },
     "output_type": "display_data"
    }
   ],
   "source": [
    "plt.title(\"Распределение отрицательных отзывов\")\n",
    "df[df['neutral'] < 0.2]['negative'].hist()\n",
    "plt.xlabel('Вероятность того, что отзыв негативный')\n",
    "plt.show()"
   ]
  },
  {
   "cell_type": "code",
   "execution_count": 137,
   "metadata": {},
   "outputs": [
    {
     "data": {
      "image/png": "[encoded data removed]",
      "text/plain": [
       "<Figure size 432x288 with 1 Axes>"
      ]
     },
     "metadata": {
      "needs_background": "light"
     },
     "output_type": "display_data"
    }
   ],
   "source": [
    "plt.title(\"Распределение нейтральных отзывов\")\n",
    "df['neutral'].hist()\n",
    "plt.xlabel('Вероятность того, что отзыв нейтральный')\n",
    "plt.show()"
   ]
  },
  {
   "cell_type": "code",
   "execution_count": 138,
   "metadata": {},
   "outputs": [
    {
     "data": {
      "image/png": "[encoded data removed]",
      "text/plain": [
       "<Figure size 432x288 with 1 Axes>"
      ]
     },
     "metadata": {
      "needs_background": "light"
     },
     "output_type": "display_data"
    }
   ],
   "source": [
    "plt.title(\"Распределение нейтральных отзывов\")\n",
    "df['neutral'].hist()\n",
    "plt.xlabel('Вероятность того, что отзыв нейтральный')\n",
    "plt.show()"
   ]
  },
  {
   "cell_type": "code",
   "execution_count": 139,
   "metadata": {},
   "outputs": [],
   "source": [
    "import matplotlib.pyplot as plt"
   ]
  },
  {
   "cell_type": "code",
   "execution_count": 140,
   "metadata": {},
   "outputs": [],
   "source": [
    "df1 = df[:10]"
   ]
  },
  {
   "cell_type": "code",
   "execution_count": 141,
   "metadata": {},
   "outputs": [
    {
     "data": {
      "text/plain": [
       "<matplotlib.collections.PathCollection at 0x14a3422b0>"
      ]
     },
     "execution_count": 141,
     "metadata": {},
     "output_type": "execute_result"
    },
    {
     "data": {
      "image/png": "[encoded data removed]",
      "text/plain": [
       "<Figure size 432x288 with 1 Axes>"
      ]
     },
     "metadata": {
      "needs_background": "light"
     },
     "output_type": "display_data"
    }
   ],
   "source": [
    "plt.bar(np.arange(len(df1)), df1['positive'])\n",
    "plt.scatter(np.arange(len(df1)), 1-df1['negative'])\n",
    "# plt.scatter(np.arange(len(df)), df['neutral'])\n"
   ]
  },
  {
   "cell_type": "code",
   "execution_count": 142,
   "metadata": {},
   "outputs": [],
   "source": [
    "df['is_positive'] = 1 * (df['positive'] > df['negative'])"
   ]
  },
  {
   "cell_type": "code",
   "execution_count": 143,
   "metadata": {},
   "outputs": [
    {
     "data": {
      "image/png": "[encoded data removed]",
      "text/plain": [
       "<Figure size 432x288 with 1 Axes>"
      ]
     },
     "metadata": {
      "needs_background": "light"
     },
     "output_type": "display_data"
    }
   ],
   "source": [
    "plt.title(\"Соотношение отрицательных и положительных отзывов\")\n",
    "df['is_positive'].hist()\n",
    "plt.xlabel('0 - негативный, 1 - позитивный')\n",
    "plt.show()"
   ]
  },
  {
   "cell_type": "code",
   "execution_count": 354,
   "metadata": {},
   "outputs": [
    {
     "data": {
      "text/plain": [
       "['Раньше я думала, что депрессию выдумали ленивые американцы, что бы на нее сваливать свою лень. Но недавно с ней я встретилась сама. При том, что депрессия меня захлестнула, когда казалось бы в жизни все стало налаживаться. ',\n",
       " 'Начала принимать ооочень давно, принимать начала для похудения, но что порадовало и от депрессии он меня тоже спасал. Принимала флу российского производителя(за 38 рублей). От него подташнивало, а иногда был противный привкус в горле (как-будто порошок в горле). Я похудела тогда очень, кг на 10 точно. И перестала принимать. Прошло 2 наверное года и решила снова начать пить от депрессий. Опять пила российского производства, опять эта тошнота. Пошла в аптеку и был только флу Ланнахер. взяла. Я ПРОСТО СЧАСТЛИВА!!!! никакой тошноты, за 2 недели похудела на 7 кг и продолжаю худеть, настроение отличное!',\n",
       " 'Начала принимать около полугода назад, с промежутками. Из-за того, что отбивает аппетит, чтобы похудеть. Эффект появился где-то через неделю, аппетита не было и настроение улучшилось. Не знаю из-за таблеток или нет, появилась головная боль сильная. Я испугалась и перестала их пить. Через месяца 2 снова начала. Вроде с головной болью проблем нет. Настроение отличное, стала меньше нервничать. Я заметила, что от производителя зависит их качество. ',\n",
       " 'Всем привет!',\n",
       " 'Всем привет, хочу поделиться информацией об этом препарате, мне он очень помог улучшает настроение прилив сил, улучшает физическое самочувствие. Я начал легко общаться с людьми ко мне они сами потянулись как магнит. Препарат увеличивает концентрацию внимания, снимает тоску, спать начал хорошо, негативные мысли больше не тревожат. Действие начинается после 2х недель начала приёма. В общем препарат очень хороший. Рекомендую. Многие пишут что препарат плохой, что симптомы депрессии увеличиваются. Нельзя принимать его без назначения врача. Обязательно нужна консультация. И желательно найти грамотного психолога чтобы он поставил правильный диагноз вашего заболевания. Всем желаю удачи и благополучия)))',\n",
       " 'Полгода назад стала принимать флуоксетин по 20мг утром. Хотелось похудеть и не нервничать. Кроме сонливости ничего не вышло. Бросила через месяц. Подрагивали руки неделю. ',\n",
       " 'Флуоксетин, хороший антидепрессант, не поспоришь, и первое время замечаешь в нем только плюсы и кажется, что все уже хорошо, но проявляются все новые и новые подробности, со временем появляется привязанность, пропадает желание кушать и чем-то заниматься, появляется жуткая апатия и вот после этого понимаешь, что такое \"побочный эффект\", когда тебя с них снимать приходится уже с трудом и чувство голода в итоге становится редким явлением, ах да, совсем забыла, так же благодаря нему происходит резкая потеря веса, сначала скидываешь немного, но в итоге доходит до того, что в зеркало страшно смотреть и после этого тяжело набрать вес снова. Так что, мой совет, пить флуоксетин в крайних случаях и не перебарщивать, либо будет как у меня, а потом к прежней жизни тяжело вернуться)',\n",
       " 'Имея сильную сопротивляемость к препаратам, для меня Флуоксетин подошел идеально. Снизился уровень тревожности, ушла та мерзкая излишняя эмоциональность, словом, я ожила.',\n",
       " 'Мне посоветовали флуоксетин, как средство для похудания эффект просто потрясающий, я была приятно шокирована, за неделю я смогла сбросить 3 кг .',\n",
       " 'Отличный антидепрессант, не вызывает привыкания. Абсолютное спокойствие, после приема. Выписали после смерти близкого человека - любимой бабушки. Очень сложно пережить находясь в спокойном адекватном состоянии подобное горе. Но с помощью данных таблеток это удалось ...',\n",
       " 'Я Избавилась от булемии. Которой страдала больше трёх лет, самое ужасное время... В описании показаний он для тех кто страдает булимическими расстройствами.',\n",
       " 'Когда именно началась депрессия я не знаю, но сейчас я понимаю, что это было задолго до родов. И вот когда я родила, начали обостряться все мои психологические проблемы, которые я долго держала под контролем. Но от постоянного недосыпа, родов, гормонов и чего там еще... У меня не было сил, моральных. Два года я срывалась на всех, я не могла нормально спать, состояние полудрема, я обжиралась (этим я страдаю с детства). ',\n",
       " 'Доброго времени суток, уважаемый читатель моего отзыва!',\n",
       " 'Я не страдаю депрессией. Скорее я покупала его только для того, чтобы у меня пропадал аппетит.',\n",
       " 'Познакомился с ним, когда начались панические атаки. В транспорте/ на учебе/ в придомовом магазине. Везде. По несколько раз в день, на 30-40 минут.',\n",
       " 'Месяц назад начал курс, ушла тревога, плохие мысли, появилась работоспособность, стало восстанавливаться настроение, правда с недавнего времени на препарат нужен рецепт, но это не проблема, приходишь к психиатору, говоришь что у тебя депрессия и рецепт у вас в кармане',\n",
       " 'Данный препарат я начала принимать в следствии тяжелых жизненных обстоятельств, которые вылились в постоянные бессонницы, и кошмары, редкие приступы паники, постоянные смены настроения, апатия, слезы, в общем говоря депрессивное состояние. Начала принимать без боязни, никакой заторможенной или вообще плохой реакции я не ощущала, побочных эффектов тоже не было, как и улучшения, но по прошествии недели, заметила что мне лучше- лучше на душе, стала меньше расстраиваться, и аппетит стал умеренным. Настроение не как обычно плохое а нормальное, нет нервных срывов, и плохих мыслей( почти нет), в общем улучшения на лицо, препарат делает свою работу однозначно. Принимала по одной таблетке в день, с утра после еды (в упаковке 2 блистера по 10шт). Самое главное помнить, данный препарат принимать по назначению врача, и нельзя употреблять алкоголь.',\n",
       " 'Добрый вечер уважаемые читатели! Назначали препарат в 2018 году, пропил не долго, месяц назад снова попросил врача выписать мне данный антидепрессант. Не знаю как у вас, в нашем городе продается только по рецепту, отличная упаковка, удобно то, что препарат в капсулах, а не в таблетках. Безвкусный, если рядом нет воды запить не беда, его можно и так проглотить. Нужно дать время чтобы препарат накопился в крови, тогда он начнет действовать. Сразу эффекта можно не ждать. Не значительно снижает аппетит, поднимает настроение, успокаивает нервную систему, становишься не таким раздражительным, стоимость копеечная для такого прекрасного антидепрессанта.',\n",
       " 'Хочу сказать, что именно он, именно эти таблетки помогли мне с моей болезнью, могу спокойно жить, сейчас я их не принимаю, так как полностью вылечилась, но они очень сажают печень, так что потом советую пропить другие лекарства. Сами таблетки на вкус не противные, неплохие, в аптеках мне лично без рецепта не продавали, ну и правильно, ибо очень вредно для здоровья такие пить. Врачу большое спасибо, что выписал именно эти таблетки для меня, с ними я слова могу наслаждаться жизнью, гулять спокойно со своими роднымы и семьёй, стала жизнь намного проще и прекраснее, так что рекомендую вам, если конечно врач посоветовал, не бойтесь их пить',\n",
       " 'Прежде чем принимать, посоветуйтесь с семейным или участковым доктором. Средство справляется со своей задачей великолепно, но его побочный эффект - сонливость, так что будьте аккуратнее если ваша профессия требует внимательности. ']"
      ]
     },
     "execution_count": 354,
     "metadata": {},
     "output_type": "execute_result"
    }
   ],
   "source": [
    "list(df[df['positive']>0.9]['Текст отзыва'].head(20))"
   ]
  },
  {
   "cell_type": "code",
   "execution_count": 164,
   "metadata": {},
   "outputs": [
    {
     "data": {
      "text/plain": [
       "array(['Антидепрессант Озон \"Флуоксетин\"',\n",
       "       'Препарат Канонфарма Флуоксетин',\n",
       "       'Антидепрессант Варикозон \"Флуоксетин\"',\n",
       "       'Антидепрессант Алси-Фарма Флуоксетин',\n",
       "       'Антидепрессант ГНЦЛС \"Флуоксетин\"',\n",
       "       'Антидепрессант Sun Pharma \"Флуоксетин. Продеп\"',\n",
       "       'Антидепрессант Ланнахер \"Флуоксетин\"',\n",
       "       'Антидепрессант APOTEX Inc. \"Апо-Флуоксетин\"',\n",
       "       'Антидепрессант Биоком Флуоксетин'], dtype=object)"
      ]
     },
     "execution_count": 164,
     "metadata": {},
     "output_type": "execute_result"
    }
   ],
   "source": [
    "df['Название товара'].unique()"
   ]
  },
  {
   "cell_type": "code",
   "execution_count": 185,
   "metadata": {},
   "outputs": [],
   "source": [
    "names = df['Название товара'].unique()"
   ]
  },
  {
   "cell_type": "code",
   "execution_count": 194,
   "metadata": {},
   "outputs": [
    {
     "data": {
      "text/plain": [
       "array(['Антидепрессант Озон \"Флуоксетин\"',\n",
       "       'Препарат Канонфарма Флуоксетин',\n",
       "       'Антидепрессант Варикозон \"Флуоксетин\"',\n",
       "       'Антидепрессант Алси-Фарма Флуоксетин',\n",
       "       'Антидепрессант ГНЦЛС \"Флуоксетин\"',\n",
       "       'Антидепрессант Sun Pharma \"Флуоксетин. Продеп\"',\n",
       "       'Антидепрессант Ланнахер \"Флуоксетин\"',\n",
       "       'Антидепрессант APOTEX Inc. \"Апо-Флуоксетин\"',\n",
       "       'Антидепрессант Биоком Флуоксетин'], dtype=object)"
      ]
     },
     "execution_count": 194,
     "metadata": {},
     "output_type": "execute_result"
    }
   ],
   "source": [
    "names"
   ]
  },
  {
   "cell_type": "code",
   "execution_count": 177,
   "metadata": {},
   "outputs": [],
   "source": [
    "prob_dict = dict(df.groupby('Название товара')['is_positive'].mean())"
   ]
  },
  {
   "cell_type": "code",
   "execution_count": 213,
   "metadata": {},
   "outputs": [],
   "source": [
    "rait_dict = {}\n",
    "raitings = np.array([3.5, 3.64, 3.7, 3.93, 3.8, 3.7, 4.03, 3.62, 3.63])\n",
    "probs = np.zeros_like(raitings)\n",
    "for i, k in enumerate(names):\n",
    "    rait_dict[k] = raitings[i]\n",
    "    raitings[i] /= 5\n",
    "    probs[i] = prob_dict[k]"
   ]
  },
  {
   "cell_type": "code",
   "execution_count": 214,
   "metadata": {},
   "outputs": [
    {
     "data": {
      "text/plain": [
       "9"
      ]
     },
     "execution_count": 214,
     "metadata": {},
     "output_type": "execute_result"
    }
   ],
   "source": [
    "len(raitings)"
   ]
  },
  {
   "cell_type": "code",
   "execution_count": 215,
   "metadata": {},
   "outputs": [
    {
     "data": {
      "image/png": "[encoded data removed]",
      "text/plain": [
       "<Figure size 432x288 with 1 Axes>"
      ]
     },
     "metadata": {
      "needs_background": "light"
     },
     "output_type": "display_data"
    }
   ],
   "source": [
    "plt.scatter(names, probs, c='r')\n",
    "plt.bar(names, raitings, alpha=0.5)\n",
    "plt.show()"
   ]
  },
  {
   "cell_type": "code",
   "execution_count": 178,
   "metadata": {},
   "outputs": [
    {
     "data": {
      "text/plain": [
       "{'Антидепрессант APOTEX Inc. \"Апо-Флуоксетин\"': 0.5,\n",
       " 'Антидепрессант Sun Pharma \"Флуоксетин. Продеп\"': 1.0,\n",
       " 'Антидепрессант Алси-Фарма Флуоксетин': 0.5,\n",
       " 'Антидепрессант Биоком Флуоксетин': 0.5862068965517241,\n",
       " 'Антидепрессант Варикозон \"Флуоксетин\"': 0.3333333333333333,\n",
       " 'Антидепрессант ГНЦЛС \"Флуоксетин\"': 0.6,\n",
       " 'Антидепрессант Ланнахер \"Флуоксетин\"': 0.46153846153846156,\n",
       " 'Антидепрессант Озон \"Флуоксетин\"': 0.4491525423728814,\n",
       " 'Препарат Канонфарма Флуоксетин': 0.44}"
      ]
     },
     "execution_count": 178,
     "metadata": {},
     "output_type": "execute_result"
    }
   ],
   "source": [
    "prob_dict"
   ]
  },
  {
   "cell_type": "code",
   "execution_count": 184,
   "metadata": {},
   "outputs": [
    {
     "data": {
      "text/plain": [
       "<matplotlib.collections.PathCollection at 0x1511574c0>"
      ]
     },
     "execution_count": 184,
     "metadata": {},
     "output_type": "execute_result"
    },
    {
     "data": {
      "image/png": "[encoded data removed]",
      "text/plain": [
       "<Figure size 432x288 with 1 Axes>"
      ]
     },
     "metadata": {
      "needs_background": "light"
     },
     "output_type": "display_data"
    }
   ],
   "source": [
    "plt.scatter(rait_dict.values(), rait_dict.keys(), color='r')\n",
    "plt.scatter(prob_dict.values(), prob_dict.keys(), color='b')"
   ]
  },
  {
   "cell_type": "code",
   "execution_count": 352,
   "metadata": {},
   "outputs": [
    {
     "data": {
      "image/png": "[encoded data removed]",
      "text/plain": [
       "<Figure size 432x288 with 1 Axes>"
      ]
     },
     "metadata": {
      "needs_background": "light"
     },
     "output_type": "display_data"
    }
   ],
   "source": [
    "# my_dpi = 96\n",
    "# plt.figure(figsize=(800/my_dpi, 800/my_dpi), dpi=my_dpi)\n",
    "plt.scatter(probs,names, color='r', alpha=1., label='Dostoevsky')\n",
    "plt.barh(names, np.array(raitings), alpha=0.5, label='Otzovik')\n",
    "plt.xlabel('Рейтинг')\n",
    "plt.legend(loc='best')\n",
    "plt.savefig('rait.png')\n",
    "plt.show()"
   ]
  },
  {
   "cell_type": "code",
   "execution_count": 217,
   "metadata": {},
   "outputs": [
    {
     "data": {
      "image/png": "[encoded data removed]",
      "text/plain": [
       "<Figure size 432x288 with 1 Axes>"
      ]
     },
     "metadata": {
      "needs_background": "light"
     },
     "output_type": "display_data"
    }
   ],
   "source": [
    "# df.groupby('Название товара')['positive'].mean().plot.bar()\n",
    "# df.groupby('Название товара')['negative'].mean().plot.bar(color='y')\n",
    "df.groupby('Название товара')['is_positive'].mean().plot.bar(color='g', alpha=0.5)\n",
    "plt.scatter(names, raitings, color='r')\n",
    "plt.show()"
   ]
  },
  {
   "cell_type": "code",
   "execution_count": 148,
   "metadata": {},
   "outputs": [
    {
     "data": {
      "image/png": "[encoded data removed]",
      "text/plain": [
       "<Figure size 432x288 with 1 Axes>"
      ]
     },
     "metadata": {
      "needs_background": "light"
     },
     "output_type": "display_data"
    }
   ],
   "source": [
    "df.groupby('Название товара')['positive'].mean().plot.bar()\n",
    "# df.groupby('Название товара')['negative'].mean().plot.bar(color='y')\n",
    "plt.scatter(rait_dict.keys(), rait_dict.values(), color='r')\n",
    "plt.show()"
   ]
  },
  {
   "cell_type": "code",
   "execution_count": 218,
   "metadata": {},
   "outputs": [],
   "source": [
    "side_eff = [\"трев\", \"раздраж\", 'сон', 'голов', \"худ\", \"вес\", \"бол\", \"тошн\",\n",
    "               \"темп\", \"судор\", \"сып\", \"зуд\", \"озноб\", \"дрож\", \"мышц\", \"рвот\", \"вырв\"]"
   ]
  },
  {
   "cell_type": "code",
   "execution_count": 330,
   "metadata": {},
   "outputs": [
    {
     "data": {
      "text/plain": [
       "['Данный препарат Флуоксетин назначала моей маме врач-психиатр, как антидепрессант необходимый ей после смерти сына. Всегда огромной трагедией является неправильность, когда родители вынуждены хоронить своих детей и пережить подобное всегда очень трудно. Переживаниям матери потерявшей любимого сына, не было ни конца, ни края, поэтому пришлось обратиться к психиатру.',\n",
       " 'Все мнения верны, поскольку действует индивидуально. Напишу о своем опыте. У меня было три курса флу по 2-4 месяца. Первый раз прописал врач на фоне легкой депрессии. Потом сама себе прописывала ;-) Заодно похудела, что было для меня немаловажно. Отбивает аппетит, поднимает настроение. Это два огромный плюса для меня. Важно подобрать правильную дозировку. Как объяснял мне врач, настроение должно быть ровное со знаком плюс. Начала с 20 мг. Потом пила 30,40. Больше никогда не поднимала. Если решитесь принимать без рекомендаций врача, то начинайте с малого и прислушивайтесь к ощущениям. Прибавляйте дозу постепенно, если нет результатов. Я первую неделю пила 20, потом 30, еще через неделю подняла до 40. Поняла, что больше не надо. Настроение норм, аппетит слабый. Последний курс пила по 20 мг, поняла, что больше не нужно. Синдрома отмены нет абсолютно. Препарат медленно выводится организмом, поэтому абсолютно ничего не обычного не чувствуется. Я просто прекращаю его пить и продолжаю жить обычной жизнью. Прекращаю, когда понимаю, что он больше пока не нужен: настроение в норме, вес тоже. ',\n",
       " 'Были одно время небольшие расстройства, бессонница, страшные сны.',\n",
       " 'Думала, что у меня проблемы с кардиологией, не могла ездить на общественном транспорте на протяжении семи лет, не могла находиться в замкнутых и людных помещениях, поднималось давление, начинало бешено биться сердце, казалось что не хватает кислорода, темнело в глазах, бросало в пот и все это сопровождалось диким страхом. ',\n",
       " 'Пью флуоксетин уже две недели на фоне постоянного невроза. Начитавшись отзывов, очень боялась начинать его пить. Но все же решилась. И, к моему удивлению, ничего не ощутила, что пью, что не пью его. Пробовала увеличить дозировку до 30 мг два раза в день, все равно нет эффекта. Сначала думала, что может быть купила подделку, но приобрела фруоксетин уже в другой аптеке. Изменений так же никаких. Валерианка и пустырник и то лучше помогают. ',\n",
       " 'Полезное и в принципе не дорогое средство от расстройства, нервов. Успокаивает очень хорошо, не вызывает привыкание, и да действительно он способствует сбрасыванию веса. Принимая его вы можете очень сильно похудеть, по этому в инструкции написано для людей у кого есть предрасположение к анорексии нужно принимать аккуратно. ',\n",
       " 'Поделюсь и я. На работе случилось сокращение, на нервах обострилась язва желудка, короче, сидела дома и жрала. Ночами не спала, только и думала, как жить, да как кредит выплачивать. Флуоксетин посоветовала подруга, которая, оказывается, сидит на нем (внимание!) 12 лет!!! Пьет по году, иногда по 8-10 месяцев, потом делает небольшой перерыв и опять пьет. Пьет по одной таблетке в день по 20 мг после завтрака. Я начала пить также. Утром тарелку овсянки, потом таблетку и вперед, к новым свершениям! )) Пью около месяца, похудела на 8 кг. Но не из-за того, что аппетита совсем уж нет, просто он уменьшился и я, наконец, смогла его КОНТРОЛИРОВАТЬ! Смогла сесть на диету \"Пять ложек\" и придерживаться её! Раньше я и думать не могла, что смогу питаться, и, главное, НАЕДАТЬСЯ! такими маленьками порциями, как 200 грамм! Мне и полкило мало было зачастую! ',\n",
       " 'Врач назначил мне антидепрессант Флуоксетин, так как у меня панические атаки возникали каждый день. Естественно я думала, что долго так не протяну)).',\n",
       " 'Уже почти полгода принимаю Флуоксетин. Полностью перешла на фирму Озон.',\n",
       " 'Никогда не принимала лекарственных препаратов сильнее персена и аспирина. ',\n",
       " 'ребята не знаю как на вас подействует, но я чуть не сдох итак, начал принимать по 40мг сначало в первой неделе ходил бодрячком, настроение отличное но уже на второй неделе начались проблемы сильная сонливость, затуманливает сознание вечно в непонятках ходил как будто мозг отключается просто мозг да такой степени затупливается, нету сил, сильное потоотделение повышенная температура 38.7. а я в это время еще принимал думал пройдет, родители говорили бросай пить эту фигню, а я пил и пил думал нервишки подлечу. и в конце концов попал в реанимацию 3 суток под системой валялся. потом выписали лечещий врач поставил диагноз сиротиновый синдром сказали мог быть летальный исход. и сказал без разрешения невролога строго НЕ ПРИНИМАТЬ!!!!',\n",
       " 'Всем Доброго времени суток.',\n",
       " 'Доброго всем здоровья! ',\n",
       " 'Этот препарат мне назначил врач- психиатр, выписал рецепт. Флуоксетинов в аптеке было очень много и все стоили по-разному.',\n",
       " 'Я себе \"выписала\" этот Флуоксетин сама - врачи прописывали мне другие антидепрессанты, большинство из которых имеет однозначно не подходящий мне побочный эффект - запор. Единственное исключение - Иксел - тоже хороший препарат, даже лучше Флуоксетина, но на 2 порядка дороже, я себе такого позволить не могу. Пить Флуоксетин просто для того, чтобы худеть, по-моему, странно (хотя многие тут об этом пишут) - лично на моём весе он никак не отражается, просто хожу в туалет нормально и всё. ',\n",
       " 'Дорогие девушки, желавшие похудеть с помощью этого препарата, не глупите! Зачем портить свое здоровье??? Я повелась на отзывы в интернете, мол \"Отбивает аппетит\", \"Сбросила вес!\" и купила этот препарат, мне удалось сделать это и без рецепта... Действие началось на 3 день после приема... Да, мне не хотелось есть, но при этом я ещё и не могла спать нормально, болела целыми днями голова и стала как зомби! Не стоит ради фигуры гробить здоровье! Не занимайтесь самолечением! Если вас беспокоит что-то в вашем пищевом поведении посетите врача! А ещё очень тяжело отказываться от этого препарата, состояние не из лучших... Мучает больв суставах, головная боль, тошнота... В интернете позже прочла, что были и случаи самоубийств во время отказа...!',\n",
       " 'Данный препарат-антидепрессант группы СИОЗС (селективных ингибиторов обратного захвата серотонина), правда другого производителя, вытаскивал меня из депрессии несколько раз.',\n",
       " 'Лишний вес и депрессия есть не у каждой женщины после 30, но у многих. Я - не исключение. Ситуация усугубляется еще и привычкой\" заедать\" проблемы и тревоги... Еще недавно я убеждала всех, что принимать подобного рода препараты -вредно и опасно. Но, чего греха таить, попробовала принимать \"Флуоксетин\" сама... О результатах тридцатидневного приема вам сегодня поведаю...',\n",
       " 'Приветствую вас, друзья и читатели)',\n",
       " 'Случились два года назад некие события жизненные, что повлекли устойчиво низкое настроение, апатию и нежелание вставать с кровати по утрам и жить. Тогда я, как настоящий экспериментатор, подумала, что помощью могут стать антидепрессанты. Флуоксетин-это очень дешевый российский аналог Прозака, что популярен за границей. ',\n",
       " 'Остеохондроз страшная и не приятная вещь, скажу я ВАМ, дорогие мои. Эта коварная болезнь маскируется под другие еще более страшные болячки. ',\n",
       " 'От нафтизиновой зависимости у меня начались панические атаки, а они в свою очередь спровоцировали сильнейшую депрессию, дереализацию. Что я пережила наверное до конца может понять только человек переживший что то подобное. Мир из цветного превратился в чёрно белый, полная потеря смысла жизни, беспричинная тоска от которой хоть на стену лезь, хоть волком вой, посещали суицидальные мысли так как выдерживать такое состояние уже не было сил, чувство безысходности и так изо дня в день, плюс ко всему временами наступала дереализация которая стирала грани реальности и казалось что сходишь с ума. Ни кому не пожелаю такого, это УЖАСНО. Я обратилась к психотерапевту которая выписала мне \"Золофт\" после первого же приёма этого препарата все мои симптомы усилились в разы, это чудо что я после приёма этого лекарства осталась жива, он категорически мне не подошёл и это притом что я приняла его в минимальной дозировке по совету врача я начала приём с 1/8, а что было бы если бы я выпила целую таблетку ? В интернете я случайно наткнулась на один из отзывов о препарате \"Флуоксетин\" исходя из предыдущего горько опыта по принятию антидепрессанта мне было очень страшно пробовать ещё один, но так как терять мне было нечего я решилась попробовать и после первого же приёма произошло ЧУДО по другому я просто не могу это назвать, я вдруг как будто пробудилась от кошмарного сна увидела солнышко, мир вокруг снова стал красочным я не могла сдержать слёз радости, счастье буквально переполняло меня, моему восторгу просто не было предела, \"Флуоксетин\" вернул меня к жизни когда я почти уже потеряла всякую надежду. Мне \"Флуоксетин\" подошёл на все 100 % Принимала я его только утром 1 раз в день в первую неделю по одной таблетки, начиная со второй недели я начала принимать по 2 таблетки с третий недели принимала по 3 таблетки, в общей сложности принимала 1 месяц. Либидо во время лечения пропало полностью, но после лечения всё вернулось и стало даже лучше чем было до. А вот на аппетит в моём случае ни как не повлияло и ещё как бонус который мне очень понравился и сохраняется до сих пор это, то что мне стало достаточно для того чтобы выспаться 7 часов, до этого мне и 10 было мало.',\n",
       " 'Всем доброго времени суток!',\n",
       " 'Начала пить по назначению врача, был невроз и что-то там еще. Спать не могла, работать не могла, в общем- было очень плохо. Эффект от Флу почувствовала дня через 3-4, и через недельку состояние практически нормализовалось. Пропила месяц и только после этого начала РЕЗКО худеть. За все время (1,5 мес) похудела на 7 кг. Если не следить за питанием и не держать потом вес - все возвращается обратно! Аппетита реально нет, просто не думаешь о еде и кушаешь когда действительно необходимо. Под Флуоксетином идеально БРОСАТЬ КУРИТЬ! Курить не хочется вообще, сигаретная вонь даже противна.',\n",
       " 'Отличное средство при сильных стрессах и депрессии. Было время когда сильно хотелось мне похудеть и я постоянно сидела на различных форумах, сайтах, группах Вконтакте... Все там постоянно говорили о каком-то чудо-препарате называемом \"Флуоксетин\". Ну и решила я попробовать. И не зря! Кушать после него действительно не хочется, настроение отличное. К тому же цена довольно не большая. Второй раз решила его пить во время сессии, а точнее перед ней. Переживаний из-за экзаменов не было вообще! Так что сдать сессию оказалось делом не сложным, так как все проблемы из-за переживаний. ',\n",
       " 'Раньше я думала, что депрессию выдумали ленивые американцы, что бы на нее сваливать свою лень. Но недавно с ней я встретилась сама. При том, что депрессия меня захлестнула, когда казалось бы в жизни все стало налаживаться. ',\n",
       " 'Мне посоветовала коллега этот препарат, ей в период сессии он очень помог держать себя в руках, ничего не успевала, не высыпалась, нервничала итд. Я прочитала состав, побочные эффекты, почитала отзывы и решилась наконец то)) начала принимать утром по 1 капсуле о еды. Буквально через пару недель почувствовала, что раздражительность как рукой сняло.',\n",
       " 'В своем стремлении похудеть быстро и без особых усилий я наткнулась, на просторах интернета, на этот препарат антидепрессант \"Флуоксетин\". Предварительно я прочитала не мало положительной информации о нем. Отзывы в основном были такие \" и настроение хорошее всегда и худеешь\". Прочитала так же, что достать его без рецепта практически не возможно. Но я было уверена в себе и мое желание похудеть было выше всех преград))) Итак, в первой аптеке мне его не продали, так и сказали, что только по рецепту, но рядом, в аптеке напротив я прикупила 2 коробочки без особых усилий. Начала пить на следующий день утром, перед работой ( необходимо принимать по 1 таб. по утрам). Первый день-ничего, аппетит как всегда, настроение тоже. Второй день-уже к 11-00 часам на работе со мной начали происходить странные странности... точнее с организмом моим. Сложно передать это словами, но я попробую. Впечатление такое будто тебе оооочень весело, вот когда выпьешь прилично и тебе весело, но тогда ты понимаешь, что пил и все очевидно, а здесь вот это офигенное веселье, но ты понимаешь что не пил и от этого тревожность... Веселье, возбудимость и тревожность... Ехала я домой ( за рулем), так сказать \" огородами\", т. к. внимание рассеяно и собрать себя в кучу очень сложно... Дома с мужем сели и еще прочитали отзывы, и там они были уже не такие восхищенные) Они больше пугающие, про слегка потерянный рассудок, суицид как последствие. Вывод такой, возможно для людей, которые страдают депрессией и подобными растройствами, препарат поможет и как побочкой будет похудение, но здоровым людям категорически не рекомендую.',\n",
       " 'Флуоксетин довольно дорог, а для меня это важно, при чем при пропивании этого препарата мое состояние ухудшилось, появился озноб, дикая слабость, я вообще перестала есть Дикая ТОШНОТА, пришлось переходить на другой препарат Нейрофуолл кажется он действует стабильно и его можно сочетать с алкоголем ( ссори за такие подробности но на выходных иногда так хочется да праздники, дни рождения, увы без этого никак) я конечно знаю что не желательно но с другими таблетками вообще категорически нельзя',\n",
       " 'Препарат флуоксетин мне назначил врач. Я жаловалась на нервозность, постоянно плаксивое настроение, депрессию, головные боли и тяжесть в голове. Назначил не просто так, а после ряда анализов.',\n",
       " 'Я пила Флуоксетин 8 дней, по одной капсуле, у меня были перемены настроения, приступы агрессии или обиды, депрессивное состояние. Мне помогло, я стала уравновешенной в хорошем настроении короче нормальным человеком, но потом я поняла что за 8 дней у меня 3 раза были ночью панические атаки тяжелые сны и потом бессонница, хотя раньше я страх необоснованный вообще не испытывала никогда, днем то все хорошо а вот ночью только засну что-то приснится и паника накрывает и не сплю потом, умом понимаю что это бред а тело так реагирует как будто реальная угроза жизни - одышка, тахикардия, страх почти до потери сознания, я в шоке вообще. бросила пить флу буду лучше сама бороться со своим характером бешеным, чем вот такое терпеть, я уже боюсь ложиться спать. ',\n",
       " 'Никогда не думала, что буду использовать это средство. Я знала о нём давно, начиталась на различных пабликах, где идеалом красоты являются девушки с минимальным количеством веса, то есть анорексички. Они используют данный препарат в целях похудения, чтобы переносить диеты проще и иметь ощутимый эффект. Я не буду говорить о том, что думаю на этот счёт, и всё же это препарат не предназначен для этих целей. ',\n",
       " 'На флуоксетин я наткнулась случайно и довольно давно. Я хорошо была наслышана о его свойствах, как средства для похудения, однако мало где слышала о его свойствах антидепрессанта, но без лишних раздумий решила попробовать на себе. Как раз и момент был подходящий: ужасная подавленность с периодическими истериками. К тому же похудеть я тоже на тот момент очень хотела, и \"Флуоксетин\" был очень даже кстати',\n",
       " 'Не советую пить флуоксетин ради похудения. Если с психикой все нормально, то он может ее подпортить.',\n",
       " 'Начала принимать ооочень давно, принимать начала для похудения, но что порадовало и от депрессии он меня тоже спасал. Принимала флу российского производителя(за 38 рублей). От него подташнивало, а иногда был противный привкус в горле (как-будто порошок в горле). Я похудела тогда очень, кг на 10 точно. И перестала принимать. Прошло 2 наверное года и решила снова начать пить от депрессий. Опять пила российского производства, опять эта тошнота. Пошла в аптеку и был только флу Ланнахер. взяла. Я ПРОСТО СЧАСТЛИВА!!!! никакой тошноты, за 2 недели похудела на 7 кг и продолжаю худеть, настроение отличное!',\n",
       " 'так как я страдаю компульсивным расстройством, то мне оно помогает) аппетит снижает, и я не жру, как свинья) хотя до этого каждый день в себя впихивала тонну еды. Лучше ни с какими лекарствами не принимать, а пить отдельно, чтобы хуже не было.',\n",
       " 'Связи с депрессивный расстройством средней средней степени врач назначил этот препарат. Это был первый опыт приёма сиозс. В первые дни приёма появился какой-то туман в голове, усилилась тревога, вплоть до лёгких ПА. ',\n",
       " 'всем привет. Я болею анорексией уже 4 года. Лечение было разное. И стационарное и медикаментозное, ходила к психологам... но увы ничего не помогло. Вот когда лежала в больнице этим летом, то мой врач-психотерапевт выписал мне \"Флуоксетин\"... хотя раньше я слышала, что его принимают больные булимией или шизофренией. У меня не было подобных симптомов именно этих болезней, но депрессия и полный отказ от пищи присутствовал. Я ненавидела себя за каждый съеденный кусочек, не общалась с людьми, хотела быть наедине с собой. И еще очень бурно на все реагировала и часто плакала. Когда начала пить \"Флуоксетин\"... то в первые дни чувствовала себя лучше. Меньше нервничала, улыбалась, спать стала лучше... даже аппетит немного появился. Но это все только длилось увы несколько дней(Даже когда дозу увеличили. все равно эффекта ноль. ',\n",
       " 'Принимаю не по рецепту, поэтому скажу сразу, что с врачом не консультировалась, и все, что могу далее сказать - исключительно мое мнение и оценка, а не медицинские советы. ',\n",
       " 'Мой флуоксетин! ',\n",
       " 'Флуокситин.',\n",
       " 'На фоне депрессии поймала в общественном месте сильную паническую атаку. Я не сталкивалась ранее с психологическими проблемами и даже не знала что у меня депрессия, думала это такая же выдумка как дизбакториоз... Но, испытала на себе превратности депрессии. ',\n",
       " 'Много лет меня мучает раздражительность и депрессия. В последнее время случилось очень много стрессов в моей жизни. Мучали так же периодические приступы жора.',\n",
       " 'Несколько лет страдала от разных видов недомоганий:усталость, головные боли, боли в спине, сердцебиение, судороги, лицевая невралгия, остеохондроз. Ходила по врачам, ставили уколы с витаминами и какими-то препаратами, но облегчение наступало не на долго. Тогда меня показали профессору, который и поставил диагноз: депрессия. Назначил лечение, но оно оказалось малоэффективно: боли становились всё сильнее, а от усталости я по нескольку дней не могла встать с кровати. Нашли мне другого врача которая выписала мне новое лечение- эффект был недолгим. Переехав в Новосибирск, я поняла, что из-за своего недомогания я не могу даже работать и закрыла свой бизнес. Уборка по дому вырубала меня дня на 2. Вопрос со здоровьем встал очень остро : иногда вызывала скорую, но врачи разводили руками, говорили, что они здоровых не лечат и рекомендовали витамины. Каждые 2 года я проходила диспансеризацию. Нашла доктора, который поставил диагноз и выписал мне Флуоксетин. Я понимала, что можно впасть в зависимость, что могут быть последствия... но тогда вопрос стоял так: \" Или ногу отрезать, или сама отвалится\"- из двух зол пришлось выбирать меньшее. Ведь у меня на руках несовершеннолетний ребёнок и его надо вырастить и выучить. Принимаю уже 1,5 года. Облегчение почувствовала после 1 месяца приёма, когда зашла в большой супермаркет в котором у меня раньше начиналось сильнейшее головокружение и тошнота( как будто на сильной карусели тебя крутят). Симптомы стали мягче. В течении года почти прошли боли и судороги, общее состояние улучшилось. Я смогла устроиться на работу. Принимать Флуоксетин буду ещё года полтора- так сказал врач. Препарат продают только по рецепту и то не во всех аптеках. Говорят, что он способствует похудению- на меня это не действует, килограммы не уходят.',\n",
       " 'Мне назначил Флуоксетин врач психотерапевт, в комплексной терапии с психотерапевтическим лечением. Эти таблетки я принимала два раза в день утром и в обед. Меня хватило на три дня. Три бесконечных дня жуткой депрессии, постоянной истерики, нежнлания жить. Хотелось орать на всех, говорить обидные слова и кинуться драться. Вот такая реакция у меня возникла на прие этого препарата. Я выжидала время, думала это просто побочный эффект первых дней, как это обычно бывает, но после трех дней этого кошмара, мне стало за себя реально страшно. Я смотрела на свою маленькую дочь и рыдала, что я умру, а она одна останется. После отмены Флуоксетина, все потихоньку стало восстанавливаться насколько это было возможно. Главное мысли о суициде меня покинули. После этого дала себе слово бороться с неврозом без таких серьезным медикоментов.',\n",
       " 'Привет! Хочу рассказать как я села на этот препарат. Год назад был тяжелый период: уволилась с работы, депрессия, лишний вес... Все это вынудило меня поискать в интернете какой-нибудь сильный антидепрессант. ',\n",
       " 'Начала принимать около полугода назад, с промежутками. Из-за того, что отбивает аппетит, чтобы похудеть. Эффект появился где-то через неделю, аппетита не было и настроение улучшилось. Не знаю из-за таблеток или нет, появилась головная боль сильная. Я испугалась и перестала их пить. Через месяца 2 снова начала. Вроде с головной болью проблем нет. Настроение отличное, стала меньше нервничать. Я заметила, что от производителя зависит их качество. ',\n",
       " 'Всем привет!',\n",
       " 'Врач назначил Флуоксетин как антидепрессант . У меня Панические атаки и голова тяжелая, тревога. После 1 приема ничего не поменялось. Все было так же только с каждым днем все хуже надеялась что пройдет. Далее жуткая потливость при чем ночью особенно сильно, майку хоть выжимай. Таблетку принимала утром. После приема 4 таблетки ночью стало еще хуже при чем спать я стала очень плохо просыпалась до 8 раз. Я встала в 5 утра и у меня начался жуткий приступ(вся покрылась потом, сердце выскакивало из груди я побелела и чуть не потеряла сознание). Спасибо 40 кап ВАЛОКАРДИНА спасли меня !!! Утром я эту дрянь выбросила и еще целый день ужасно чувствовала себя. Вот такой депрессант . Может кому пригодиться мой отзыв.',\n",
       " 'Купила с целью похудеть. Сидела на диете, в целом мне нужно было скинуть 5-7 кг, до этого скинула 2, и еще 2-3 скинула с флу. Эффект заметен с 1го приема, через несколько часов и на протяжении нескольких дней было странное состояние ( не скажу что оно плохое) какой-то придавленности... что-то похожее на седативный эффект, но в легкой форме. Также потеря аппетита, вроде кушать хочется и по времени уже пора, но с легкостью можно к примеру пропустить обед. ',\n",
       " 'Многие из нас когда-нибудь но задумывались, как легко и без срывов, стрессов похудеть. Исследовав множество сайтов я наткнулась на это лекарство.',\n",
       " 'Стал принимать данный антидепрессант в связи с затяжной депрессией. Сама депрессия отмечалась пониженным эмоциональным фоном, чувством отрешенности, внутренним дискомфортом, беспокойством, тоской, ощущением безысходности, нежеланием вести активную деятельность. Вообще флуоксетин очень популярно назначаемый препарат по всему миру. У него очень доступная цена, если брать именно флуоксетин, а не прозак. Делает тебя стрессоустойчивым, радости и невзгоды начинаешь воспринимать одинаково спокойно. Этот антидепрессант обладает стимулирующим эффектом. Не подойдет людям со склонностью к диарее. Не подойдет людям, склонным к худобе, так как может сильно отбивать аппетит. Уходит чувство тревоги и усталости. Начинает требоваться меньше сна для восстановления. На все дела хватает сил. Начинаешь спокойно и открыто реагировать на людей и их просьбы. От данного антидепрессанта мне пришел отказаться, т. к. вызывал расстройства живота (приходилось бегать в туалет по 4- 5 раз в день). Стал терять вес, а я и так склонен к худобе. Флуоксетин немного снижал концентрацию, внимание и скорость реакций. По ощущениям, на работу сердечно-сосудистой системы не влиял, давление и пульс не поднимались, аритмии не замечал. Применять данный препарат я начинал с 10 мг, потом перешел на 20 мг в сутки, выше дозировку не использовал. Очень жаль, что препарат давал побочные эффекты в виде проблем с ЖКТ, так бы я наверное продолжал его применение.',\n",
       " 'Начала пить флуоксетин чтобы стать чуточку добрее, была агрессивна и раздражительна на работе.',\n",
       " 'У всех в жизни бывают переломные моменты и иногда, мозг просто не в состоянии самостоятельно справиться во всем мусором, что в нем накопился. Все люди абсолютно разные. Кто-то хочет денег и власти, кто-то хочет вершин в карьере, кто-то мечтает найти дело всей своей жизни. А человек простой, деревенский. Я всего лишь хочу немного преисполниться в своем познании. И я хочу хоть чуточку спокойствия, умиротворения и душевного равновесия. Но это все предисловие...',\n",
       " 'В 2002 году у меня случился гипертонический криз, во время сдачи сессии, плюс после рождения ребенка, видимо нервная система дала сбой и случилась ЭТО. У меня были жуткие страхи, я не могла никуда ходить одна, а ездить тем более, десятки врачей были мной пройдены безрезультатно, пока я не попала к одному хорошему доктору. Пью лекарство третий год, ездию одна на машине на дальние расстояния, везде хожу, общаюсь, а то была как загнанная в угол мышь, боялась выйти из дома и просто боялась жить. Без назначения доктора конечно не стоит принимать Флоуксетин, но мне он подошел. И по цене не очень дорогой. В городах продается по рецептам, у себя в районе рецепт не требуют.',\n",
       " 'Пропила курс флуоксетина, сказать, что довольна-ничего не сказать ! были приступы агрессии, плаксивость, истероидные припадки. После приема эффект не сразу наступил, недели через две (+- пару дней), после этого постепенно пошли изменения, в лучшую сторону. единственное, что сразу наступило это отсутствие голода, что в принципе пошло на пользу(тк перестала есть после шести и как следствие похудела), вышла легко попыток суицида не было, наверное потому что все делала как врач говорил, но сразу скажу, что с целью похудения пить бы не советовала, так как все-таки серьезное лекарство, а не аскорбинка. В целом эффект порадовал, пила около 8 месяцев назад, конечно прежнего эффекта давно нет, но и прежние состоянии не вернулось.',\n",
       " 'После сложной ситуации в моей жизни, решилась на то, что бы начать пить антидепрессанты. По спорным советам в интернете выбрала для себя \"Флуоксетин\". Первое впечатление от этих таблеток были положительные, настроение заметно для меня улучшилось, пропала сонливость, и не было желания как обычно \"заесть горе\". Спустя неделю приема \"Флуоксетина\" аппетит вовсе пропал, еда вообще перестала быть приятной, даже наоборот. В плане сексуальных влечений так же появились изменения, грубо говоря не хочется уже ничего. Находишься в каком-то определенном состоянии, когда не хорошо и не плохо. В общем в итоге я добилась того, чего хотела, только это привело к сильному похудению.',\n",
       " 'Была тяжелая депрессия на фоне болезни около 4 лет, сначала пил Ремерон, но никаких изменений не было. Врач прописал Флуоксетин + Нейрофулол, и + много мочегонного чая для вывода из организма вредных веществ, через неделю стал чувствовать себя уже намного лучше, а потом и вовсе все прошло',\n",
       " 'Мне 19 лет, может кто и не воспримет в серьез, но я хочу поделиться эмоциями. Не могу сказать что я красавица ( вешу 66 при росте 167) и парни штабелями у моих ног, нет, это не про меня и это очень расстраивает, чувство что ты одинока и не желанна. Дальше поступление в институт и сдача эге были в моей жизни не так уж и давно, вы не представляете какой это стресс когда все родственники в ожидании за твое будущее и ты сам понимаешь или сейчас или все, ужасно просто. Собрала такой комплекс и я стала как комок нервов, при малейшем касании я взрывалась. Поэтому после поступления я начала пропивать комплекс Флуоксетин и Нейрофулол ( начиталась отзывов) помогло, а то я уже незнала что делать и апатия, бессонница, тошнота, море негатива, но все прошло и кстати девочки Флу действительно помогает сбросить вес :) ',\n",
       " 'препарат начала принимать года три назад, теперь переодически принимаю, самый длительный период приема пол года. От него худеешь, есть не хочется, как в принципе не хочется много: есть, пить алкоголь, курить, напроч не хочется секса, вообщем становишься таким зомби... Но это только на начальной стадии применения (где то месяц ), потом все нормализуется и побочки проходят, стала более сдержана, прошла тревога, страхи, уныние. Но сразу скажу препарат очень сильный и принимать его нужно осторожно, может менять человека и в лудшую и в худшую стороны. Реальный эфект приходит после длительного применения. Нормализует сон и да... это правда, что говорят о флу... начинаешь видеть цветные сны, хотя давно уже не снились. Не рекомендую для худеющих !!! Снесет крышу. ',\n",
       " 'Когда я перестала справляться в жизненными трудностями, то ушла в депрессию и сама тушить сама себя непонятными мыслями, совершать неразумные поступки, от которых становилось только хуже. Когда трудности окончательно подмяли меня, то было принято решение принимать флуоксетин. На пятый день приема в голове как будто влючился свет. Улучшилось сумеречное зрение, пропали блики и близорукость, я всю жизнь думала, что это побочка от операций, а оказалось что на нервной почве. Все последующие дни я просто воспарила. Стала улыбаться, двигаться. Иногда хотелось спать. Пропал напрочь аппетит. Отношение к еде изменилось кардинально. Я просто стала смотреть на нее как источник сил и энергии, но не эмоциональный заполнитель желудка ради удовольствия. Дальше больше. Дистанции на стадионе стали в два раза длиннее без намека на усталость. Радости от таблеток не было предела, что многие приняли это за манию и побочный эффект. Сейчас я так не считаю, просто до этого момента я жила в психонасилии и футляре. Теперь его нет. Как-то легче двигаться, искать решения и вообще жить. Из побочных эффектов - ранние подъемы, бессоница, на первых порах что-то вроде глюков перед сном, не хотелось есть. Со временем это уходит. А в сочетании с нейролептиками может и не появиться вовсе. Если врач прописал Вам эти таблетки, не бойтесь, принимайте. Если чувсвствуете, что разогнались, то пропускайте дозу или уменьшайте. Я смело высыпала капсулу. ',\n",
       " 'Начну с того, что в моей жизни было очень много сложных периодов, депрессий, когда привычные средства(валериана, пустырник) не давали никакого эффекта кроме сонливости. Но к врачам по этой части я никогда не обращалась, боялась. ',\n",
       " 'Действие Флуоксетина основано на активизации в организме серотонина, гормона радости. Поэтому его назначают именно от депрессии в первую очередь. Жаль только, что не всем это лекарство помогает. ',\n",
       " 'Начнем с того, что как и любой медикамент, Флуоксетин требует направление и рецепт врача. Ранее на данный медикамент требовался рецепт в аптеке, но в данный момент его продают и без рецепта... Данный препарат предназначен для борьбы с пищевыми нарушениями: булимия и т. д. А уже потом как обычный антидепрессант. Однако, как специалист по девиантному поведению в частности пищевых нарушений, по личному опыту и по опыту людей принимавших данный препарат можно сказать, что он не ведет борьбу с болезнью, а лишь на время притупляет чувство аппетита, что дает иллюзию борьбы с проблемой. Точно также как и эффект плацебо здесь играет роль самовнушение. Побочные действия со стороны нервной, имуной, пищеварительной системы яро наблюдаются. Не принимайте всякую гадость, а обращайтесь к психологам и психотерапевтам. Берегите себя!!!',\n",
       " 'Мне не подошел к сожалению. Судя по отличным отзывам которые я читаю, тут дело во мне, препарат вызывает сонливость сильную, хотя по идее должно быть наоборот. Терпеть эту побочку я не могла, пришлось бросить через месяц, т,к экзамены, и сон днем вобще не кстати. ',\n",
       " 'Приняла таблетку не по назначению и чуть не съехала с катушек. Было мне тогда лет 13-14 и решила я похудеть с помощью этих «чудесных» таблеток. До этого я ещё принимала слабительные, мочегонные таблетки и также у меня была булимия в течении месяца. Прочитала я об флуоксетине в паблике «типичная анорексичка» там мне обещали потерю аппетита и быстрое снижение веса благодаря побочкам. ',\n",
       " 'Безуспешно пробовала несколько а/д, помог только Флуоксетин. В начале приема препарата была эйфория, но затем настроение стало ровным, спокойным и радостным. Отупения и сонливости, которые были на других антидепрессантах, за собой не заметила. Реально действующий препарат, вытащил меня из глубокой депрессии. Принимаю несколько месяцев, эффект пока идет по нарастающей. Готова вообще всю жизнь его пить, такой счастливой, как сейчас, я была только в детстве. Отметка на весах приятно радует.',\n",
       " 'В январе 2012 я решила что у меня депрессия и лишний вес, пообщавшись на форуме для таких же худеющих как и я, без назначения врача я решила худеть на флуоксетине.',\n",
       " 'В первый раз я попробовала флу, когда долго мучилась с головной болью, и мой врач прописал мне его, чтобы я меньше нервничала, соответственно меньше болела голова. Когда я начала его пить, то сразу почувствовала, что чувство голода абсолютно ушло. ',\n",
       " 'Всем привет, хочу поделиться информацией об этом препарате, мне он очень помог улучшает настроение прилив сил, улучшает физическое самочувствие. Я начал легко общаться с людьми ко мне они сами потянулись как магнит. Препарат увеличивает концентрацию внимания, снимает тоску, спать начал хорошо, негативные мысли больше не тревожат. Действие начинается после 2х недель начала приёма. В общем препарат очень хороший. Рекомендую. Многие пишут что препарат плохой, что симптомы депрессии увеличиваются. Нельзя принимать его без назначения врача. Обязательно нужна консультация. И желательно найти грамотного психолога чтобы он поставил правильный диагноз вашего заболевания. Всем желаю удачи и благополучия)))',\n",
       " 'Полгода назад стала принимать флуоксетин по 20мг утром. Хотелось похудеть и не нервничать. Кроме сонливости ничего не вышло. Бросила через месяц. Подрагивали руки неделю. ',\n",
       " 'Про Флуоксетин я узнала в интернете, когда искала волшебные средства для похудения. Много отзывов о том, что с помощью этого антидепрессанта худеют. Естественно и мне захотелось испытать на себе эти чудо пилюли. Скажу сразу Флуоксетин флуоксетину рознь, то есть многое зависит от фирмы производится. Сейчас речь пойдет о флу производства фирмы \"Озон\". ',\n",
       " 'Флуоксетин, хороший антидепрессант, не поспоришь, и первое время замечаешь в нем только плюсы и кажется, что все уже хорошо, но проявляются все новые и новые подробности, со временем появляется привязанность, пропадает желание кушать и чем-то заниматься, появляется жуткая апатия и вот после этого понимаешь, что такое \"побочный эффект\", когда тебя с них снимать приходится уже с трудом и чувство голода в итоге становится редким явлением, ах да, совсем забыла, так же благодаря нему происходит резкая потеря веса, сначала скидываешь немного, но в итоге доходит до того, что в зеркало страшно смотреть и после этого тяжело набрать вес снова. Так что, мой совет, пить флуоксетин в крайних случаях и не перебарщивать, либо будет как у меня, а потом к прежней жизни тяжело вернуться)',\n",
       " 'Обращалась с головной болью, прошла все круги ада выясняя в чём причина... Невролог назначила мне флуоксетин (сказала причина головной боли в затяжной депрессии). Пила по инструкции-это был кошмар! Я не жила, а существовала... Ела, спала, сознание замутнённое-как то ещё работала. Исхудала до костей! Вообщем и головные боли не прошли, и прошла такое испытание! Умоляю не пейте что бы похудеть! Уж пусть лишний вес, но здоров!',\n",
       " 'Флуоксетин я назначила себе сама без консультации врача, до этого антидепрессанты никогда не принимала и имела смутное представление о них.',\n",
       " 'В последнее время мучила тревога, неврозы, ничего не хотелось... Не посоветовавшись с врачом, почитала в интернете и купила антидепрессант Флуокситин. ',\n",
       " 'Склонность к депрессиям у меня была с детства. А одна за другим череда трагических событий в жизни и проблемы на работе привели к тому, что я стала очень нервной. Если учесть, что я работаю с людьми, и меня стало раздражать всё и вся, то проблемы стали накапливаться как снежный ком. Когда после одной неосторожной фразы я проплакала несколько часов, поняла, что мне нужен успокаивающий препарат. Я попробовала \"Бифрен\" - мне не понравился. Многие успокаивающие препараты вызывают снижение давления, что мне было противопоказано. И тогда мой выбор пал на \"Флуоксетин\". Прочитав массу негативных отзывов, со страхом выпила первую таблетку... На следующий день ухудшился аппетит. Больше никакого эффекта особо не увидела.',\n",
       " 'Имея сильную сопротивляемость к препаратам, для меня Флуоксетин подошел идеально. Снизился уровень тревожности, ушла та мерзкая излишняя эмоциональность, словом, я ожила.',\n",
       " 'Этот препарат известен многим девушкам, так как они мечтают похудеть. Но я его покупала не для этих целей. Мне выписал врач, на мой диагноз - Биполярное-расстройство 2-го типа. Помимо него последние пару месяцев я ничего не принимала, поэтому могу с точностью сказать, что эффект от него есть, но... Обо всем по порядку.',\n",
       " 'почти 3 месяца сидела на флу (флуоксетине если быть точнее). Первое время с организмом все зашибись, счастье, хорошее настроение, есть абсолютно не хочется, поэтому худела очень быстро, привыкания как таковго не чувствовалось.',\n",
       " 'Только всегда читала отзывы делиться было нечем. Сейчас попробую написать о себе. Десять лет в депрессии... это счет только от времени когда положили в больницу, сколько она у меня была до этого я и не знаю Просто в больницу попала уже в тяжелом состояние... четыре долгих месяца была в больнице. ',\n",
       " 'Сидела в группе и все нахваливали флуоксетин ! Ну думаю попробую ! И что ж ... Не работает. Так еще и провалы в памяти появились. Не рекомендую. ',\n",
       " 'Таблетки помогают, но имеют очень много побочных действий, кушать не хочется, только при взгляде на еду начинает тошнить, с алкоголем вообще не совместимы, память отрубает полностью, вокруг кажется что люди медленно ходят и это начинает бесить',\n",
       " 'Врач прописал при эндогенной депрессии. Принимала около месяца, желание заниматься сексом отбилось напрочь, врач, сказал, что этот побочный эффект наблюдается у трети, людей. От препарата пришлось отказаться, либидо восстанавливалось около полугода. Долечивалась нейрофулолом, эффект наступил быстро и без побочек, сейчас всё осталось в прошлом, чему очень рад ',\n",
       " 'Антидепрессант \"флуоксетин\"решила написать о нем, ибо сама принимала, и принимаю... ',\n",
       " 'Мне посоветовали флуоксетин, как средство для похудания эффект просто потрясающий, я была приятно шокирована, за неделю я смогла сбросить 3 кг .',\n",
       " 'всем привет, хочу поделиться своим опытом, пропивал этот препарат по назначению врача, дико не подошел моему организму, появилась бессонница, какие то параноии, тревога, на коже зуд, все в кучу собралось, а еще проблемы с ЖКХ, :( поэтому после 5 дней приема врач прописал мне другое средство Нейрофулол им и лечился, неплохо помог',\n",
       " 'Отличный антидепрессант, не вызывает привыкания. Абсолютное спокойствие, после приема. Выписали после смерти близкого человека - любимой бабушки. Очень сложно пережить находясь в спокойном адекватном состоянии подобное горе. Но с помощью данных таблеток это удалось ...',\n",
       " 'До приобретения данного препарата, перепробовала множество аналогов, но, к сожалению, ничто не помогло мне настолько, как это сделал Флу. Очень жаль, что большинство девушек-подростков сейчас используют эти таблетки ради одного побочного эффекта - отсутствия аппетита. Мда... мозгов бы... ну да неважно. С депрессией справился на ура.',\n",
       " 'Назначили значит этот препарат от тревожно-депрессивного расстройства. Купил имено фирму озон за 150 рублей. Не стал переплачивать за прозак. (может и зря). Принимал по 1 капсуле 20мг в день ровно месяц.',\n",
       " 'Не помогает, тревога наросла, заторможенность, стойкая бессонница по ночам, днём сонливость, паника прошла частично, появились суицидальные мысли, отеки в области век, запор, аппетит пропал совсем, дрожание головы, верхних конечностей, нарушилась концентрация внимания и памяти',\n",
       " 'Пила 4 года по назначению врача при сильнейшем неврозе. Препарат работает, но, в моем случае, проявился побочный эффект в виде лишнего веса (+15 кг). Никогда не имела проблем с весом, поэтому такая прибавка - шок. Кроме того, повысился уровень сахара в крови до преддиабетического состояния. Теперь борюсь с этими побочками.',\n",
       " 'Принимала примерно год назад. Похудела+нервишки привела в порядок. Настроение на высоте, на сон мне повлияло одним словом нормальный дешевый препарат. Вчера купила упаковку, но пока не пила.',\n",
       " 'Пила их много раз уже, реально притупляет чувство голода, не хочется кушать, трудно купить, везде требуют рецепт, пила по 1 таблетки утром и в обед, из побочек тошнота была и повышенное потовыделение, так вопщем реально помогает сбросить пару кило',\n",
       " 'В последнее время стала очень нервная, пробовала пить валерьянку, не помогает. Решила купить антидепрессант. В аптеке посоветовали флуоксетин, сказав, что соотношение цена - качества у препарата наилучшее. Я хотела взять разрекламированный препарат раз в 5 дороже. Этот стоит всего около 60 рублей. Первые дни принимала по 2 таблетки, когда почувствовала эффект, стала пить одну, с утра. Сразу скажу, что помог не сразу, где-то на 4 й день стала замечать, что раздражительность и нервозность меня покинули. В общем, приятно удивлена, за небольшую цену отличный препарат. Сонливости нет, с мышлением все в порядке, так что рекомендую!',\n",
       " 'Решила начать худеть с флуоксетином. Пошла в аптеку и без проблем купила его хоть и по рецепту. ',\n",
       " 'Купила без рецепта. При чем просила просто успокаивающее. Цена очень низкая - меньше 40 рублей. Выпила вечером в 20 часов, сразу потянуло в сон. На следующий день проснулась в 16 часов. Тоже повторилось на второй день, еле проснулась к вечеру. Голова стала очень тяжелая. Как будто похмелье, но в десятки раз сильнее. Дня 2 приходила в нормальное состояние.',\n",
       " 'Флуоксетин, ох как давно я видела в интернете эти объявления про эту волшебную таблетку. Но вот и решилась, знаете зашла в аптеку, спросила есть ли флуоксетин? Мне продали, так как я сказала, что покупаю его не для себя, да да мне продали без рецепта!',\n",
       " 'Нет никакого эффекта, пью две недели по 2 штуки. Есть так же хочется, либидо не снизилось. Вобщем никакого эффекта, только после него в сон клонит, хотя наоборот должен повышать активность.',\n",
       " 'Это ужасные таблетки, сама их пропивала кое как потом от них вылечилась, ужасно не подошли организму особенно сильно расстроили мою психику',\n",
       " 'Подобные препараты нужно принимать только по назначению врача. Перечень побочек просто на листе не помещается. Да, вы похудеете, но от интоксикации. Такой мощный удар по печени вряд ли пройдет без последствий. Только по назначению врача и то хорошо подумать, так как присутствует синдром отмены. Положительный настрой, здоровый образ жизни поможет справиться с депрессией в кратчайшие сроки.',\n",
       " 'Я немножко помешана на похудении, поэтому принимала все подряд... о чем сейчас жалею... где то прочитала что флуоксетин помогает отбить аппетит... начала принимать этот препарат... аппетит был, правда умеренный... но сопровождалось все это жуткой раскалывающей головной болью, прям кричать хотелось... сонливость и антипатия ко всему... вообщем я перестала его пить ... и все наладилось...',\n",
       " 'Антидепрессант быстрого действия. Скорее успокаивающий и вгоняющий в дремоту. При первом приёме, около недели, чувствовалась сильная расшатанность и недомогание, кружилась голова, а аппетит отбило напрочь.',\n",
       " 'После ухода в отставку через год у меня появились панические атаки по нарастающей:, сначала в одном месте, где нужно было перейти мостик через речку, позже при поездке в автобусе, наконец, при поездке в метро. В итоге по городу я передвигался на такси (в нём панические атаки не наступали). Обратился к платному психотерапевту. Через год удалось подобрать лекарство, избавившее меня от панических атак-Флуоксетин (ООО \"Озон\" Россия), прием утром и днём по 20 мг в капсуле. Но, если я принимал капсулу после еды, развивалась изжога. Врач посоветовал принимать перед едой-изжога не проявлялась.',\n",
       " 'Пила 3 месяца по 1 капсуле утром. Все это время состояние было будто, ,пришибленное, ,. И радости нет, и настроентя нет, и то, что мне плохо чувствовала, но проявить свои эмоции и плакать не могла- препарат будть замораживал все мои чувства. И лучше не делал и то, что плохо простоьмаскировал. Постоянно была сонливой, аппатичной, потом стала проявляться агрессия. При чем как-то странно, вроде не злая, а как кто-нибудь скажет что-то не по мне - готово задушить! Да, еще спать вообще перестала.',\n",
       " 'Года четыре назад я начала пить эти таблетки по рецепту врача, так как находилась в затяжной депрессии. Тогда они мне казались каким то чудом! Мало того, что становится плевать на проблемы, улучшается настроение, так я еще и худела плюс ко всему. Но теперь я понимаю, что начав принимать данный препарат, я только усугубила свое положение. Вспышки агрессии, импульсивность, суицидальные мысли, испорченные со всеми окружающими отношения, сэлфхарм стали моим вторым я. Теперь я просто избегаю общения с людьми, дабы не шокировать их своим поведением. Советую использовать только по рецепту врача, и только в предписанной дозировке.',\n",
       " 'Всем добрый день.',\n",
       " 'Прописали мне этот чудо препарат, пить два раза в день. Хватило всего лишь одного дня, чтобы ощутить весь список побочных действий на себе в течение следующих трех дней. Думала, что умираю. Никому не советую.',\n",
       " 'Купила себе при лечении ПА, и депресии. Со своей задачей не справился, но так как было очень дишовое то покупала. В итоге два месяца на смарку.',\n",
       " 'Принимаю Флуоксетин уже много лет. Препарат нравится. Знаю и пробовала разных производителей. Озоновский стараюсь не брать, но если нет другого в наличии, то приходилось пропивать его.',\n",
       " 'Можно сказать этот препарат в свое время просто спас меня от депрессии, поэтому о нем могу сказать только хорошее. А так же бонусом потеряла 13 кг за месяц. Чувствовала себя прекрасно, очень влияет на самооценку, вследствие чего моментом наладилась личная жизнь. Но, на этот препарат у всех разная реакция, поэтому всем точно не порекомендую. Пила два курса, привыкания не вызывает и вес надолго сохраняется.',\n",
       " 'Я Избавилась от булемии. Которой страдала больше трёх лет, самое ужасное время... В описании показаний он для тех кто страдает булимическими расстройствами.',\n",
       " 'Долгое время его принимала мама, да она действительно похудела, но буквально недавно ей стало плохо. Это были так называемые побочные эффекты. Они бывают разные: тошнота, не хватка воздуха, обморок, знобь, головокрудение, гастрит, повышенное сердцебиение, и даже анорексия. У мамы были не все, но того что было достаточно. После этого случая я настояла на том чтобы мама их больше не принимала, а она вовсе их выбросила. ',\n",
       " 'После того как я страдала анорексией, данный препарат вернул меня к жизни. Хорошая ценовая категория, но только по рецепту психотерапевта.',\n",
       " 'Флуоксетин посоветовал моя подруга. У нее панические атаки. И он ей очень помогает. А у меня раздражение по поводу и без. После недели приёма, я почувствовала улучшение. После приёма второй недели, раздражение пропало. И самое главное я стала худеть. Я читала что от этого препарата можно похудеть, но как-то не очень верилось. Теперь проверено на себе). Побочных эффектов не было вообще. Пила с утра одну капсулу. Один раз в день. Средство супер!!!!',\n",
       " 'Долгое время страдал от депрессии, причём довольно глубокой. Друзья потащили меня на приём к соответствующему врачу, где мне выписали чудо-препарат \"флуоксетин\", с курсом в два месяца. ',\n",
       " 'Речь пойдёт о анти-депрессанте \"флуоксетин\" (флу). Фирма производителя: \"озон\".',\n",
       " 'Легальный наркотик. Принимал от ВСД по прописке с больницы, в которой пролежал 12 дней. Мне нет бы его попринимать курсом - приняв один день, меня \"понесло\" ещё больше. Испугавшись, бросил. Но теперь понимаю, что мог бы испортить себе мозги раз и навсегда. Стал бы, например, кидаться на всех и выкидывать в окно, попал бы на учёт к психиатрам, испортил бы себе жизнь (на работу бы не взяли больше никуда). У меня от него страхов стало ещё больше, я весь трясся и чуть не \"слетел с катушек\" окончательно, как та сумасшедшая бабка в соседней каартире с другого подъезда. Стал бы всех своих звать круглые сутки - вот умора бы была! Будьте с флуоксетином поосторожнее! Это не игрушки! Начинайте с минимальных доз (четвертинка таблетки в день)!',\n",
       " 'Поделюсь сегодня с вами отзывом о новом для меня препарате «Флукосетин». Не хотела я прибегать к этому средству. Но просто устала от своего состояния, которое мучает меня с самого лета. ',\n",
       " 'Данный препарат я решил принимать самостоятельно, так как идти к врачам я предпочитаю в крайнем случае, ведь особой помощи от них не возможно получить, конечно есть исключения.',\n",
       " 'Недавно я захотела похудеть почти на 10 кг. 5 кг я скинула спокойно на диете ABC superlight и это с маленького веса. (Рост - 170, вес - 55кг.) Но потом начались проблемы - постоянное чувство голода, дикий аппетит и депрессия по этому поводу) А нужного веса я еще не достигла. Как я только ни пыталась усмирить свой аппетит, становилось только хуже. Я начала постоянно думать о еде( запретный плод сладок), тратить кучу денег на всякие вкусняшки и толстеть, толстеть, толстеть. Так я набрала скинутые 5 кг. обратно. Моему горю не было предела, когда я встала на весы после великого зажора. Я решила во что бы то ни стало добиться своей цели - 47 кг. Вела интернет-дневники, получала советы от других худеющих. Все шло не очень хорошо: я сначала худела, потом много ела, набирала кг, опять худела. Мне это все надоело, начались срывы, депрессия. В итоге я решила худеть с помощью флуоксетина - антидепрессанта, у которого побочное действие анорексия и потеря аппетита. Решила, так сказать, убить 2-х зайцев сразу: и от депрессии избавиться, и похудеть. Купила флуоксетин-канон - продали без рецепта. Начала пить одну капсулу в день. После таблетки у меня было ощущение какого-то умиротворения и спокойствия. Есть не хотелось. Мне понравился эффект и я стала пить 2 капсулы в день. Тут начались жуткие проблемы с желудком. Сначала я думала, что отравилась, но потом поняла, что это из-за флуоксетина. Аппетит ко мне вернулся такой-же, какой и был до таблеток. Я не толстела только из-за расстройства желудка. Но не смотря на это у меня было прекрасное настроение, была светлая голова, учеба сразу пошла в гору, раздражительность и апатия ушли. Но есть одно НО, кому-то оно может понравиться, кому-то - нет. Ты становишься с этими таблетками общительным, социальным, стрессоустойчивым и дображелательным роботом. Да, именно роботом. Эмоции практически пропадают, относишься ко всему с каким-то пофигизмом. Я даже прочитала где-то в отзывах о флуоксетине, что девушка, принимая их, разлюбила своего мужа. Все теплые чувства к нему прошли. Не знаю правда или нет. И да, еще я заметила, что он сильно снижает либидо и даже может вызвать аноргазмию. Ну, в общем, есть и минусы, и плюсы. Решать только Вам, принимать данный препарат или нет. Главное чтобы пользы от него было больше, чем вреда. Худеть с его помощью я не советую, а как антидепрессант можно попробовать, но только если Ваш организм его нормально воспримет и только по назначению врача и под его строгим наблюдением! Так как у антидепрессантов, в том числе и у флуоксетина есть более серьезные побочные действия, вплоть до суицида. Надеюсь, отзыв был вам полезен и Вы 10 раз подумайте перед тем, как использовать данный препарат в целях похудения. Будьте стройными и жизнерадостными',\n",
       " 'Этот препарат я покупала, чтобы похудеть. Узнала о нем в паблике одной из социальных сетей. Флу, флуша - так его называют помешанные анорексички, которые рыщут в сети, дабы отыскать эффективные методы для похудения, чтобы быть тощими. ',\n",
       " 'Всем привет! ',\n",
       " 'Этот препарат – препарат счастливчиков. Во всех смыслах. Он не только заставляет мозг думать, что организм счастлив, но также подходит тем везунчикам, которые не имеют возможности переплачивать за препараты этого класса с другим действующим веществом. Если флуоксетин подошел и не вызвал побочек – вас однозначно поцеловал бог.',\n",
       " 'Перепробовала кучу антидепрессантов, в том числе и флуоксетин. Флуоксетин - антидепрессант из класса селективных ингибиторов обратного захвата серотонина, первый из этого класса и далеко не самый эффективный. По эффективности уступает пароксетину, сертралину и эсциталопраму. Наиболее распространенная побочка - тошнота, снижение аппетита, снижение веса. Поэтому многие принимают флуоксетин как средство для борьбы с лишним весом. Он гораздо дешевле чем специально созданный для этих целей редуксин, например. Однако не следует забывать, что его основное действие - антидепрессивное, и человеку со здоровой психикой он может навредить - вызвать депрессию. В целях снижения веса принимать категорически не реклмендую. Как антидепрессант - можно, но подойдет только в случаях нетяжелых депрессий. Мне не подошел.',\n",
       " 'Всем привет:).',\n",
       " 'Ввод в курс дела тех, для кого это просто антидепрессант. Если Вы попали в эту категорию, искренне за Вас рад. Теперь начнем. Прозак, в русскоречье флуоксетин-это капсуловидные двухцветные (бело-зеленые) таблетки, не просто так отпускаемые по рецепту. ',\n",
       " 'Данный препарат мне назначила врач, предварительно поговорив со мной. Она решила, что флуоксетин поможет мне решить сразу 2 моих проблемы. Немного похудеть и успокоиться. Сразу же смутила цена лекарства, но врач сразу же предупредила меня об этом. ',\n",
       " 'пила когда-то я флуоксетин другого производителя http://otzovik.com/review_1278785.html, он мне не понравился вовсе. Не знаю, в чем дело, но этот флуоксетин дает мне замечательный эффект уже вот 3 месяца ежедневного приема. Пью его по 1-2 капсуле в день ...)',\n",
       " 'Всем привет! ',\n",
       " 'Решила попробовать для сушки, конечно с физ. нагрузками и правильным питанием. Всегда любила покушать, вне зависимости от времени, места, это-то мне и мешает \"подсушиться\". Также я постоянно на нервах, срываюсь не из-за чего на близких(изверг какой-то) это длится довольно долго, раньше помогал бокс, но пришлось уйти(свои причины). В общем из-за этих самых нервов кушаю я больше. Как начала принимать флуоксетин, примерно через 3 дня сразу был виден результат. Нет не кг ушли, а ушли нервы, в следствие чего и аппетита нет сильного. То, что нужно. Никаких кошмаров мне не сниться и всего остального бреда. Ничего страшного в флуоксетине нет',\n",
       " 'Раньше думала, что Ланнахер выпускает лучший флу, но попались от Кананофармы и эффект не заставляет себя ждать: через сутки уже аппетит снижается, настроение улучшается, нормализует сон. Я не имею вредных привычек, не пью, хоть и занимаюсь спортом, но депрессивные состояния это не лечит, флуоксетин помогает смотреть на проблемы проще. Появляется такая \"безусловная любовь\" ко всем. Я сама работаю в больнице и консультировалась по поводу препарата с медицинским психологом, она мне рекомендовала в терапевтических целях пить по 10 мг в сутки, не более 3х недель- это безопасная дозировка, не вызывающая привыкания. Стоит понимать, что антидепрессанты- это не панацея и все время на них сидеть - опасно для здоровья.',\n",
       " 'Препарат очень спорный на мой взгляд по действию. Производитель описывает в инструкции кучу побочных действий и он прав. Помимо того, что препарат может не помочь, он может угробить ваше здоровье еще больше. Так что ни в ком случае не покупайте его без рекомендации врача. ',\n",
       " 'Страдаю вегето-сосудистой дистонией по типу панических атак долгие годы. Много препаратов, которые помогают справиться с этой проблемой, перепробовала.',\n",
       " 'Приняла сегодня впервые \"Флуоксетин\", с целью снизить аппетит. Весь день чувствую себя как овощ, голова болит, аппетит не исчез. Все вокруг как - будто заторможенное, а я участник фильма. Зрачки расширились, как у наркомана. ',\n",
       " 'Депрессию лечит это однозначно, но самостоятельно принимать не рекомендую, есть разные стадии депрессии, при некоторых формах утяжеляет, были случаи суицида после приема. ',\n",
       " 'Итак, уважаемые читатели, довелось мне испытать на себе такой препарат как флуоксетин... Такие жизненные обстоятельства нынче у многих, что волей не волей приходится обращаться к психотерапевтам. Я не исключение. Диагноз-послеродовая депрессия. Назначение-флуоксетин капсулы 20 мг по одной в день с утра в течении полугода минимум... Честно признаться, так как сама имею прямое отношение к медицине, но самолечением не занимаюсь, все же засомневалась я как то в целесообразности приема данного препарата для себя любимой. Думала я неделю, боялась подсесть на такие лекарства, но слова доктора «заодно и похудеете» взяли верх... И вот я, как человек запасливый, купила препарат впрок, сразу несколько упаковочек... ну чтобы не ходить лишний раз ... Приём первой таблетки начала в присутствии мамы ( мало ли что может со мной случиться, я ж одна с двумя детьми ). Что ж, приняла как и полагается, утром, стала ждать. Но никаких побочных эффектов в этот день не обнаружила (кроме того что меня от страха трясло))). Через пару дней приема заметила небольшое головокружение, а также главный для меня минус - невозможность нормально управлять автомобилем. А именно, садишься за руль и мозг просто будто отключается. Появляется какое то бесстрашие, снижается концентрация внимания, невозможно быстро принимать решения. В таком состоянии я ездила 5 дней, думала что придётся временно ездить общественным транспортом. Но все прошло внезапно, как и началось. Головокружение также прошло. И далее несколько недель все было в обычном жизненном ритме. Через месяц приёма я начала замечать улучшения состояния-ушли страхи, пришло состояние равновесия, рассудительность, умиротворение, я стала спокойнее реагировать на проишествия, которые раньше вызывали гнев. Но также пришло отсутствие полового влечения... и желания секса в принципе... Я читала про эти частые побочные явления, и поэтому была к этому готова. Мне было важно полностью прийти в себя, о дальнейшем не думала. Еще через неделю муж стал замечать появившуюся агрессию, далее её заметила и я(муж не знал о приеме мною данного препарата ). Далее агрессия перешла на всех домочадцев, препарат пришлось резко прекратить принимать спустя 2.5 месяца приема. Синдрома отмены никакого не было, я сразу пришла в себя. Желание «любви» восстановилось через несколько недель. Кстати, по поводу заявленного снижения аппетита, скажу лишь одно - как был аппетит отменный так и остался и во время приема флуоксетина и после его прекращения ... Резюмируя все выше мною изложенное, скажу лишь одно. По моему мнению препарат был подобран мне неправильно, он не убирает агрессию, импульсивность, он лишь усугубляет данные явления. Да, он помог чувствовать себя лучше, начать выходить из депрессии, но он будто делает из человека робота, просто с минимумом набора эмоций и желаний ... Так что следует взвесить все за и против перед приемом данного препарата, ведь побочных явлений может быть гораздо больше чем у меня !',\n",
       " 'Изначально выписал врач при диагнозе «затяжная депрессия». До этого обычные успокоительные без рецепта не помогали вообще. Я думала, что таблетки в таком случае и не помогут. Пробовала флуоксетин без особой надежды, но он превзошёл все ожидания. ',\n",
       " 'Доброго времени суток, хотела бы рассказать о своём впечатлении о препарате Флуоксетин Канон. ',\n",
       " 'Пишу отзыв, потому что сама принимала этот препарат и осталась крайне недовольна.',\n",
       " 'Препарат мне назначила врач-психотерапевт. Первый раз действительно был хороший результат. Депрессия отступила, спала \"как убитая\", сильно похудела. Правда весь день была как \"варёная\", даже двигалась через силу, не говоря уже о эффективной работе. Приходила с работы и сразу вырубалась. А когда решила пропить Флуоксетин во второй, третий раз, результатов не было вообще никаких. И на нервную систему никак не подействовал, и ни капли не похудела. Или другой производитель, или просто на организм одно и то же не действует несколько раз. А пить эту химию специально для похудения я бы не стала, слишком побочные эффекты сильные (целый список).',\n",
       " 'Отличный препарат при булимии и стрессе. Начала его употреблять с целью снижения веса, но жиросжигателем он не является. Очень хорошо перебивает голод и отбивает желание кушать все подряд. С его помощью можно просидеть на голоде несколько дней, но передозировка может привести к неприятным последствиям. Чтобы меньше навредить здоровью употребляла совместо со слабительным и не испытывала при этом никакого дискомфорта. Также действует как успокоительное средство и приводит нервы в порядок, но иногда появлялась силная сонливость. В целом результатом я довольно, который выражается в потери 30кг.',\n",
       " 'Начал принимать примерно дней двадцать назад, ушла тревога, нервозность снизилась, плохие мысли ушли, например такие как, заниженная самооценка, но с недавнего времени нужен рецепт, но это не проблемма, нужно всего лишь обратиться к врачу',\n",
       " 'Так получилось что мне прпишлось воспользоваться данным препаратом. В голове были тяжелые мысли. Ни любимая работа, ни отношения с молодым человеком не могли справиться с болью утраты дорогого мне человека. Умер папа. В Москве. И мне пришлось из Ижевска ехать одной. Решать все проблемы, кремировать и везти урну с прахом отца домой. Я не помню как прошли похороны. Я даже кладбище не помнила на какое мы ездили. Накрыло меня не сразу. Где-то через полгода только. ',\n",
       " 'Здравствуйте дорогие мои! Читала очень много отзывов прежде чем купить антидипресант Флуоксетин! Решилась... так мучала излишняя тревожность... апатия... жизнь потеряла всякий смысл... решила что нужно себе помогать ... купила пропила 2 недели... ',\n",
       " 'Мне прописали это препарат после того, как у меня диагностировали депрессию.',\n",
       " 'Флуоксетин - антидепрессант, который может назначить Вам Психиатр или Невролог, если у Вас есть хроническая депрессия и проблемы с лишним весом.',\n",
       " 'Мне этот препарат прописал врач, да не простой, а кандидат медицинских наук, работающий в известной клинике. Это я к тому, что и врачи не всегда могут предположить, что вам подойдет. ',\n",
       " 'Прописал врач, раняду с другими препаратами. Исходя из моих физических и психологических особенностей. Первый месяц - под наблюдением врача, так как возможны побочки.',\n",
       " 'Доброго времени суток, уважаемый читатель моего Отзыва!',\n",
       " 'С таким препаратом как \"Флуоксетин\" я знакома уже года 3. ',\n",
       " 'На флуоксетин я наткнулась в одной из групп для похудения. Что уж там говорить, разные шуточки и разговоры об этом препарате преследовали меня на каждом шагу. И естественно, я им заинтересовалась. Обыскав одну-другую страницу гугла, я осознала, что это препарат вовсе не для похудения, а это-антидепрессанты. При чем, довольно таки сильные, которые в аптеке без отпуска врачей продавать, конечно же, не должны. Ну что уж тут говорить, ясен пончик, в первой же аптеке мне их продали без всяких ненужных вопросов. Стоят они копейки, но стоит учесть, что производителей там много, и у каждого производителя своя цена. Эту упаковку я купила в пределах семидесяти рублей.',\n",
       " 'Как и любой антидепрессант, этот препарат для каждого индивидуален... Одним помогает, другим нет. Во всяком случае, побочных эффектов с него особых нет. И да... Он снижает чувство голода. Если антидепрессанты вроде амитриптилина могут у некоторых людей привести к лишнему весу, то здесь гораздо лучший вариант. Его выписывают в том числе при булимии, а это о многом говорит. Хотя очень увлекаться для похудения этим препаратом не стоит, да и не всем он от этого может помочь. Но если у человека депрессия и лишний вес, то чем травиться таблетками с побочками в виде излишнего веса- лучше уж флуоксетин. Да, и цена не большая. Но это моё субъективное мнение. А вообще, надо читать инструкцию и советоваться с адекватными врачами.',\n",
       " 'У моей жены, после неудачной попытки похудеть с помощью препарата Редуксин, случилась серьезная депрессия. Тут дело не только в том, что попытка закончилась неудачно, думаю в основном из-за побочных эффектов данного средства. ',\n",
       " 'Назначил врач. Была депрессия, плохое настроение, упадок сил на фоне развода. Ничего не хотелось делать. Страх какой-то постоянный присутствовал. Аппатия была страшная, мысли дурные в голову лезли...',\n",
       " 'Антидепрессанты бывают разные и механизмы у них тоже разные. Механизм действия Флуоксетина это блокатор обратного всасывания серотонина (гормона уверенности, лидерства). Скажу сразу я не такой уж депрессующий, но заметил что частенько срываюсь на детях и жене, а ещё \"заедаю\" свои стрессы. Сигареты и алкоголь спасали но временно. Решил перейти на здоровое питание и вести здоровый образ жизни, отказался от алкоголя и табака, вот тут то мне и пригодился флуоксетин. Понимаете ли серотонин выделяется при \"позитивном подкреплении\" то есть вы к чему то привыкли и повторение привычки вызывает чувство уверенности в себе и чувство удовлетворения. а когда вы бросаете старые привычки (без разницы что) - серотонина становится меньше и мозгу требуется время чтоб научится жить без привычных подкрепителей. в это время вы раздражены и срываетесь на всём.',\n",
       " 'Первый раз я попробовала Флуоксетин, когда хотела похудеть. Могу сказать, что в этом плане эти таблетки очень помогают сбросить вес путём притупления чувства голода. Когда я их принимала, я заметила улучшение настроения, прилив бодрости и некую лёгкую безразличность к окружающим',\n",
       " 'Началось все так. После гормональных таблеток я поправилась на 12 кг. Поскольку у меня неподвижная работа я не могла похудеть около года. Но однажды ко мне зашёл знакомый и рассказал, что его жена после родов очень хорошо похудела. ',\n",
       " 'Препарат \"два в одном\" - антидепрессант плюс средство от булимии. ',\n",
       " 'Начала принимать препарат, так как была стрессовая ситуация. Лежала в больнице с ребенком и нервы были расшатаны. В аннотации написано, что препарат применяется для лечения бумелии, то есть он влияет на аппетит. И этот момент меня порадовал, аппетит надо было поубавить! Стала принимать по 20 мг один раз в день, в первой половине дня. Можно и по 1 таблетке 2 раза, но я побоялась. Эффект я заметила на второй день. Я стала намного спокойнее, сдержаннее. Аппетита нет, особенно что хорошо-не хотелось есть вечером! Единственный минус нельзя принимать алкоголь, флуоксетин усиливает действие алкоголя. По сравнению с сибутрамином, (он так же влияет на аппетит)у этого препарата меньше побочки и стоит он в разы дешевле. Пью его уже вторую неделю. Минус 2 кг. Собираюсь допить его месяц и потом перерыв.',\n",
       " 'Начитавшись разнообразных отзывов про данный препарат, я его купила.',\n",
       " 'Когда именно началась депрессия я не знаю, но сейчас я понимаю, что это было задолго до родов. И вот когда я родила, начали обостряться все мои психологические проблемы, которые я долго держала под контролем. Но от постоянного недосыпа, родов, гормонов и чего там еще... У меня не было сил, моральных. Два года я срывалась на всех, я не могла нормально спать, состояние полудрема, я обжиралась (этим я страдаю с детства). ',\n",
       " 'Флуоксетин разрешено продавать только по рецепту. Однако, выписать такой рецепт может не только психиатр или психотерапевт, но и участковый терапевт.',\n",
       " 'Началось всё с маленьких проблем на работе. Каждый день для меня был мукой - крики, ссоры, обиды. Весь мир будто шел против меня войной.',\n",
       " 'В данный момент флуоксетин приобрел очень большую популярность среди девушек, как препарат для похудения, так как после принятия его, пропадает желание есть и чувство голода отсутствует, от чего и сбрасывается вес. ',\n",
       " 'в продолжении о лекарствах. Этот препарат мне прописали от обсессивно-компульсивного расстройства. Флуоксетин( тот же прозак) предназначен для лечения: депрессии различного генерации, обсессивно-компульсивного расстройства и булимического невроза. В упаковке 2 блистера по 20 желатиновых капсул 10и 20 мг.￼ имеет массу противопоказаний и побочных эффектов! ',\n",
       " 'Начала принимать флуоксетин по маминому совету, правда не во всех аптеках его продают без рецепта врача. Есть побочки, но для меня они не столь значительны. Самый главный эффект для меня то что я перестала срываться на всех из-за депрессии, т. к. она просто прошла. Настроение намного лучше, спокойно со всеми общаюсь. Заметила что стала не такой раздражительной как была раньше. Главная побочка для меня-это головная боль. Частая головная боль. Не принимаю препарат-голова не болит. В целом довольна результатом и ценой данного препарата, но не советую принимать долгое время, снижает аппетит, некоторые принимают для похудения, но это не очень хороший способ контролирования веса. Перестаешь принимать препарат и \"наедаешь\" намного больше, так что советую следить за питанием',\n",
       " 'Добрый день, дорогие мои читатели. Я никогда не писала отзывы о каких либо медикаментах. Но тут просто не смогла удержаться. Я позитивный человек привыкший справляться с трудностями быстро и не в падать в панику. Что такое депрессия я понятия не имею. Ну у всех бывает плохое настроение и не более. ',\n",
       " '\"Флуоксетин\" попробовала в качестве антидепрессанта. Кроме того, обнаружила очень полезное для себя свойство этого продукта: на фоне снижения общего фона стресса резко снижается аппетит. Принимая \"Флуоксетин\" удалось не только привести в порядок нервную систему и регуляцию поведенческих импульсов, но и сбросить около 5 кг за две недели приёма. Доктор рекомендовал мне принимать этот препарат не так, как написано в аннотации к продукту, а по индивидуальной схеме: 1 таблетка утром в 7.00; 1 таблетка в 11.00. Эта схема для меня оказалась действенной и эффективной: настроение значительно улучшилось, снизился уровень тревоги и готовности к стрессовому реагированию. действие лекарства ощущалось уже на третьи сутки после начала лечения и продолжалось в течение двух недель после окончания. ',\n",
       " 'В погоне за идеальной фигурой я использовала множество как полезных, так и экстримальных методов. Всю жизнь причиной набора веса был аппетит. Любыми способами я пыталась уменьшать чувство голода. Но овощи и фрукты только разжигали аппетит-происходил очередной срыв. В итоге, за лето я набрала 5 кг! При росте 155 это огромный вес. Мой парень и подруги стали туманно намекать, что я сильно поправилась. Особенно было стыдно перед парнем, ведь он сам имеет атлетическое телосложение(активно занимается спортом). Я, кстати сказать, тоже никогда не сидела на попе:3 года легкой атлетики, на данный момент регулярные походы в зал. Но все портило питание. Я чувствовала мышцы, они у меня были очень даже неплохие, но какой толк, если они под слоем жира... Одноклассницы послветовали пить флуоксетин, т. к. Он сильно подавляет чувство голода. После недельного курса мое самочувствие было трудно назвать удовлетворительным:дикий тремор в конечностях, беспокойные навящивые и бредовые мысли, сильное слюноотделение и тд... Но я решила похудеть до конца. Дальше-хуже. В голову начал приходить всякий бред о том, что окружающие люди на самом деле используют меня и подобная ахинея. В конце концов, чуть не заработала депрессию. Парень заставил выкинуть таблетки и начать вести здоровый активный образ жизни. Сейчас я продолжаю следить за своей фигурой, без всяких тяжелых препаратов(а флуоксетин, к слову, является антидепрессантом). Поэтому, конечно, если вы страдаете булимией или нервными расстройствами, врач может прописать вам этот препарат. Но если вы здоровы, лучше всего брать ситуацию в собственные руки.',\n",
       " 'Препарат хороший, но сажает печень в принципе, как и все препараты. И стоит не забывать об указаниях врача, как это сделала я. Принимала ту дозу. которую хотела. В итоге, я была просто, как зомби. ',\n",
       " 'Принимала его при депрессии и неврозе нааязчивых состояний. Начала его принимать только потому, что было туго с финансами, и я не могла себе позволить более дорогие и эффективные сертралин или эсциталопрам. Принимала во всем диапазоне возможных доз (от 20 до 40 мг). Эффекта не ощутила совсем. Надеялась, что хотя бы снизит аппетит (есть у него такая побочка, а мне не мешало бы чуток похудеть), но и на аппетит мне он ни грамма не повлиял. В общем, мне не помог ничуть.',\n",
       " 'Недавно мне посоветовали Антидепрессант Алси-Фарма Флуоксетин. Купила в аптеке, начала пить. и очень даже не плохой результат. Я плохо спала по ночам, часто были головные боли, много нервничала и были депрессии. После недельного приёма флуоксетина стала хорошо спать, перестала голова болеть. Самочувствие явно стало на высоте. Меньше раздражительности и ни какой депрессии. И еще этот препарат способствует похудению. Аппетит пропадает, а в основном ни каких побочных действий. Курс приёма около месяца, но я буду пить побольше. Цена дешёвая, что очень радует. Но не всегда есть в аптеках. Препарат хороший, рекомендую!',\n",
       " 'В первый раз я услышала об этих таблетках от мамы, она начала говорить, что якобы становишься очень спокойным от них, совсем не раздражаешься по пустякам. Мне сначала не очень в это верилось, потому что знаю, что очень нервная сама по себе и никакая валериана не помогает, мало что может успокоить в трудных ситуациях. Я начала пить, пропила неделю где-то, но не заметила результата, но вот со второй недели я очень хорошо почувствовала дейс вие этих таблеток, стала настолько спокойной, что перестала обращать внимание на всякие пустяки, из-за которых раньше ужасно нервничала. Плюс эти таблетки немного снижают аппетит, из-за чего происходит потеря веса, поэтому если вы склонны к худобе, то лучше не принимать данный препарат. Но цена у него отличная, доступен для всех.',\n",
       " 'Много раз слышала о том, что антидепрессант флуоксетин подавляет аппетит. Решила это проверить. Действительно, хоть это и средство от депрессии но от аппетита избавляет бесподобно.',\n",
       " 'Как-то после переживания одного события и в конце концов осознания плохого у меня на следующий год осенью когда случилось это событие началась депрессия и так повторялось несколько лет подряд. Я сначала и не знала, что у меня депрессия, не было тогда это слово модным как сейчас, когда через одного говорят что у них депрессия (\"депра\" сленг). Мне просто было очень плохо и не хотелось ничего, ни есть, ни пить, никаких радостей. У меня мир был серым пятном, я все время плакала и спала. И мне никак было не выбраться из этого состояния, за 2 недели сбрасывала по 6-7 килограмм. В итоге пришлось идти к психиатру, после нескольких тестов был поставлен диагноз \"депрессия средней тяжести\" и выписали пить флуокситин. Купила помню сразу же этот антидепрессант в аптеке и он стоил в районе 25 рублей именно алси-фарма. ',\n",
       " 'Сложно найти подходящий антидепрессант, даже если Вы подбираете его вместе с доктором, все равно приходится переживать ряд дискомфорта и не всегда удачных экспериментов, депрессивные эпизоды или навязчиво маниакальные расстройства могут увеличиваться когда ты только входишь в препарат.',\n",
       " 'Пью обычно успоительные таблетки. Но когда они перестали помогать, решила что-то сильнее купить. выбрала в интернете, почитала отзывы и остановилась на флуоксетине. Продается без рецепта, цена доступная.',\n",
       " 'Лет 5 назад вычитала что флуоксетин при передозировке помогает при похудении. То-есть если выпивать по двадцать таблеток по двадцать миллиграмм, перестаешь хотеть есть, и побочное действие - анорексия. ',\n",
       " 'В принципе, как антидепрессант он неплох, особенно если принимать его в комплексе с чем-то (например, с оланзапином вместе действует на ура). Однако его действие проявляется спустя довольно-таки большое время и в случае, если вы пьёте достаточно большую дозу. ',\n",
       " 'Флуоксетин - селективный антидепрессант, лечит тревожные расстройства и депрессии.',\n",
       " 'Хороший препарат, стойкий эффект, остается надолго. К минусам -пониженное либидо и несовместимость с алкоголем и некоторыми транквилизаторами. Эффект наступил спустя неделю после начала применения',\n",
       " 'В первый раз когда принимала, очень помог, стало легче через 2 дня приема. Ощутила на себе побочный эффект - тошнота, потеря аппетита. За время приема похудела на 6 кг. Почти во всех аптеках продается без рецепта, не дорогой. Во второй раз принимала, через год, полегчало далеко не сразу, ближе к окончанию курса лечения.',\n",
       " 'Принимаю Флуоксетин уже более 2-х лет. Пробовал уйти в ремиссию, но хватило меня лишь на пару месяцев. Но это не вина препарата, а скорее особенности моего организма! Моё депрессивное расстройство имеет гормональное происхождение- недостаток выработки серотонина. По этому велика вероятность того, что препарат мне придется принимать пожизненно. Такая вот история... Тау что, можно сказать, что Флуокчетин это',\n",
       " 'Попробовал его, когда прошла острая фаза депрессии. Снижает аппетит. Да и пить его надо долго, чтоб эффект был. Не советую пить перед сном.',\n",
       " 'День добрый. Я два года страдаю булимией, препарат прописал врач-психиатр. Пила его в течении двух месяцев, и все это время чувствовала себя овощем бесчувственным. Первые два дня абсолютно не было аппетита, в прямом смвсле заставляла себя есть. Началась апатия - ничего не хотелось делать. Могла часами лежать, и смотреть в потолок. Дальше лучше, начались мысли о суициде, постояные слезы, была раздражительной. Препарат можно охарактеризовать одной замечательной фразой - одно лечим, другое калечим. Да, булимия почти что ушла во время приема лекарства, но эти побочки, которые я в полной мере на себе ощутила - оно того не стоит...',\n",
       " 'Здравствуйте дорогие друзья.',\n",
       " 'Добрый день, я страдаю депрессией уже очень долго, что только не перепробовал, но результата мягко говоря не какого. С данным препаратом я познакомился не давно, до это я пил тот же флуоксетин, он кстате больше идёт как для похудения, делает так что вам не хочется есть, от слова совсем! Как работает данный препарат? Он активизирует захват серотонина в мозге, вы всегда счастливы, что бы не случилось, вам все пофиг, улыбка до ушей и есть не хочется вообще. ',\n",
       " 'Доброго времени суток, читатели Отзовик!',\n",
       " 'С \"Флуоксетином\" я знакома уже давно. После страшного 2013 года, когда меня накрыли панические атаки, тахикардия, депрессивное состояние и вегето-сосудистая дистония, я считаю ужаснее ничего в моей жизни произойти больше не может.',\n",
       " 'Всем привет!',\n",
       " 'Всем привет. Если Вы читаете мой отзыв, значит не беспочвенно - имеете проблемы, подобные моим. И это печально, так как постоянная тоска и тревога не позволяет полноценно жить и наслаждаться каждым мгновением.',\n",
       " 'Мне всегда казалось, что антидепрессанты - это что-то ужасное. Но вот пришлось попробовать один из них - \"Флуоксетин\". И я поняла, что ничего особо ужасного нет в этом препарате, наоборот, он довольно хорош. Естественно, если его вы не сами себе выписали, а назначил врач.',\n",
       " 'Всем читающим - здравствуйте!',\n",
       " 'Обратилась к врачу по поводу немотивированного плача, нервозности, слабости, усталости, тремора рук, злости, агрессии, безразличию к прошлым интнресам, плохого сна. Я с 20 лет жила какбудто мне сто лет, еле ноги переставляла. Для меня было открытием, что люди ночью спят беспробудным сном!',\n",
       " 'Об этом препарате я узнала от знакомого врача, он говорил что это \"успокоительное\", и продается без рецепта. Но на самом деле, это антидепрессант, аналог Прозака. В США этот препарат очень распространен. На данный момент это устаревший недорогой антидепрессант, есть много более современных препаратов, но без рецепта новые не продают. То как ваш организм среагирует на антидепрессант, никто не знает, даже врач. ',\n",
       " 'Был период в жизни, некие события, стечения обстоятельств и т. п., которые принудили к приему данного препарата. ',\n",
       " 'После рождения второго ребёнка меня \"накрыло\", я начала много нервничать, стала раздражительной и малотерпимой к окружающим.',\n",
       " 'Приветствую всех кто читает мой отзыв про Флуоксетин Ланнахер, в оригинале он же Прозак. Отзыв не ради денег, а для опыта другим людям. Потому что начиталась я тут очень разных версий. Вот вам моя. Вообщем, пришла я к психотерапевту с жалобами на подавленное настроение, постоянную плаксивость, постоянную головную боль аж до тошноты, тревожность, проблемы со сном, нервозом, у меня дергался глаз и иногда рука.',\n",
       " 'Хочу написать свой отзыв о Флуоксетине. Начала пить его сама, начиталась в интернете и себе его прописала. Знаю, что так нельзя, но уж очень хотелось похудеть. Пить начала когда лежала с ребенком в больнице. Покупала без рецепта наш русский. Пропила две недели, и перестала т. к. не могла проснуться я вставала и падала обратно на кровать, сил не было встать. Когда выписали из больницы, я даже на работу не пошла села на больничку. Муж не мог меня разбудить я даже ревела как спать хотелось. Потом пошла к психологу и она мне его прописала я купила уже Ланнахер (производитель) Совсем другое дело!!! никаких побочек, о которых пишут. Похудела, пропал жор с которым я не могла справиться. Энергии стало больше и все хорошо. Спокойней стала на многие вещи смотреть.',\n",
       " 'Примерно с 14 лет у меня появились первые признаки вегето-сосудистой дистании. Кто сталкивался с этим, тот знает какие у этого заболевания могут быть неприятные проявления. Это и обмороки, перепады артериального давления, реакция на любые перемены погоды и прочее. Как такового лекарства нет, есть только временно облегчающие симптоматику препараты. В таком возрасте, увы, наши педиатры и терапевты ставят этот диагноз со словами \"все пройдет вместе с переходным возрастом\". Действительно, у кого-то проходит, но я не стала таким счастливчиком и вегето-сосудистая дистония переросла в более серьезные заболевания, такие как панические атаки и агарофобия.',\n",
       " 'в сентябре 2017 года волею судеб обратилась ко врачу с деликатной проблемой, - посмотрев в зеркало, поняла, что я уже просто в беде, ибо вес мой велик, 126 кг. столько я не весила даже перед родами. не хочется становиться бабулькой в 37 лет - подумала я - и пошла сдаваться врачам. ',\n",
       " 'Случилось так в моей жизни, что я потеряла важного для меня человека, которого очень любила. С ним всё хорошо, он жив-здоров, если вдруг кто-то что-то подумал. Да-да, для кого-то это не так важно было бы, кто-то сказал бы найдешь другого, забудешь и т. д. Но для меня это был очень сильный удар. Надеюсь, что некоторые меня поймут здесь. ',\n",
       " 'Этот препарат был назначен мне при депрессиии вместе с ',\n",
       " 'Препарат действительно действующий. Принимала пару лет назад, по рекомендации знакомой, через нее же и покупала, так как продается он только по рецепту. Блокирует чувство голода напрочь! Есть не хочется совсем и может не хотеться по несколько дней. Но имеет очень много побочный эффектов-начиная от головокружения, тошноты, постоянного чувства депрессии. На протяжении приема все время ощущала какое то чувство тревоги, плохо спала, хотя спать хотелось постоянно. Головные боли замучали... Вообщем, что сказать ... это медицинский препарат и принимать его стоит только по назначению врача и только под его контролем потому как последствия приема могут быть очень опасными!! Не рекомендую однозначно!! Берегите свое здоровье!',\n",
       " 'Принимала Ланнахер \"Флуоксетин\" от сильной депрессии. В общем по бочка была только один раз в первый день, немного странное состояние, голова не на месте, покалывание в кистях рук, и чуть чуть слабость. На второй день ни чего похожего не было, как и не было эффекта \" По фиг на все \", начиная с третьего дня я уже пила по две капсулы в день, и тоже не заметила ни какого эффекта, весила я не так то и много 56 зимой, к лету я похудела до 47 кг. При этом я пила алкоголь, и никакой тошноты, головокружения, суицидальных мыслей не возникало ( такие мысли у меня остались в подростковом возрасте )) .',\n",
       " 'Купил его в аптеке по рекомендации врача, но эффекта особого не увидел. Да, стал не так раздражителен, но хотелось вообще отвлечься от всего. Причем предполагалось, что они никак не будут влиять на мое вождение авто. Ан нет... Внимание явно отсутствует. Причем мало того, что голова затуманенная, так еще к вечеру и разболелась.',\n",
       " 'О данном препарате я узнала не из кресла доктора, а из пабликов вконтакте про похудение. Расстройства пищевого поведения меня преследуют уже почти 8 лет... Но это уже не совсем по теме. В общем, принимать флуоксетин я начала от компульсивного переедания и булимии. Сразу скажу, что в аптеке почти нереально приобрести этот препарат без рецепта, поэтому заказывала через интернет. Принимать начала по 60мг три раза в день и мне действительно помогло: желание обжираться пропало, настроение стабилизировалось и было немного приподнятым. Однако, эффект длился недолго, через пару недель все стало как и прежде из чего я сделала вывод, что выработалось привыкание. В итоге бросила пить и больше, скорее всего, баловаться этими таблетками не буду. А если и буду, то принимая только небольшими курсами. Из побочных эффектов: сонливость постоянная, снились кошмары, пониженная эмоциональность. Хотя последнее не факт, что для всех это минус - мне с моей работой только на руку это было. Не могу никому посоветовать, все-таки это серьезный препарат, и в инструкции описан внушительный список побочных эффектов, но если уж решились то:',\n",
       " 'Данный препарат был назначен мне для лечения невроза, на фоне которого была выражена тревога. Начинал приём с 1 капсулы (20 мг). К сожалению, при приёме Флуоксетина обострилась агрессия, стал плохим сон, постоянно хотелось что-то делать, но при этом тревога лишь обострилась. В общей сложности пролечился препаратом 3,5 месяца, поднять дозировку не выходило из-за выраженной побочки (ПА становились сильнее). \"Прикрытие\" транквилизатором не спасало, увы. ',\n",
       " 'Доброго всем дня! Вопрос сброса веса волнует многих. Не буду писать о том, сколько методов пришлось опробовать на себе в поисках идеального (и индивидуального). Для себя я поняла что главная причина моего лишнего веса это постоянное желание есть и тут же пришло решение: необходимо средство притупляющее аппетит! И решение было найдено в секции антидепрессантов. ',\n",
       " 'В свое время принял 20 шт (переборщил с дозировкой по причине подростковой глупости и непонятной депрессии)',\n",
       " 'Доброго времени суток, уважаемый читатель моего отзыва!',\n",
       " 'Буду дополнять отзыв по мере приема препарата.',\n",
       " 'Очень долгое время я страдала от депрессии. Просто не хотелось вставать с кровати, с кем-то разговаривать, что-то делать. ',\n",
       " 'Окрыляет, не окрыляет, а уносит мысленно куда-то, ты как-бы здесь. Но как-бы нет. Трудновато сосредоточиться. Пила по одной капсуле. Уменьшения аппетита не заметила. Пробовала как Ланнахер, так и других производителей. Не впечатлил. Побочки- сонливость, неглубокий поверхностный сон, в связи с этим и утомляемость и раздражительность. Склонность к анализу, размышлению. ',\n",
       " 'Решила попробовать данный препарат в качестве эксперимента по снижению веса и не надо меня осуждать за это, я понимаю все последствия подобных экспериментов. пишу все как было. ',\n",
       " 'В один прекрасный момент моя жизнь перевернулась. Начались панические атаки, которым предшествовала депрессия, агорафобия. Я, к сожалению, не думала, что все, что происходит с моим телом, это из-за психики. Долго лечилась, ходила по многим врачам, ничего не помогало, пила \"Атаракс\", \"Фенибут\", \"Феварин\" (самое жуткое, что мне выписывали) много еще каких-то лекарств, но после того, как мне выписали \"Флуоксетин\", я смогла наконец-то снова начать жить, как раньше. Снова выходить на улицу без помощи кого-то, в кабинете врача сидела без паники, через время смогла сама проехаться в автобусе, сидеть на парах. ',\n",
       " 'Предпочитаю его другим производителям. Опыт приёма Флуоксетина очень большой. Лет 7 точно. Действие наступает мягко и незаметно - просто недели через две -три понимаешь, что утро приносит радость. Но эйфории, как например, от Озоновского Флуоксетина нет. ',\n",
       " 'Когда мне врач прописал их, я сразу побежал читать отзывы. Перепугался конечно. Писали, что и с ума от них сходят, и то, и сё. Начал пить. В первые три дня впал в медикаментозную депрессию, была очень сильная апатия, пропал интерес ко всему вообще. Потом более-менее выровнялась ситуация и стало легче. Главное - переждать первое время, эффект наступает не сразу. ',\n",
       " 'Хочу поделиться своим опытом применения Флуоксетина. Флуоксетин имеет антидепрессивное и анорексигенное действие. Его применение гарантирует улучшение настроения, исчезновение суициидальных направленностей, а также снижение аппетита. ',\n",
       " 'Упаковка флуоксетин Ланнахер по 20 мг и 20 капсул. Препарат немецкий, оригинальный. Лучше покупать его, чем отечественные аналоги. Хотя может от наших и побочки поменьше. Выписывается строго по рецепту. Может выписывать и терапевт и психотерапевт. Рецепт не отбирали. И пол-года можно было по нему покупать лекарство.',\n",
       " 'Всем привет С: ',\n",
       " 'У меня были депрессии, тревога, булимия, вообщем целый букет психических расстройств и заболеваний. И мне прописали флуоксетин. Первые 2 недели приема, для меня были сущим адом: я не могла спать вообще, моя тревога усилилась, я очень много стала есть(усилились приступы булимии), была очень раздражительной, появились суицидальные мысли. ',\n",
       " 'Прописали в 2010 году при нервной булимии, начинала я с 40 мг, первую неделю приёма не была никаких из перечисленных в инструкции побочных эффектов, когда я увеличила дозу, меня стали посещать паннические атаки, приступы удушения и равнодушие, тотальное равнодушие и сухость во рту. От флу не хочется спать, есть и вообще ничего. Так же он очень понижает либидо. За месяц приёма я потеряла 6 кг, на 3 неделе приёма аппетит пропал совсем, при этом энергия была и я не чувствовала усталости, спокойно работала по 12 часов ничего при этом не кушая. Можно найти без рецепта в интернет аптеке.',\n",
       " 'Вот уже на протяжении нескольких лет в нашей семье поселилась беда - мой брат алкоголик. У кого в семье есть подобные проблемы, тот поймет, какая это соцзависимость от пьющего, и какие мучения и страдания приносит это в жизнь родственников. ',\n",
       " 'Доброго времени суток, уважаемые читатели. Сегодня хочу поделилится опытом после применения такого препарата как флуоксетин. Препарат этот является антидепрессантом с довольно таки мягким действием. По разным причинам у каждого человека бывают нервные срывы, кто то из таких состояний выходит самостоятельно, а кому то нужна медикаментозная помощь. Мне как раз и нужен был подобный препарат, терапевт мне посоветовала купить легкий, как она сказала, препарат, который отлично поможет справится со стрессом. Придя в аптеку за препаратом меня удивила ценовая категория, стоимость у него 60 руб. Это безусловно плюс. Далее, после применения флуоксетина длительностью в 4 дня, я заметила положительные сдвиги в моем самочувствии, а именно: спала я как и раньше продолжительностью в 5 ч, но промюсыпалась я абсолютно отдохнувшей! А это значит, что внимание на работе лучше, самочувствие лучше, и разжражительность исчезла сама собой! Я очень довольна этим препаратом, посоветовала его подруге, та в свою очередь посоветовала маме. Но отдельно хочу отметить, что перед применением все таки нужно проконсультироваться со своим лежащим врачем и ни в коем случае не заниматься самолечением. ',\n",
       " 'Препарат Флуоксетин мне назначил психотерапевт. Такие препараты можно пить только по назначению врача. Т. к. побочные эффекты конечно же есть. Но врач назначает определенную схему лекарств, что бы эти побочные эффекты проявлялись незаметно. Обычно, побочные эффекты проявляются только первые несколько недель, как раз на это время и назначаются определенные дополнительные препараты.',\n",
       " 'Здравствуйте все кто хочет попробовать Флуоксетин в качестве средства для похудения данный отзыв для вас. Опробовав на себе множество препаратов и методик похудения мой взор пал на хваленый флуоксетин. ',\n",
       " 'Всем привет! Сегодня я расскажу о том, что не всегда быстро и легко значит полезно!',\n",
       " 'Выписал врач невролог на приеме пропить 6-месячный курс флуоксетина в связи с тревожно-депрессивным расстройством. Выбор пал на импортный препарат \"Флуоксетин Ланнахер\". ',\n",
       " 'Флуоксетин (Прозак) – антидепрессант из разряда СИОЗС (селективный ингибитор обратного захвата серотонина).',\n",
       " 'Я не страдаю депрессией. Скорее я покупала его только для того, чтобы у меня пропадал аппетит.',\n",
       " 'По рецепту к сожалению, долго искала по аптекам чтобы купить без рецепта... в общем, начиталась отзывов что побочки жесткие, тошнота, суицидные мысли и все в том духе, очень боялась начинать принимать. Но все же решилась, так как булимия и быть рабом своего мозга надоело (далее объясню почему)... ',\n",
       " 'Итак, каждая девушка в своей жизни хотела бы похудеть, при это желательно быстро и особо не затрачивая на этом энергию. Я просто хотела похудеть, неважно как. Мой рост составляет 151, а вес на тот момент 37. Я использовала различные диеты, которые мне тоже помогли, но флуоксетин был решающим.',\n",
       " 'Сегодня хотела бы рассказать об антидепрессантах флуоксетин ланахер. Таблетки мне выписал психолог. Я обратилась к нему в июне, мой диагноз- депрессия!',\n",
       " 'Этот препарат мне посоветовала подруга, когда я находилась в депрессии. Прочитала на форуме отзывы тех кто пользовался и пила его строго по инструкции. Первые дни меня тошнило после принятия флуоксетина и была изжога. Потом на какое-то время самочувствие улучшилось, но периодически начало покалывать сердце. Дозу я пила всего 20 мг в день. Хотя, насколько я знаю максимальная доза это 40 мг и нельзя пить алкоголь во время принятия препарата. Потом, на некоторое время я перестала употреблять его и уже через время когда снова начала употреблять у меня в первый же день принятия резко заболело сердце. Эффекта похудения я не заметила. Скажу что после таких игр с препаратом у меня изменился гормональный фон. Возможно что это зависит только от особенностей каждого организма. Также после принятия препарата появилась некоторая зависимость. После того как я резко перестала его принимать у меня началась своего рода ломка, моё настроение менялось раз по сто на день и присутствовало состояние уныния. Если хотите прекратить принимать флуоксетин, то лучше делайте это постепенно снижая дозу. Не повторяйте моих ошибок.',\n",
       " 'Было обжорство, стала принимать, аппетит пришел в норму, так же хорошо то что нельзя выпивать во время приема, очень останавливает от излишнего чревоугодия.',\n",
       " 'Начал применять препарат Флуоксетин от Ланнахер для хорошей учёбы, т. к состояние было плачебное :апатия, лень, низкая концентрация, забитая самооценка. Именно в конце года когда надо поступать в мед. институт у меня начились проблемы, многие абитуриенты мне твердили, что у тебя всё хорошо, ты лучший, ты и так поступишь. ',\n",
       " 'Прописала доктор этот препарат для улучшения настроения, для того, чтобы мысли тревожные пропали. Начала принимать, эффекта сразу не было. И кстати, аппетит он не убирает (лично мое наблюдение). Через недели две-три стала немного поспокойнее, но опять таки, ожидала большего. Не могу сказать, что я в восторге от этого препарата была... Да и вообще от таких препаратов не надо быть в восторге, лишь бы они оказывали заявленный производителем эффект. Принимать Флуоксетин можно, но мне он не подошел. Из побочных действий: сновидения кошмарные, снижение либидо. Больше ничего не заметила.',\n",
       " 'Надо сказать, что я очень ярко переживаю так сказать переходные возрасты : подростковый, кризис 30ти лет... И вот мне 40 лет! Сама того не замечая, я перестала в свои выходные гулять, развлекаться, с кем-то встречаться. Короче замкнулась, мне хорошо одной, люди бесят неимоверно, но внешне я спокойна и вежлива. Хоть на работу ходила. Короче, \"тихо шифером шурша...\". Благо появилась плаксивость: проревела без причины неделю и только тогда забила тревогу и стала изучать по интернету своё состояние. В ПНД решила не идти: не так всё критично было, просто ну уж оооочень неинтересно было жить и бесили всё и вся. Сначала решила, что у меня начинающийся климакс, но по всем признакам у меня была депрессия и не просто депрессия, а затяжная, название ей дистимия, и длилась она, по моим наблюдениям, с 16ти лет (тогда у меня был сильный стресс в связи с переездом в другой город и т. д. и т. п.). Поспрашивав своих коллег-знакомых-медиков (я сама имею мед и фарм образование) про данную проблему, решила пропить один из старейших антидепрессантов Амитриптилин. Он мне не совсем подошёл плюс сильно неприятные побочки в виде недельного запора и повышения веса на целых 10кг всего за три недели.',\n",
       " 'Познакомился с ним, когда начались панические атаки. В транспорте/ на учебе/ в придомовом магазине. Везде. По несколько раз в день, на 30-40 минут.',\n",
       " 'Сразу скажу что данный препарат я принимала не по назначению врача, но и не для того чтобы упарываться, чего никому не советую, только здоровье испортите!',\n",
       " 'Всем доброго времени суток! С Флуоксетином знакома уже лет 7 как. Каюсь, сначала принимала его без назначения врача, начитавшись отзывов в интернете о том, что он помогает справиться с булимией. От первого применения остались лишь положительные впечатления (хотя вполне вероятно, что это был эффект \"плацебо\"):приступы булимии прекратились, настроение улучшилось, никакой сонливости не было. Единственный минус-напрочь исчезло либидо, но в те времена меня это особо не волновало.',\n",
       " 'Взял на замену антидепрессанту золофту. ',\n",
       " 'Флуоксетин прописал психотерапевт из-за длительного невроза. ',\n",
       " 'Был длительный контакт с флуоксетином по назначению врача. С первых дней было достаточно неплохое впечатление – препарат очень сильно бодрил. Но доходило до неоднозначных вещей, вызывает трудно контролируемые мании! Зрачки были как пятирублевые монеты, дрожь по всему телу. Спустя неделю начался самый противный побочный эффект – тошнота, от которой никуда не деться. Постоянный вкус медикаментов во рту убивает.',\n",
       " 'Месяц назад начал курс, ушла тревога, плохие мысли, появилась работоспособность, стало восстанавливаться настроение, правда с недавнего времени на препарат нужен рецепт, но это не проблема, приходишь к психиатору, говоришь что у тебя депрессия и рецепт у вас в кармане',\n",
       " 'Что можно сказать о флуоксетине? За очень небольшие деньги это лучший вариант, потому что он реально вытаскивает из депрессии, даёт силы и бодрость, но не особо подходит людям с тревогой, поэтому пришлось с ним попрощаться. Побочек при приёме вообще не заметил, ну за исключением всё той же тревоги. Стимулирующий эффект отличный! Из состояния овоща превращает в работоспособного, жизнерадостного человека, да и эффект наступает быстро 2-3 недели. Многие говорят о его негативном влиянии на либидо, на себе я этого вообще не заметил, скорее даже наоборот, в этом плане он меня порадовал, так что всё индивидуально. Рекомендую',\n",
       " 'Так случилось, что депрессия подкралась ко мне. Заметно. Предсказуемо. И накрыла полностью. Организм не справился с психологической нагрузкой. Я не стрессоустойчивая. Не хочется ничего делать, постоянно все раздражает, усилилась нервозность, рассеянность, злость, плаксивость, апатия, сильнейшие головные боли, повышенное давление (260/160), беспокойство, рассеянность, бессонница. В общем все прелести депрессии. Психиатр прописал несколько препаратов, в том числе антидепрессант Ланнахер \"Флуоксетин\". Параллельно лечусь у невропатолога и эндокринолога.',\n",
       " 'Доброго времени суток.',\n",
       " 'Скажем депрессиии нет! Антидепрессант Флуоксетин Депрес я купила в аптеке без всякого назначения и рецепта. Конечно никому не советую этого делать. Лучше проконсультируйтесь с врачём. Если ранее кто то приниал такой препарат - флуоксетин от ланнахер, то я хочу сказать, что это средство которое подобно ему и его вполне можно даже назхвать аналогом.',\n",
       " 'Прочитав пару отзывов, я пришла к выводу, что те кто писали свои отзывы и писали в основном про то что у них была депрессия. Я же хочу написать о том что эти таблетки мне прописали для снижения аппетита. И не поверите я сбросила 15 килограмм, мне оно понравилось тем, что оно не дорогое и можно найти в любой аптеке. Как антидепрессант для меня, я и так спокойная по натуре и моей нервной системе было всё равно.',\n",
       " 'Начитавшись отзывов, борясь с хронической депрессией, перепадами настроения, самоедством, ленью и вялостью, выпросила у врача рецепт на \"чудо препарат, недорогой, эффективный, отбивающий аппетит, антидепрессант\"О!!! то, что мне нужно! Начала с утра по дозе 10*2 мг, через час обнаружила в себе приливы бешенной злости и усиленного сердцебиения... ',\n",
       " 'Врач поставил мне диагноз депрессия и назначил препарат «Пароксетин». Пришла я домой, почитала про него отзывы и обнаружила, что от этого антидепрессанта толстеет каждый второй, причем, не просто на 2-3 килограмма, а на 5-10. Толстеть мне ни в коем разе не хотелось, но вместо того, чтобы снова пойти на прием и попросить назначить мне другой АД, я решила назначить его себе самостоятельно. Ну да, «гениальная» мысль, но что сделано, то сделано. Я пошла в аптеку, показала провизорам рецепт на препарат и уговорила продать мне вместо «Пароксетина» «Флуоксетин», т. к. по степени набора веса он самый щадящий. Логика, конечно, сумасшедшая: у человека душа болит, а он думает о том, как бы не растолстеть. С другой стороны, не факт, что возможный набор веса не вогнал бы меня в еще большую депру. ',\n",
       " 'Пишу отзыв о препарате антидепрессант Флуоксетин, так как испытала его действие на собственном горьком опыте. И может быть кто захочет его принимать, сначала задумается о последствиях.',\n",
       " 'Доброго времени суток!',\n",
       " 'Доброго времени суток, дорогие мои Друзья.',\n",
       " 'В отзыве не будет нотаций и призывов пить данный препарат исключительно по назначению врача. Кому понадобился - все равно достанет. У меня РПП уже в течении долгого времени - около 8 лет. Сейчас, так сказать, длительная ремиссия. ',\n",
       " 'Апо-Флуксетин мне назначил частный психотерапевт, к которому я обратилась во время беременности, у меня были очень сильные страхи и депрессия.',\n",
       " 'Иногда бывают моменты в жизни когда не нервничать, в принципе, не возможно, и валерьянка как мертвому припарка, именно в такие моменты мне помогает Флуксен. Но однажды я не нашла этот препарат и мне предложили аналог капсулы Апо-Флуоксетин. По составу они практически идентичны, разные только производители и цена. В общем я взяла этот антидепрессант. Лично я разницы не почувствовала, действия были такими же. Этот антидепрессант помогает мне не отчаиваться и смотреть на проблемы с другого ракурса. но как и во многих лекарственных препаратах есть побочные действия. Во первых обостряется обоняние буквально с первого дня приема и иногда подташнивает, как во время токсикоза, во вторых пропадает аппетит, с одной стороны это хорошо, но если перестаешь принимать пишу с временем организм перестает ее усваивать и может быть анорексия. И в третьих действие не продолжительное, перестаешь принимать капсулы и эффект пропадает. Принимаю их лишь в крайнем случаи и то непродолжительное время.',\n",
       " 'Мою жизнь, в принципе нельзя назвать легкой, но жаловаться не стану, ибо сейчас все пришло более-менее в норму. Наверное, отчасти, это заслуга данного препарата.',\n",
       " 'Обратилась к врачу психиатру за помощью в ситуации сильного стресса. Доктор выписала рецепт на флуоксетин. Купила. Препарат оказался недорогим. Перед приёмом прочла инструкцию. Стала принимать в соответствии с инструкцией и предписанием врача. Меня предупредили, что эффект должен проявиться не сразу, а через время регулярного приёма. Я всё добросовестно и ждала облегчения своего состояния. Но оно не наступило даже в конце назначенного мне курса лечения флуоксетином. Правда, и побочных эффектов я никаких не заметила, так же как и привыкания. Хорошо, что стоил он недорого - не жаль потраченных денег. ',\n",
       " 'Через пару недель начинаешь чувствовать себя лучше. Естественно, что принимать Антидепрессанты нужно длительно и по назначению врача. Мне Флуоксетин подошел. До этого пару лет подбирали с психотерапевтом различные варианты Антидепрессантов. Пока не попробовала Флуоксетин. Разницу почувствовала. Моя депрессия проявлялась как круглосуточная сонливость, переедание, отсутствие каких-либо желаний и интересов. Бессонницами не страдала. ',\n",
       " 'После расставания с парнем сильно переживала, впала в депрессию и буквально ела все подряд! Принимала по 2 капсулы первую неделю, потом подняла до 4. Побочных эффектов лично у меня не было.',\n",
       " 'Прописаны были гастэроэнтерологом по причине ипохондрии и супер тревожности!',\n",
       " 'Вот и я столкнулась с этим модным словом \"стресс\" и в полной мере на себе прочувствовала как это бывает и куда бежать и как избавиться от постоянных тревог и хоть немного поспать.',\n",
       " 'Здравствуйте, друзья и гости отзовика!)',\n",
       " 'Если вы читаете этот отзыв, то думаю не зачем объяснять от чего это лекарство.',\n",
       " 'В нашем сумасшедшем мире, переполненном стрессом и всякого рода страданиями, очень сложно держаться подрячком и в позитиве. Со временем, у каждого взрослого человека проседает нервная система, он становится более тревожным, беспокойным, начинаются проблемы со сном. ',\n",
       " 'Селективный ингибитор обратного захвата серотонина. Т. е., попадая в мозг, он блокирует серотонин от поступления обратно в места соединения нервных клеток мозга друг с другом. Что естественно способствует его накоплению, и что и вызывает в итоге эффекты такого \"псевдо-счастья\" и \"псевдо- хорошего настроения\". ',\n",
       " 'Что такое депрессия, знаю не понаслышке. Совсем недавно мы победили жуткую болезнь моей родной сестрёнки: нервную анорексию. Причину, по которой весь этот кошмар начался, объяснить не могу.',\n",
       " 'Шикарный препарат. Накоплен достаточной большой опыт его использования. Встречалась я с ним 3 раза. Первый раз он мне не подошёл, точнее я испугалась этой побочки, которая возникает на первых парах применения.',\n",
       " 'Данный препарат я начала принимать в следствии тяжелых жизненных обстоятельств, которые вылились в постоянные бессонницы, и кошмары, редкие приступы паники, постоянные смены настроения, апатия, слезы, в общем говоря депрессивное состояние. Начала принимать без боязни, никакой заторможенной или вообще плохой реакции я не ощущала, побочных эффектов тоже не было, как и улучшения, но по прошествии недели, заметила что мне лучше- лучше на душе, стала меньше расстраиваться, и аппетит стал умеренным. Настроение не как обычно плохое а нормальное, нет нервных срывов, и плохих мыслей( почти нет), в общем улучшения на лицо, препарат делает свою работу однозначно. Принимала по одной таблетке в день, с утра после еды (в упаковке 2 блистера по 10шт). Самое главное помнить, данный препарат принимать по назначению врача, и нельзя употреблять алкоголь.',\n",
       " 'Не думала, что доживу когда-нибудь до такого рода препаратов, но факт. Я всегда была человеком сверхчувствительным и эмоциональным. При этом достаточно терпеливой, всегда умела в нужный момент переключить свои эмоции. Но видимо, дотерпелась. Последней каплей стали тяжелые роды и две ходки в детские больницы за первые пять месяцев жизни ребенка. Видимо и не выдержала.',\n",
       " 'уже год как меня мучает тревожное расстройство. Я уже перепробовала множество уколов, таблеток, витаминов, но никаких результатов. Ходила к психиатру, мне посоветовали данный антидепрессант, долго не решалась его начать принимать, но все же, переборов себя пришлось начать. ',\n",
       " 'Данные антидепрессанты принимала курсом. За весь период приема состояние никак не изменилось. Частые перемены настроения и тревожные сны добавились после приема данного препарата. Длительный же прием напрочь отбил желание что-либо делать, а чувство апатии и безразличия, как на себя, так и на окружающих не покидало. Начались проблемы с приемом пищи, есть не хотелось от слова совсем. В итоге близкое к дистрофическому телосложению и проблемы с желудком. По истечению курса лечения продолжила принимать препарат еще пару дней ( до недели). Появилась аллергическая реакция на коже. Красные пятна которые постоянно зудели и покрывали все большое пространство тела.',\n",
       " 'Живу в постоянных стрессах, то ли из-за жесткого графика роботы то ли из-за своего вспыльчивого характера, ну вообщем часто становиться плохо. Недавно вызывала скорую, кстати очень быстро реагируют и приедут даже в праздник, в любой район куда вам надо, оставлю ссылку на всякий случай, может кому-то понадобиться. Ну так вот, они посоветовали помимо других препаратов и Биоком. Честно говоря не особо нравятся антидепрессанты так как после любого жесткие помутнения, но раз врач говорит поможет значит поможет. Принимала где то неделю, единственное что у меня образовалось это тошнота. Теперь замечаю что стала более спокойна, уравновешенная. Если есть какие то проблемы с психическим состоянием или даже со сном, мне кажется это довольно таки неплохой вариант.',\n",
       " 'Эпиграф: \"Те, кто впадает в депрессию только осенью - ср... е позеры. Настоящие титаны тоски и печали пребывают в ней круглый год\".',\n",
       " 'Один из самых известных антидепрессантов 20-го века, довелось, что и мне пришлось его пить. Первое время не ощущала эффекта, а через месяц поняла, что очень резко похудела и стала меньше находится в депрессивном состоянии. Неплохо отбивает аппетит, для наркозависимых эффект так же хорошо ощутим, после чистки крови становится легче и переноситься все без травм для психики. Пить можно только по назначению врача, самолечение с данным препаратом не самая лучшая вещь. Очень много побочных эффектов и это хорошо выражается, однако, при правильном приеме, все отлично. Не совмещается со многими препаратами и не желательно пить, если есть осложнения на сердце.',\n",
       " 'Все началось с того, что в школе я была упитанной девочкой, а потом резко похудела из-за мальчика. И похудение стало главной целью. Сначала была анорексия, потом булимия. ',\n",
       " 'Здравствуй, читатель!',\n",
       " 'Начала пить по назначению врача. Лучше бы не пила их никогда. Первый месяц чувствовала себя хорошо и легко, потом становилось только хуже. Постоянная апатия, чувство одиночества, в итоге ты заедаешь стресс, но при этом ты как бы и не нервничаешь, не кричишь, не плачешь. Ещё из-за них бывает бессонница. Когда заметила ухудшения со здоровьем решила бросить, но не получилось. Начались сильные головные боли, тошнота, полная неадекватность сознания. Ходила как в тумане. Врач сказал, что пить их нужно полгода, либо год. Бросать следует постепенно. Уменьшая дозу. Но как это сделать непонятно, ведь они в капсулах и пила я их один раз в день с утра.',\n",
       " 'Прописали его мне и моему другу при депрессии, и его действие на нас было неодинаковым.',\n",
       " 'Добрый вечер уважаемые читатели! Назначали препарат в 2018 году, пропил не долго, месяц назад снова попросил врача выписать мне данный антидепрессант. Не знаю как у вас, в нашем городе продается только по рецепту, отличная упаковка, удобно то, что препарат в капсулах, а не в таблетках. Безвкусный, если рядом нет воды запить не беда, его можно и так проглотить. Нужно дать время чтобы препарат накопился в крови, тогда он начнет действовать. Сразу эффекта можно не ждать. Не значительно снижает аппетит, поднимает настроение, успокаивает нервную систему, становишься не таким раздражительным, стоимость копеечная для такого прекрасного антидепрессанта.',\n",
       " 'Добрый день. хочу высказать такие вот мысли по поводу этого антидепрессанта. как по- мне, антидепрессант обладает эффектом на уровне трициклических антидепрессантов, при том что имеет минимальные побочные эффекты и это один из главных его плюсов. нет седативного эффекта - второй плюс, ну и цена - довольно дешевый. что касается отрицательных моментов: пациентам у кого депрессии или тревожно-фобические расстройства - не рекомендую. если есть сильная тревога, то обойдите стороной, потому он может усилить эту тревогу. неплохо помогает при депрессии, булимии, анорексия и при обсессивно-компульсивном расстройстве(как в моем случае). при панических атаках тоже можно, но тут он слабоват... при приеме наблюдался плохой сон и повышение тревожности. засыпать было сложно и ухудшилось качество сна ...',\n",
       " 'Хочу написать об этом препарате, он вывел меня из тяжелой депрессии, долго подбирала антидепрессант и наконец нашла! Действие мягкое, не сильно ощутимо, особенно на начальном этапе лечения, медленно но верно восстанавливал мою психику, принимала его днем, на ночь бодрил, побочных не так много и не такие страшные!',\n",
       " 'Данный препарат был назначен мне от депрессии и булимии. ',\n",
       " 'На меня он действует немного иначе. Бессонница исчезла, сплю как младенец). До этого раньше 7-8 утра не засыпала(благо рабочий график гибкий) и просыпаюсь легко. Аппетит да, снизился до минимума, а я любитель вкусно поесть), по поводу снижения веса пока ничего не скажу, т. к принимаю все го пару недель, хотя подруга за месяц приёма скинула 6 кг) побочек для себя я не выявила',\n",
       " 'Как ингибитор обратного захвата серотонина препарат не справился. Состояние не изменилось после нескольких недель приема. Очень много побочных эффектов - тахикардия, отдышка, тошнота, головокружения и т. д.',\n",
       " 'Принимала не по назначению врача. На второй-третий день начала уходить из реальности. От депрессии никак не помог, может даже ухудшил, и желание есть осталось, и даже увеличилось.',\n",
       " 'Хочу сказать, что именно он, именно эти таблетки помогли мне с моей болезнью, могу спокойно жить, сейчас я их не принимаю, так как полностью вылечилась, но они очень сажают печень, так что потом советую пропить другие лекарства. Сами таблетки на вкус не противные, неплохие, в аптеках мне лично без рецепта не продавали, ну и правильно, ибо очень вредно для здоровья такие пить. Врачу большое спасибо, что выписал именно эти таблетки для меня, с ними я слова могу наслаждаться жизнью, гулять спокойно со своими роднымы и семьёй, стала жизнь намного проще и прекраснее, так что рекомендую вам, если конечно врач посоветовал, не бойтесь их пить',\n",
       " 'Прежде чем принимать, посоветуйтесь с семейным или участковым доктором. Средство справляется со своей задачей великолепно, но его побочный эффект - сонливость, так что будьте аккуратнее если ваша профессия требует внимательности. ',\n",
       " 'Назначил невролог. Сначала, начитавшись отзывов боялась его пить, но все же решила и не пожалела. Где то на 3ю неделю приема жизнь засияла радужными красками. Появилось постоянное ощущение счастья. Правда, от моих хронических болей он не помог, поэтому меня перевели на другой антидепрессант. Но Флуоксетин реально помогает от депрессии.',\n",
       " 'Добрый день всем! Хочу рассказать о своем опыте употребления флуоксетина.']"
      ]
     },
     "execution_count": 330,
     "metadata": {},
     "output_type": "execute_result"
    }
   ],
   "source": [
    "list(df['Текст отзыва'])"
   ]
  },
  {
   "cell_type": "markdown",
   "metadata": {},
   "source": [
    "Разделим текст отзыва по предложениям"
   ]
  },
  {
   "cell_type": "code",
   "execution_count": 243,
   "metadata": {},
   "outputs": [
    {
     "name": "stderr",
     "output_type": "stream",
     "text": [
      "[nltk_data] Downloading package punkt to\n",
      "[nltk_data]     /Users/darinamaduar/nltk_data...\n",
      "[nltk_data]   Unzipping tokenizers/punkt.zip.\n"
     ]
    }
   ],
   "source": [
    "from collections import defaultdict\n",
    "import nltk.tokenize\n",
    "from nltk.tag import pos_tag\n",
    "from nltk.tokenize.punkt import PunktSentenceTokenizer, PunktLanguageVars\n",
    "import nltk\n",
    "nltk.download('punkt')\n",
    "import re"
   ]
  },
  {
   "cell_type": "code",
   "execution_count": 268,
   "metadata": {},
   "outputs": [],
   "source": [
    "class ReviewLangVars(PunktLanguageVars):\n",
    "    sent_end_chars = ('pros:', 'cons:', '[','][','.','?','!', '+')\n",
    "    \n",
    "    \n",
    "sent_tokenizer1 = PunktSentenceTokenizer(lang_vars = ReviewLangVars())\n"
   ]
  },
  {
   "cell_type": "code",
   "execution_count": 269,
   "metadata": {},
   "outputs": [],
   "source": [
    "import re\n",
    "sent_tokenizer = lambda x : re.split('; |, |\\*|\\n|\\+',x)"
   ]
  },
  {
   "cell_type": "code",
   "execution_count": 296,
   "metadata": {},
   "outputs": [],
   "source": [
    "df['positive_sent'] = df['Достоинства'].apply(sent_tokenizer)\n",
    "df['negative_sent'] = df['Недостатки'].apply(sent_tokenizer)"
   ]
  },
  {
   "cell_type": "code",
   "execution_count": 290,
   "metadata": {},
   "outputs": [
    {
     "data": {
      "text/plain": [
       "['нету плюсов']"
      ]
     },
     "execution_count": 290,
     "metadata": {},
     "output_type": "execute_result"
    }
   ],
   "source": [
    "df['positive_sent'][10]"
   ]
  },
  {
   "cell_type": "code",
   "execution_count": 291,
   "metadata": {},
   "outputs": [
    {
     "data": {
      "text/plain": [
       "['Уравновешивает психику', 'поднимает настроение']"
      ]
     },
     "execution_count": 291,
     "metadata": {},
     "output_type": "execute_result"
    }
   ],
   "source": [
    "sent_tokenizer('Уравновешивает психику, поднимает настроение')"
   ]
  },
  {
   "cell_type": "code",
   "execution_count": 292,
   "metadata": {},
   "outputs": [],
   "source": [
    "def subsets(arr):\n",
    "    \"\"\" Returns non empty subsets of arr\"\"\"\n",
    "    return chain(*[combinations(arr, i + 1) for i, a in enumerate(arr)])\n",
    "\n",
    "\n",
    "def returnItemsWithMinSupport(itemSet, transactionList, minSupport, freqSet):\n",
    "        \"\"\"calculates the support for items in the itemSet and returns a subset\n",
    "       of the itemSet each of whose elements satisfies the minimum support\"\"\"\n",
    "        _itemSet = set()\n",
    "        localSet = defaultdict(int)\n",
    "\n",
    "        for item in itemSet:\n",
    "                for transaction in transactionList:\n",
    "                        if item.issubset(transaction):\n",
    "                                freqSet[item] += 1\n",
    "                                localSet[item] += 1\n",
    "\n",
    "        for item, count in localSet.items():\n",
    "                support = float(count)/len(transactionList)\n",
    "\n",
    "                if support >= minSupport:\n",
    "                        _itemSet.add(item)\n",
    "\n",
    "        return _itemSet\n",
    "\n",
    "\n",
    "def joinSet(itemSet, length):\n",
    "        \"\"\"Join a set with itself and returns the n-element itemsets\"\"\"\n",
    "        return set([i.union(j) for i in itemSet for j in itemSet if len(i.union(j)) == length])\n",
    "\n",
    "\n",
    "def getItemSetTransactionList(data_iterator):\n",
    "    transactionList = list()\n",
    "    itemSet = set()\n",
    "    for record in data_iterator:\n",
    "        transaction = frozenset(record)\n",
    "        transactionList.append(transaction)\n",
    "        for item in transaction:\n",
    "            itemSet.add(frozenset([item]))              # Generate 1-itemSets\n",
    "    return itemSet, transactionList\n",
    "\n",
    "\n",
    "def runApriori(data_iter, minSupport, minConfidence):\n",
    "    \"\"\"\n",
    "    run the apriori algorithm. data_iter is a record iterator\n",
    "    Return both:\n",
    "     - items (tuple, support)\n",
    "     - rules ((pretuple, posttuple), confidence)\n",
    "    \"\"\"\n",
    "    itemSet, transactionList = getItemSetTransactionList(data_iter)\n",
    "\n",
    "    freqSet = defaultdict(int)\n",
    "    largeSet = dict()\n",
    "    # Global dictionary which stores (key=n-itemSets,value=support)\n",
    "    # which satisfy minSupport\n",
    "\n",
    "    assocRules = dict()\n",
    "    # Dictionary which stores Association Rules\n",
    "\n",
    "    oneCSet = returnItemsWithMinSupport(itemSet,\n",
    "                                        transactionList,\n",
    "                                        minSupport,\n",
    "                                        freqSet)\n",
    "\n",
    "    currentLSet = oneCSet\n",
    "    k = 2\n",
    "    while(currentLSet != set([])):\n",
    "        largeSet[k-1] = currentLSet\n",
    "        currentLSet = joinSet(currentLSet, k)\n",
    "        currentCSet = returnItemsWithMinSupport(currentLSet,\n",
    "                                                transactionList,\n",
    "                                                minSupport,\n",
    "                                                freqSet)\n",
    "        currentLSet = currentCSet\n",
    "        k = k + 1\n",
    "\n",
    "    def getSupport(item):\n",
    "            \"\"\"local function which Returns the support of an item\"\"\"\n",
    "            return float(freqSet[item])/len(transactionList)\n",
    "\n",
    "    toRetItems = []\n",
    "    for key, value in list(largeSet.items()):\n",
    "        toRetItems.extend([(tuple(item), getSupport(item))\n",
    "                           for item in value])\n",
    "\n",
    "    toRetRules = []\n",
    "    for key, value in list(largeSet.items())[1:]:\n",
    "        for item in value:\n",
    "            _subsets = map(frozenset, [x for x in subsets(item)])\n",
    "            for element in _subsets:\n",
    "                remain = item.difference(element)\n",
    "                if len(remain) > 0:\n",
    "                    confidence = getSupport(item)/getSupport(element)\n",
    "                    if confidence >= minConfidence:\n",
    "                        toRetRules.append(((tuple(element), tuple(remain)),\n",
    "                                           confidence))\n",
    "    return toRetItems, toRetRules\n",
    "\n",
    "\n",
    "def printResults(items):\n",
    "    \"\"\"prints the generated itemsets sorted by support and the confidence rules sorted by confidence\"\"\"\n",
    "    for item, support in sorted(items, key=lambda item_support: item_support[1], reverse=True):\n",
    "        print(str(item), support)\n",
    "    #print (\"\\n------------------------ RULES:\")\n",
    "    #for rule, confidence in sorted(rules, key=lambda rule_confidence: rule_confidence[1]):\n",
    "        #pre, post = rule\n",
    "        #print (str(pre), str(post), confidence)\n"
   ]
  },
  {
   "cell_type": "code",
   "execution_count": 293,
   "metadata": {},
   "outputs": [],
   "source": [
    "import nltk\n",
    "from nltk.corpus import stopwords\n",
    "stopwords = stopwords.words('russian')\n",
    "\n",
    "stemmer = nltk.stem.porter.PorterStemmer()\n",
    "\n",
    "def stem(word):\n",
    "    \"\"\"Normalises words to lowercase and stems and lemmatizes it.\"\"\"\n",
    "    word = word.lower()\n",
    "    word = word.replace(\"'\",\"\").replace('\"','').replace('.','')\n",
    "    word1 = stemmer.stem(word)\n",
    "    return word1\n",
    "\n",
    "def acceptable_word(word):\n",
    "    \"\"\"Checks conditions for acceptable word: length, stopword.\"\"\"\n",
    "    accepted = bool((2 <= len(word) <= 40) and word.lower() not in stopwords)\n",
    "    return accepted\n",
    "        \n",
    "def get_terms(tree):\n",
    "    term = [ stem(w) for w in tree if acceptable_word(w) ]\n",
    "    yield term"
   ]
  },
  {
   "cell_type": "code",
   "execution_count": 294,
   "metadata": {},
   "outputs": [],
   "source": [
    "sent_fullreview = list()\n",
    "for index,ser_ in df.iterrows():\n",
    "    sent_fullreview.extend(ser_.positive_sent)"
   ]
  },
  {
   "cell_type": "code",
   "execution_count": 295,
   "metadata": {},
   "outputs": [
    {
     "data": {
      "text/plain": [
       "['Возвращает к жизни',\n",
       " 'похудение',\n",
       " 'Уравновешивает психику',\n",
       " 'поднимает настроение',\n",
       " 'отбивает аппетит.',\n",
       " 'помогло',\n",
       " 'Дешево и более чем эффективно',\n",
       " 'Нет',\n",
       " 'Помогает при психических расстройствах',\n",
       " 'Препарат работает!',\n",
       " 'Цена',\n",
       " 'Недорого',\n",
       " 'эффективно',\n",
       " 'Всего одна капсула в день! Очень демократичен по цене)',\n",
       " 'нету плюсов',\n",
       " 'делает человека счастливым',\n",
       " 'уходит раздражительность',\n",
       " 'депрессия и злость уходят',\n",
       " 'нет привыкания.',\n",
       " 'Цена',\n",
       " 'эффективность',\n",
       " 'депрессию лечит',\n",
       " 'Помогает',\n",
       " 'недорогой.',\n",
       " 'Достаточно эффективно',\n",
       " 'без неприятных побочных эффектов',\n",
       " 'дёшево.',\n",
       " 'Не хочется есть',\n",
       " 'Заглушает боль (физическую и душевную) напрочь. Цена не бьёт по карману',\n",
       " 'мой препарат.',\n",
       " 'Легко переносится.',\n",
       " 'Эффективен',\n",
       " 'отвлеченность',\n",
       " 'эффект Алисы в стране чудес ;для некоторых -потеря веса.',\n",
       " 'Действительно помог',\n",
       " 'бысто прошли побочки',\n",
       " 'Спас мне жизнь',\n",
       " 'Эффективен при грамотном назначении',\n",
       " 'Флуоксетин',\n",
       " 'действительно',\n",
       " 'легкое и дешевое решение многих проблем. Выравнивает настроение',\n",
       " 'прекрасно справляется с мрачными мыслями',\n",
       " 'нервными качелями.Худеете реально',\n",
       " 'курить бросаете тоже реально. Пить Флу нужно утром',\n",
       " 'тогда весь день бодрячок.',\n",
       " 'низкая цена',\n",
       " 'Много чего',\n",
       " 'волшебные таблетки.',\n",
       " 'Успокаивает',\n",
       " 'но не затормаживает. Дешево',\n",
       " 'Не обнаружила.',\n",
       " 'нет',\n",
       " 'если только кому то надо сбросить вес',\n",
       " 'эффективен',\n",
       " 'легко принимать',\n",
       " 'низкая цена',\n",
       " 'Ровное настроение',\n",
       " 'Ощутимый результат',\n",
       " 'отсутствие аппетита',\n",
       " 'помогает при депрессии',\n",
       " 'Цена Лечебный эффект',\n",
       " 'Улучшение настроения',\n",
       " 'похудение за счет снижения аппетита',\n",
       " 'спокойствие и чувство комфорта',\n",
       " 'а также ПОФИГИЗМ)',\n",
       " 'спокойствие',\n",
       " 'Цена',\n",
       " 'Помогает при бессонице,дешевая цена',\n",
       " 'Цена',\n",
       " 'эффект \"пофигизма\"',\n",
       " 'приводит в порядок нервишки сбивает аппетит до нуля отличная цена',\n",
       " 'Единственный плюс для кого то - снижение веса',\n",
       " 'умиротворение',\n",
       " 'побочек не было',\n",
       " 'либидо в обычном режиме',\n",
       " 'полное отсутствие агрессии. Цена!',\n",
       " 'Нормализует аппетит,лечит депрессию.',\n",
       " 'Недорого',\n",
       " 'эффективно.',\n",
       " 'все индивидуально',\n",
       " 'Отсутствие аппетита',\n",
       " 'подавление эмоций при сильное депрессии',\n",
       " 'улучшение настроения',\n",
       " 'снижают аппетит',\n",
       " 'дешевые',\n",
       " 'помог на все 100%',\n",
       " 'цена',\n",
       " 'потеря аппетита',\n",
       " 'способствует похудению из-за снижению аппетита',\n",
       " 'улучшает настроение и сон',\n",
       " 'Доступная цена',\n",
       " 'наличие практически во всех аптеках.',\n",
       " 'стабилизирует настроение и уменьшает аппетит сразу же',\n",
       " 'Эффективность',\n",
       " 'Прошли страхи',\n",
       " 'Ушла агрессия,хорошее настроение,уравновешенное состояние',\n",
       " 'Цена',\n",
       " 'отсутствие лишних мыслей',\n",
       " 'аппетита и желания',\n",
       " 'помог',\n",
       " 'чувствую себя на миллион',\n",
       " 'Дешевый',\n",
       " 'дешево эффективно',\n",
       " 'цена',\n",
       " 'эффект',\n",
       " 'Активизирует действие серотонина',\n",
       " 'гормона радости',\n",
       " 'в некоторых случаях действует',\n",
       " 'как психостимулятор',\n",
       " 'дешевая цена,доступность',\n",
       " 'Цена',\n",
       " 'Не о каких плюсах не может быть и речи',\n",
       " 'Недорогой',\n",
       " 'отлично помогает',\n",
       " 'снижение веса',\n",
       " 'цена.',\n",
       " 'Похудение',\n",
       " 'Нет привыкания',\n",
       " 'во время приема-снижение веса',\n",
       " 'хорошее настроение',\n",
       " 'полноценный сон. Если не работать и с целью похудеть-самое то.',\n",
       " 'Похудательный эффект',\n",
       " 'Действительно хороший антидепрессант',\n",
       " 'Быстрый сброс веса без лишних усилий,избавление от стресса и прочих проблем при приеме,повышение настроения от действия антидепрессанта. Доступность препарата.',\n",
       " 'Дешевый и эффективный',\n",
       " 'не увидела положительного',\n",
       " 'Повышает настроение',\n",
       " 'социальную активность',\n",
       " 'придает энергию',\n",
       " 'способствует похудению',\n",
       " 'Эффективное Цена Мало побочки',\n",
       " 'Цена. Пропала тревожность. Снижение аппетита = снижение веса. Легко принимается.',\n",
       " 'хороший антидепрессант',\n",
       " 'помогает почувствовать себя счастливой',\n",
       " 'похудела на нем',\n",
       " 'для меня все 5 плюсов',\n",
       " 'Нет плюсов . Никому и никогда не рекомендую ! Все ужасно . Спустя год только восстановила здоровье после него',\n",
       " 'При сильном стрессе помогут',\n",
       " 'недорогой',\n",
       " 'Помогают от депрессии .',\n",
       " 'Недорого стоит .',\n",
       " 'нашел хорошее для себя средство Нейрофулол',\n",
       " 'сплошные плюсы',\n",
       " 'цена смешная у отечественного производителя (производители разные) лучше конечно же флуоксетин (Ланнахер)',\n",
       " 'Помог избавиться от депрессии',\n",
       " 'Цена',\n",
       " 'хорошая переносимость',\n",
       " 'Чуть чуть снимает панику',\n",
       " 'Препарат со своей задачей справляется',\n",
       " 'Снижение аппетита.Дешевый препарат',\n",
       " 'уходят килограммы,хорошее настроение',\n",
       " 'недорогой',\n",
       " 'эффективный',\n",
       " 'Дешевый',\n",
       " 'не нашла',\n",
       " 'спокойствие',\n",
       " 'Нет',\n",
       " 'если бы они мне подошли',\n",
       " 'я прекратила поиски и не нашла то что мне надо',\n",
       " 'Помогает при тяжелых заболеваниях психики',\n",
       " 'дешевый',\n",
       " 'Не дорогой',\n",
       " 'расслабляющий',\n",
       " 'успокаивающий.',\n",
       " 'Избавляет от панических атак.',\n",
       " 'Осталась живой.',\n",
       " 'Быстрый эффект',\n",
       " 'снижение аппетита',\n",
       " 'низкая цена',\n",
       " 'очень дешево',\n",
       " 'Не нашла.',\n",
       " 'Никаких кроме цени',\n",
       " 'Из всех антидепрессантов более всего повышает настроение',\n",
       " 'Избавление от депрессии',\n",
       " 'повышение самооценки',\n",
       " 'снижение веса',\n",
       " 'низкая цена',\n",
       " 'Не привыкаем',\n",
       " 'распространен',\n",
       " 'Похудение',\n",
       " 'успокоение.',\n",
       " 'Безопасность',\n",
       " 'Успокаивает нервы. Худеешь',\n",
       " 'Дешёвый',\n",
       " 'эффективный и вполне доступен по-настоящему больным.',\n",
       " 'нет.',\n",
       " 'моментальное действие',\n",
       " 'оказалось эффективным в моём случае',\n",
       " 'Цена',\n",
       " 'после приема препарата наблюдала стрессоустойчивость',\n",
       " 'высокую роботоспособность',\n",
       " 'социальность и общительность',\n",
       " 'Легко не кушать',\n",
       " 'Не вызывает зависимости',\n",
       " 'Дешевизна',\n",
       " 'эффективность с первых дней приема',\n",
       " 'Эффективен в случаях легких депрессий',\n",
       " 'цена',\n",
       " 'Можно было бы хорошее настроение и потеря веса...но не такой ценой.В данном случае плюсом не считаю',\n",
       " 'цена',\n",
       " 'неприлично дешево :)',\n",
       " 'Сначала все будет радужно . Сначала...',\n",
       " 'Утром без проблем просыпаешься',\n",
       " 'зрачки широкие',\n",
       " 'мне нра)',\n",
       " 'Снижают аппетит',\n",
       " 'улучшают настроение',\n",
       " 'Не дорогой',\n",
       " 'Помогает похудеть',\n",
       " 'Кому-то помогает избавиться от депрессии',\n",
       " 'можно похудеть',\n",
       " 'цена',\n",
       " 'нет',\n",
       " 'Помогает',\n",
       " 'Спокойствие ',\n",
       " 'уравновешенность ',\n",
       " 'но это временно',\n",
       " 'Эффект',\n",
       " 'цена',\n",
       " 'Почти нет',\n",
       " 'нет',\n",
       " 'Депрессия на время ушла',\n",
       " 'хороший сон',\n",
       " 'похудела',\n",
       " 'Успокаивает',\n",
       " 'да есть',\n",
       " 'Эффект.Цена.',\n",
       " 'Помогает',\n",
       " 'Недорогой препарат',\n",
       " 'Снимает хроническую депрессию.',\n",
       " 'Отбивает аппетит',\n",
       " 'Эффективно',\n",
       " 'Нет',\n",
       " 'На недолгий срок угнетает аппетит',\n",
       " 'Быстрое похудение',\n",
       " 'хорошее настроение',\n",
       " 'Не вызывает набор веса',\n",
       " 'эффективно помогает при депрессии',\n",
       " 'недорогой',\n",
       " 'Флуоксетин для похудения и вывода из депрессии!',\n",
       " 'дёшево',\n",
       " 'помогает преодолеть стрессы',\n",
       " 'депрессию и вредные привычки',\n",
       " 'Хорошее средство',\n",
       " 'Нет',\n",
       " 'Дешево,лучший антидепрессант',\n",
       " 'Влияет на аппетит.',\n",
       " 'Настроение улучшилось,аппетит здорово убавился!',\n",
       " 'Хорошее настроение',\n",
       " 'физическая активность',\n",
       " 'цена',\n",
       " 'быстрый положительный эффект',\n",
       " 'побочное действие минимально',\n",
       " 'цена,качество',\n",
       " 'Помогает справиться с депрессией',\n",
       " 'Цена',\n",
       " 'Недорогой и действенный',\n",
       " 'Не нашла.',\n",
       " 'Нормализация психологического состояния',\n",
       " 'снижение уровня стрессовой готовности и тревожности',\n",
       " 'нормализация ночного сна.',\n",
       " 'Действует практически сразу(10-15 мин),низкая цена,быстрое похудение',\n",
       " 'Действенный',\n",
       " 'Цена',\n",
       " 'улучшает общее состояние',\n",
       " 'Цена,спокойствие,похудение',\n",
       " 'Нет аппетита-нет лишнего веса',\n",
       " 'помогает от депрессии',\n",
       " 'цена',\n",
       " 'помогает собраться',\n",
       " 'сокращает эпизоды',\n",
       " 'сначала помог',\n",
       " 'помогает при употреблении по назначению',\n",
       " 'Цена',\n",
       " 'работает',\n",
       " 'Бюджетно. Эффективно. Существенное облегчение симптомов депрессии. Отсутствие аппетита. Вес стоит или снижается.',\n",
       " 'доступная цена и стойкий эффект',\n",
       " 'Дешево',\n",
       " 'продается без рецепта.',\n",
       " 'Высокая эффективность',\n",
       " 'доступная цена',\n",
       " 'есть в большинстве аптек',\n",
       " 'Бодрит',\n",
       " 'снижает аппетит.',\n",
       " 'Цена',\n",
       " 'Убирает тревогу',\n",
       " 'успокаивает',\n",
       " 'не седативное средство',\n",
       " 'красивые капсулы',\n",
       " 'побочных эффектов нет',\n",
       " 'Приподнятое настроение',\n",
       " 'Помог препарат.',\n",
       " 'удобство применения',\n",
       " 'накопительный эффект. Реально лечит.',\n",
       " 'Помогает при булимии и депрессии',\n",
       " 'Помогают однозначно',\n",
       " 'после прекращения приема перестал помогать.',\n",
       " 'Действует при депрессии',\n",
       " 'недорогое',\n",
       " 'плюсом снижает аппетит',\n",
       " 'Помогает преодолеть трудные периоды в жизни',\n",
       " 'Хорошее настроение',\n",
       " 'нет повторение симптомов',\n",
       " 'стабильный вес',\n",
       " 'интерес к жизни',\n",
       " 'легкость в движении',\n",
       " 'кишечник и желудок нормально принимает лекарство.',\n",
       " 'недорогой',\n",
       " 'помогает',\n",
       " 'Помогает избавиться от обсессий.',\n",
       " 'Цена',\n",
       " 'результат во время приёма',\n",
       " 'убирает нервозность',\n",
       " 'успокаивает',\n",
       " 'да я стала чувствовать себя лучше',\n",
       " 'перестала плакать',\n",
       " 'похудела',\n",
       " 'помогает справиться с жором',\n",
       " 'эффективность при панических атаках',\n",
       " 'подавление аппетита',\n",
       " 'цена,возможность приобрести без рецепта',\n",
       " 'не было побочек',\n",
       " 'но они возможны',\n",
       " 'читай гугл',\n",
       " 'Эффективность',\n",
       " 'быстродействие.',\n",
       " 'Вместе с амитриптиллином - есть эффект',\n",
       " 'которые нивелируется прекращением приема',\n",
       " 'есть не хочется',\n",
       " 'Перестаешь есть ',\n",
       " 'похудеть реально',\n",
       " 'снимает раздражение',\n",
       " 'Действует',\n",
       " 'снижает аппетит',\n",
       " 'Цена',\n",
       " 'придаёт активность.',\n",
       " 'Низкая цена',\n",
       " 'практически 100% эффективность.',\n",
       " 'Не дает думать о проблемах',\n",
       " 'возвращает в реальную жизнь \"здесь и сейчас\"',\n",
       " 'Эффективность',\n",
       " 'недорогая цена',\n",
       " 'минимум побочных эффектов',\n",
       " 'Работает',\n",
       " 'дешево',\n",
       " 'Похудение',\n",
       " 'улучшение настроения',\n",
       " 'Появляется мечтательность',\n",
       " 'захотелось жить.',\n",
       " 'Временное повышение настроения',\n",
       " 'нормализация ЖКТ',\n",
       " 'Борьба с депрессией и другими тяжелыми состояниями Притупляет голод',\n",
       " 'Мягкое действие. Нет эффекта \"счастливой свиньи\")))',\n",
       " 'Эффективность',\n",
       " 'безопасность',\n",
       " 'Эффективный',\n",
       " 'улудшает настроение,помогает при проблемах с желудком и кишечником',\n",
       " 'Эффективный препарат.',\n",
       " 'Цена',\n",
       " 'Отсутствие аппетита,абсолютный пофигизм',\n",
       " 'Уменьшает тягу к спиртному',\n",
       " 'аппетит',\n",
       " 'снимает раздражительность и нервозность!',\n",
       " 'Цена. Борется с депрессией.',\n",
       " 'Снижение аппетита',\n",
       " 'цена',\n",
       " 'Худеешь.отличное настроение . отсутствие аппетита',\n",
       " 'Цена Эффект похудения',\n",
       " 'Убивает внутреннее тревожное состояние',\n",
       " 'успокаивает',\n",
       " 'прививает \"пофигизм\"',\n",
       " 'есть эффект недорогой цена',\n",
       " 'Действительно можно похудеть',\n",
       " 'Работает',\n",
       " 'Понижение аппетита',\n",
       " 'Действительно помог',\n",
       " 'недорогой и эффективный',\n",
       " 'Успокаивает',\n",
       " 'Высокая концентрация,спокойствие,понижение либодо,продление полового акта,хорошее в меру настроение.',\n",
       " 'Действие есть',\n",
       " 'но не сразу и слабое',\n",
       " 'Кардинально изменил мой характер к лучшему и расставил все точки на \"Ё\"',\n",
       " 'Помогает справиться с паническими атаками',\n",
       " 'хандрой.',\n",
       " 'Обостение ощущений',\n",
       " 'не зациклеваешься на переживаниях',\n",
       " 'В первые курсы приема справляется со своим назначением',\n",
       " 'Очень много!))',\n",
       " 'Помогает от депрессии',\n",
       " 'дешевизна',\n",
       " 'да',\n",
       " 'низкая стоймость и хороший эффект',\n",
       " 'Дешево',\n",
       " 'без побочек',\n",
       " 'удобно',\n",
       " 'Хороший препарат для худеющих или для тех',\n",
       " 'кто нуждается в антидепрессантах.',\n",
       " 'Эффективное.',\n",
       " 'аппетит действительно уменьшается',\n",
       " 'Дешёвая цена,плюсов больше нет',\n",
       " 'тотальное спокойствие',\n",
       " 'Цена просто символичная.',\n",
       " 'Действенный',\n",
       " 'недорогой',\n",
       " 'удобен в приеме',\n",
       " 'возвращает к жизни',\n",
       " 'Реально помогает',\n",
       " 'даёт покой и равновесие.',\n",
       " 'Нет депрессии',\n",
       " 'нет булимии.',\n",
       " 'Эффект на лицо',\n",
       " 'Быстрый эффект',\n",
       " 'отлично помогает справиться с депрессией и плохими мыслями!',\n",
       " 'недорог',\n",
       " 'побочных эффектов у меня не было',\n",
       " 'Не вызывает сонливости. Поднимает настроение.',\n",
       " 'низкая стоимость,эффективность',\n",
       " 'Спокойствие',\n",
       " 'но аппатичное',\n",
       " 'снижение тревожности Подавление аппетита',\n",
       " 'Меня успокоил',\n",
       " 'Эффективный',\n",
       " 'не вызвавший сонливости и головокружений',\n",
       " 'антидепрессант.',\n",
       " 'эффективное лекарство',\n",
       " 'Помогает',\n",
       " 'цена',\n",
       " 'Дешево',\n",
       " 'аппетит отбивает',\n",
       " 'накапливается в крови',\n",
       " 'Помогает при нервной булимии',\n",
       " 'но не всем.',\n",
       " 'абсолютная энергия',\n",
       " 'бюджетно',\n",
       " 'похудение',\n",
       " 'нормализация сна',\n",
       " 'настроение',\n",
       " 'не хочется курить',\n",
       " 'даёт силы',\n",
       " 'действенный препарат',\n",
       " 'Недорогой. Изначально вызывает сонливость и заторможенность. Хорошо сбивает аппетит',\n",
       " 'ушла плаксивость',\n",
       " 'Цена и доступность',\n",
       " 'Хорошо думается после недели применения',\n",
       " 'более сосредоточен',\n",
       " 'спокоен и уравновешен.',\n",
       " 'Нет',\n",
       " 'Дёшево,хороший эффект',\n",
       " 'Помогает избавиться от тревожных состояний',\n",
       " 'апатии и некотролируемого аппетита. Снова появляется вкус к жизни',\n",
       " 'Помогает не думать о проблемах',\n",
       " 'цена',\n",
       " 'есть эффект',\n",
       " 'Не заметила',\n",
       " 'Цена',\n",
       " 'действие',\n",
       " 'дешевый',\n",
       " 'снижает аппетит',\n",
       " 'поднимает настроение',\n",
       " 'не много побочек',\n",
       " 'недорогой.',\n",
       " 'Действительно лечит',\n",
       " 'Отличный препарат',\n",
       " 'повышает настроение и снижает аппетит',\n",
       " 'не дорогой',\n",
       " 'Цена',\n",
       " 'удобно',\n",
       " 'не обнарежны',\n",
       " 'если назначил врач',\n",
       " 'Реально помогают',\n",
       " 'Справляется со своей задачей на 100%',\n",
       " 'Появляется хорошее настроение',\n",
       " 'уходит нервозность. Улудшается сон.',\n",
       " 'Кратковременный приятный эффект']"
      ]
     },
     "execution_count": 295,
     "metadata": {},
     "output_type": "execute_result"
    }
   ],
   "source": [
    "sent_fullreview"
   ]
  },
  {
   "cell_type": "code",
   "execution_count": 298,
   "metadata": {},
   "outputs": [],
   "source": [
    "sent_neg_review = list()\n",
    "for index,ser_ in df.iterrows():\n",
    "    sent_neg_review.extend(ser_.negative_sent)"
   ]
  },
  {
   "cell_type": "code",
   "execution_count": 299,
   "metadata": {},
   "outputs": [
    {
     "data": {
      "text/plain": [
       "['Серьезный препарат',\n",
       " 'по рецептам',\n",
       " 'только под наблюдением врача',\n",
       " 'Возможны побочки.',\n",
       " 'похудел',\n",
       " 'Много побочных эффектов',\n",
       " 'Не помогает',\n",
       " 'Нету тут минусов',\n",
       " 'Сухость во рту',\n",
       " 'хотя это приучило меня',\n",
       " 'наконец',\n",
       " 'пить воду ))',\n",
       " 'Побочные ужастики',\n",
       " 'древние таблетки',\n",
       " 'есть противопоказания',\n",
       " 'сильнодействующий препарат',\n",
       " 'Длительный курс приема.',\n",
       " 'я уже перечислил',\n",
       " 'головная боль',\n",
       " 'потеря аппетита.',\n",
       " 'Побочки',\n",
       " 'Продается по рецепту.',\n",
       " 'Иногда попадаются пустышные партии.',\n",
       " 'Болит голова Бессонница Ходишь как зомби Сложный отказ (болят суставы',\n",
       " 'голова и тд)',\n",
       " 'Отсутствие слёз',\n",
       " 'снижение артериального давления',\n",
       " 'пофигизм на всё происходящее',\n",
       " 'нечёткость зрения',\n",
       " 'головная боль.',\n",
       " 'Не эффективен для похудения',\n",
       " 'это точно!',\n",
       " 'Есть побочки и противопоказания',\n",
       " 'равнодушие,потеря веса и либидо',\n",
       " 'Не нашла',\n",
       " 'во время лечения пропало либидо',\n",
       " 'но после лечения всё стало даже лучше чем было до лечения',\n",
       " 'Многовато побочных явлений',\n",
       " 'Алкоголь! Во время приема Флу ни в коем случае. От бокала вина меня развозило в хламину',\n",
       " 'реакция может быть любая',\n",
       " 'да анафилактического шока. Не рискуйте',\n",
       " 'очень опасно.',\n",
       " 'побочные эффекты',\n",
       " 'Все стало по фигу.',\n",
       " 'Нет',\n",
       " 'Опасный препарат и принимать его действительно нужно только по рекомендации врача.',\n",
       " 'тошнота',\n",
       " 'рвота',\n",
       " 'сон совсем пропал',\n",
       " 'и так тошнотворное состояние еще и усиливается а не проходит',\n",
       " 'необходима консультация врача',\n",
       " 'Панические атаки',\n",
       " 'Пока что не обнаружено',\n",
       " 'не каждый \"Флуоксетин\" работает как надо',\n",
       " 'не все аптеки продадут',\n",
       " 'Сонливость днем',\n",
       " 'бессонница ночью',\n",
       " 'УМЕНЬШЕНИЕ ЛЕБИДО.',\n",
       " 'много побочных эффектов (читайте мой отзыв)',\n",
       " 'Побочные эффекты довольно ощутимы',\n",
       " 'но это индивидуально.',\n",
       " 'Подходит не для всех,выпускается по рецепту,результат длится не долго',\n",
       " 'Продается по рецепту (без него достать трудно)',\n",
       " 'куча побочных действий (в т.ч. сбой менструации и либидо на нуле)',\n",
       " 'огромные зрачки жуткий сушняк',\n",
       " 'Возможная смерть',\n",
       " 'На аппетит не влияет (выдумки',\n",
       " 'самовнушение)',\n",
       " 'Если не превышать дозировку. нет.',\n",
       " 'не похудела',\n",
       " 'вызывает привыкание.',\n",
       " 'само применение препарата',\n",
       " 'Головокружение',\n",
       " 'отсутствие любого рода эмоций',\n",
       " 'сонливость',\n",
       " 'состояние \"овоща\"',\n",
       " 'не всегда действуют',\n",
       " 'много побочек',\n",
       " 'нет',\n",
       " 'побочный эффект',\n",
       " 'сонливость тахикардия',\n",
       " 'вызывает привыкание',\n",
       " 'Побочный эффект в виде диареи. Снижается масса теля.',\n",
       " 'плохой сон порой',\n",
       " 'Нет!',\n",
       " 'нет',\n",
       " 'долго ждать эффекта',\n",
       " 'Заторможенность',\n",
       " 'комплекс таблеток дороговато вышел',\n",
       " 'таблетки в принципе безвредными не бывают',\n",
       " 'Много сильных побочек.',\n",
       " 'сильная побочка',\n",
       " 'при длительных приемах может вызвать и дибает',\n",
       " 'побочки',\n",
       " 'Не всем помогает',\n",
       " 'Побочные эффекты,отсутствие результата',\n",
       " 'Неопределенный эффект',\n",
       " 'Панические аттаки,невроз,психологические проблемы на всю жизнь',\n",
       " 'Легкая бессонница в начале приема',\n",
       " 'Серьезный препарат! принимать только по назначению врача!',\n",
       " 'Равнодушие',\n",
       " 'Не обнаружил',\n",
       " 'Нарушение памяти',\n",
       " 'чувства реальности.Отсутствие концентрации внимания. Снижение либидо. Дрожь как с похмелья.',\n",
       " 'По рецепту',\n",
       " 'побочка сильная',\n",
       " 'Апатия',\n",
       " 'привыкание',\n",
       " 'потеря чувства голода',\n",
       " 'потеря веса',\n",
       " 'Суицидальные состояния и головокружение,нарушение пищеварения.',\n",
       " 'Много побочек',\n",
       " 'очень сильные побочки',\n",
       " 'не нашла',\n",
       " 'Хочется спать Резкая потеря веса',\n",
       " 'Сухость во рту. Долгая адаптация к побочным эффектам',\n",
       " 'таким как тошнота',\n",
       " 'головные боли. Апатия полнейшая.',\n",
       " 'привыкание и псих. комплексы',\n",
       " 'пока не нашла',\n",
       " 'Провалы в памяти ',\n",
       " 'просто бесполезно . Возможно не правильно принимала ',\n",
       " 'но все же !',\n",
       " 'Выше перечислила',\n",
       " 'много побочных эффектов',\n",
       " 'Привыкание.',\n",
       " 'Не во всех аптеках продают .',\n",
       " 'усугубил свою дипрессию',\n",
       " 'нужен рецепт',\n",
       " 'множество побочных эффектов',\n",
       " 'Болит желудок',\n",
       " 'Бессонница',\n",
       " 'раздражение',\n",
       " 'потеря аппетита,дрожание конечностей верхних и головы,запор,суицид альные мысли появились',\n",
       " 'Набор веса',\n",
       " 'приобретенный диабет.',\n",
       " 'После приема раздражительность.',\n",
       " 'есть побочки',\n",
       " 'не нашла',\n",
       " 'Не оправдал ожиданий',\n",
       " 'Побочные эффекты',\n",
       " 'не помогает для похудения',\n",
       " 'Клонит в сон',\n",
       " 'усугубление психологического состояния',\n",
       " 'Слишком много побочных эффектов',\n",
       " 'побочные эффекты',\n",
       " 'Трудно достать без рецепта врача',\n",
       " 'отсутствие аппетита',\n",
       " 'быстрое похудение',\n",
       " 'потеря памяти',\n",
       " 'тошнота',\n",
       " 'головокружение',\n",
       " 'суицидальные наклонности.',\n",
       " 'Принимать строго перед едой.',\n",
       " 'Глушит симптомы',\n",
       " 'набрала 5 кг.',\n",
       " 'Опасны',\n",
       " 'можно слететь с катушек',\n",
       " 'эффекта ноль',\n",
       " 'Только одни минусы',\n",
       " 'Пустишки не подествовало',\n",
       " 'Вызывает тревогу.ВСЕ Флуоксетины могут вызывать вначале головную боль и прыщи',\n",
       " 'Сложно купить без рецепта',\n",
       " 'снижение либидо(со временем востанавливается)',\n",
       " 'Не нашла',\n",
       " 'Апатия',\n",
       " 'гастрит',\n",
       " 'анорексия и все перечисленные',\n",
       " 'По рецепту',\n",
       " 'Не нашла.',\n",
       " 'Продаётся по рецепту',\n",
       " 'так что желающим похудеть будет сложно достать',\n",
       " 'много побочных эффектов.',\n",
       " 'неприятные побочки.',\n",
       " 'эффект может быть неожиданным',\n",
       " 'может быть потеря массы тела',\n",
       " 'Нет',\n",
       " 'после приема препарата было расстройство желудка',\n",
       " 'мало эмоций',\n",
       " 'Апатия',\n",
       " 'тахикардия (побочные эффекты)',\n",
       " 'Не нашла',\n",
       " 'Возможны побочные явления',\n",
       " 'Неэффективен при тяжелых депрессиях',\n",
       " 'депрессия',\n",
       " 'У многих не хватает серого вещ-ва,чтобы понять,что это не игрушка.При неправильном,ненужном употреблении вредит организму',\n",
       " 'обратная реакция',\n",
       " 'кому как',\n",
       " 'Моя история показала всю боль от флу',\n",
       " 'глаза слезятся',\n",
       " 'сонливость',\n",
       " 'вызывают привыкание',\n",
       " 'Вызывает привыкание к компонентам',\n",
       " 'Может сделать еще хуже чем было',\n",
       " 'сплошные минусы',\n",
       " 'вредно',\n",
       " 'много побочных эффектов',\n",
       " 'Снижение полового влечения',\n",
       " 'невнимательность ',\n",
       " 'рассеянность',\n",
       " 'Изжога',\n",
       " 'постоянно пить нельзя',\n",
       " 'Тошнота Рвота Состояние тупого овоща Апатия Невозможно есть вообще',\n",
       " 'потливость',\n",
       " 'головная боль',\n",
       " 'тахикардия',\n",
       " 'повышение АД',\n",
       " 'Много побочных эффектов',\n",
       " 'Не во всех аптеках продают',\n",
       " 'пока нет',\n",
       " 'Моя личность была подавлена.',\n",
       " 'Нельзя с алкоголем',\n",
       " 'Препарат рецетпурный.не стоит пить его без необходимости.',\n",
       " 'Возможные побочные действия: отсутствие аппетита.',\n",
       " 'Нарушает психику',\n",
       " 'могут быть побочки',\n",
       " 'Очень опасные побочные эффекты',\n",
       " 'Синдром отмены',\n",
       " 'бессонница',\n",
       " 'быстрая утомляемость',\n",
       " 'Миллион и одна побочка',\n",
       " 'привыкание',\n",
       " 'ухудшение здоровья',\n",
       " 'тщетные попытки забеременеть после него',\n",
       " 'задержка месячных',\n",
       " 'Индивидуально для каждого',\n",
       " 'есть побочные эффекты',\n",
       " 'Сухость во рту незначительная',\n",
       " 'понижает либидо',\n",
       " 'Есть побочные эффекты',\n",
       " 'ознакомьтесь с инструкцией!',\n",
       " 'Серьезные последствия для здоровья',\n",
       " 'Побочные эффекты',\n",
       " 'Нельзя принимать алкоголь.',\n",
       " 'Нет.',\n",
       " 'Их нет',\n",
       " 'химический препарат - подумайте прежде чем пить',\n",
       " 'Быстрое привыкание и побочные эффекты',\n",
       " 'Потеря аппетита',\n",
       " 'Побочки',\n",
       " 'Головная боль',\n",
       " 'Как по мне сплошные минусы.',\n",
       " 'Снижение либидо.',\n",
       " 'Большое количество побочных эффектов',\n",
       " 'Многие принимают',\n",
       " 'как таблетки для похудения',\n",
       " 'Не всем способен помочь',\n",
       " 'минусовнет',\n",
       " 'Через месяц после окончания можно опять начать нервничать',\n",
       " 'Минусов,увы нет',\n",
       " 'есть побочные эффекты. но мало',\n",
       " 'много побочных реакций',\n",
       " 'Потом не помог',\n",
       " 'много побочных',\n",
       " 'Может быть недостаточно эффективен при тяжёлой депрессии',\n",
       " 'Сонливость',\n",
       " 'постоянное зевание',\n",
       " 'тошнота при зевании',\n",
       " 'искажение восприятия. Синдром отмены. Не стоит принимать с алкоголем.',\n",
       " 'пониженное либидо',\n",
       " 'Много побочных действий.',\n",
       " 'Довольно жесткие побочные явления',\n",
       " 'Нет.',\n",
       " 'Очень много побочек',\n",
       " 'почти все на себе ощутила',\n",
       " 'Не для всех подойдёт',\n",
       " 'возвращение симптомов',\n",
       " 'Иногда не адекватные поступки и смех',\n",
       " 'Могут быть побочные эффекты.',\n",
       " 'более чем серьёзное лекарство',\n",
       " 'действует на мозг. Побочные эффекты.',\n",
       " 'По рецепту',\n",
       " 'побочки',\n",
       " 'Отсутствие побочных эффектов',\n",
       " 'цена.',\n",
       " 'Влияет на либидо',\n",
       " 'Вреден',\n",
       " 'как и все лекарства',\n",
       " 'Лишний раз хочется полежать',\n",
       " 'но это и так все любят))',\n",
       " 'для меня нету',\n",
       " 'Побочные эффекты.',\n",
       " 'Побочные эффекты после отмены',\n",
       " 'зависимость',\n",
       " 'снижение либидо',\n",
       " 'отсутствие оргазма',\n",
       " 'появление агрессии',\n",
       " 'тошнит от еды',\n",
       " 'нет',\n",
       " 'привыкаемость,вследствие чего перестает помогать',\n",
       " 'организм привыкает. и без флу после отмены противно жить',\n",
       " 'Побочные эффекты',\n",
       " 'много побочек',\n",
       " 'ощущение \"не себя\"',\n",
       " 'странные эффекты',\n",
       " 'Огромное количество опасных побочных реакций',\n",
       " 'очень много по бочек',\n",
       " 'мешает водить авто',\n",
       " 'Сонливость',\n",
       " 'кошмарные сны',\n",
       " 'Усиление тревоги',\n",
       " 'бессонница',\n",
       " 'ажитация.',\n",
       " 'Много как минимум неприятный и как максимум опасный для здоровья побочек.',\n",
       " 'Тупит',\n",
       " 'тормозит',\n",
       " 'не совместим с алкоголем',\n",
       " 'тошнит от еды',\n",
       " 'Побочный эффект в виде маловероятного возможного самоубийства',\n",
       " 'серьёзное снижение потенции',\n",
       " 'ненавязчивое ощущение \"не себя\"',\n",
       " 'Умеренные побочные эффекты',\n",
       " 'Головная боль',\n",
       " 'много побочек',\n",
       " 'Вялость',\n",
       " 'апатия.',\n",
       " 'Головные боли',\n",
       " 'раздражительность при длительном приеме',\n",
       " 'заторможенность',\n",
       " 'Возможно жжение',\n",
       " 'ВСЕ Флуоксетины могут вызывать вначале головную боль и прыщи',\n",
       " 'Побочные эффекты',\n",
       " 'принимать с осторожностью (не противоречит плюсу \"безопасность\"',\n",
       " 'там совсем про другое)',\n",
       " 'нет',\n",
       " 'продается по рецепту,серьезные побочные действия',\n",
       " 'Множество побочных действий.',\n",
       " 'После приёма становится ещё хуже.зависимость.',\n",
       " 'Страшные побочные эффекты и привыкание',\n",
       " 'Пить утром',\n",
       " 'чтобы не было бессонницы! Недорогой препарат!',\n",
       " 'Нет',\n",
       " 'Со временем требуется повышать дозу применения',\n",
       " 'т.к. происходит привыкание',\n",
       " 'Боли в животе.',\n",
       " 'Побочные эффекты Рецептурный препарат',\n",
       " 'Пониженная концентрация внимания (мешает работе)',\n",
       " 'действия ждать нужно долго длительный курс лечения заметно снижает либидо много побочек нельзя без назначения врача опасно принимать без контроля врача падение либидо',\n",
       " 'Состояние овоща',\n",
       " 'тяга к самоубийству',\n",
       " 'По рецепту',\n",
       " 'Вялость,вечная мерзлота,нехватка сил.',\n",
       " 'Не выявлено',\n",
       " 'зависимость',\n",
       " 'Нет',\n",
       " 'Побочки :Бессоница,придется дополнительно покупать дорогие лекарства содержащие мелатонин.',\n",
       " 'Побочные действия не сильные',\n",
       " 'но кошмарные сны',\n",
       " 'Изжога',\n",
       " 'непроизвольные мышечные спазмы',\n",
       " 'длительный приём',\n",
       " 'действует не сразу.',\n",
       " 'Дороговат ~ 120-140руб за 20капс. по 20мг.',\n",
       " 'ОЧЕНЬ много полочек проявилось',\n",
       " 'Снижает либидо',\n",
       " 'на последующих курсах эффективность снижается',\n",
       " 'Вообще нету',\n",
       " 'но предупрежу что данный препарат редко но может в начале приёма обострить суицидальные мысли',\n",
       " 'хотя это касается всех сиозс',\n",
       " 'Побочные эффекты',\n",
       " 'не всем подходит',\n",
       " 'пока нет',\n",
       " 'людям с тревогой не подходит',\n",
       " 'Нет',\n",
       " 'К сожалению',\n",
       " 'не всем подходит',\n",
       " 'имеет ряд побочных эффектов.',\n",
       " 'Есть побочные явления.',\n",
       " 'небольшая тошнота в первые сутки присутствует',\n",
       " 'Тошнота,жуткое сердцебиение,с малым количеством алкоголя вплоть до комы и потери сознания',\n",
       " 'головные боли',\n",
       " 'сонливость',\n",
       " 'безразличие ко всему',\n",
       " 'Побочные эффекты.',\n",
       " 'Много противопоказаний',\n",
       " 'кое где не купить без рецепта.',\n",
       " 'Побочные эффекты. Особенно-нечёткость зрения.',\n",
       " 'Оочень тяжело найти / купить',\n",
       " 'Нет',\n",
       " 'много побочек',\n",
       " 'некоторый дискомфорт в первые дни применения',\n",
       " 'на меня эффекта не оказал',\n",
       " 'У ВСЕХ Флуоксенинов в качестве побочки первое время может быть головная боль и прыщи.',\n",
       " 'не всегда продадут без рецепта,много возможных побочных эффектов',\n",
       " 'Постоянная зевота с непонятными ощущениями',\n",
       " 'постоянный Озноб',\n",
       " 'головная боль',\n",
       " 'Ранние подъёмы',\n",
       " 'Проявляется побочный эффект.',\n",
       " 'по рецепту',\n",
       " 'Расширенные зрачки',\n",
       " 'Побочки',\n",
       " 'зомби эффект',\n",
       " 'Пропадает сон',\n",
       " 'эйфория',\n",
       " 'не совсем адекватное поведение',\n",
       " 'побочку надо перетерпеть',\n",
       " 'нельзя с алкоголем',\n",
       " 'сухость во рту',\n",
       " 'нельзя алкоголь',\n",
       " 'Не везде продают. Пить нужно длительными курсами',\n",
       " 'набрала вес',\n",
       " 'Препарат не работает или работает не так как нужно',\n",
       " 'аллергическая реакция',\n",
       " 'раздражительность',\n",
       " 'По началу есть немного',\n",
       " 'тошнота',\n",
       " 'потеря сосредоточенности',\n",
       " 'сонливость',\n",
       " 'Снижение аппетита',\n",
       " 'раскоординация движений',\n",
       " 'спутанность сознания',\n",
       " 'сухость во рту',\n",
       " 'Много побочек',\n",
       " 'Снижение либидо',\n",
       " 'Побочные эффекты',\n",
       " 'убивает психику',\n",
       " 'От них не худеешь,а только наоборот набираешь вес Очень много побочных эффектов Сложно прекратить пить',\n",
       " 'Иногда не работает',\n",
       " 'нужно ждать пока препарат накопится в крови',\n",
       " 'могут быть проблемы со сном и не борется с тревогой',\n",
       " 'Тахикардия',\n",
       " 'Только по рецепту',\n",
       " 'Пока не заметила',\n",
       " 'побочка',\n",
       " 'увеличилось желание есть',\n",
       " 'углубилась в депрессию',\n",
       " 'Вредит немного здоровью',\n",
       " 'Повышение сонливости',\n",
       " 'уменьшение чувства голода',\n",
       " 'Не заметила.',\n",
       " 'Быстро развивающаяся толерантность,обильный список побочных действий']"
      ]
     },
     "execution_count": 299,
     "metadata": {},
     "output_type": "execute_result"
    }
   ],
   "source": [
    "sent_neg_review"
   ]
  },
  {
   "cell_type": "code",
   "execution_count": 301,
   "metadata": {},
   "outputs": [
    {
     "name": "stderr",
     "output_type": "stream",
     "text": [
      "[nltk_data] Downloading package averaged_perceptron_tagger to\n",
      "[nltk_data]     /Users/darinamaduar/nltk_data...\n",
      "[nltk_data]   Unzipping taggers/averaged_perceptron_tagger.zip.\n"
     ]
    },
    {
     "data": {
      "text/plain": [
       "True"
      ]
     },
     "execution_count": 301,
     "metadata": {},
     "output_type": "execute_result"
    }
   ],
   "source": [
    "nltk.download('averaged_perceptron_tagger')"
   ]
  },
  {
   "cell_type": "code",
   "execution_count": 307,
   "metadata": {},
   "outputs": [
    {
     "name": "stdout",
     "output_type": "stream",
     "text": [
      "[['жизни'], ['похудение'], ['уравновешивает', 'психику'], ['поднимает', 'настроение'], ['аппетит'], ['помогло'], ['эффективно'], [], ['психических', 'расстройствах'], ['работает'], ['цена'], ['недорого'], ['эффективно'], ['одна', 'капсула', 'день', 'цене'], ['нету', 'плюсов'], ['человека', 'счастливым'], ['уходит', 'раздражительность'], ['злость', 'уходят'], ['привыкания'], ['цена']]\n"
     ]
    }
   ],
   "source": [
    "def is_noun(n):\n",
    "    if n=='NN' or n=='NNS' or n=='NNP' or n=='NNPS':\n",
    "        return True\n",
    "\n",
    "revset=[]\n",
    "for line in sent_fullreview:\n",
    "    a = nltk.word_tokenize(line)\n",
    "    nouns = [word for (word, pos) in nltk.pos_tag(a) if is_noun(pos)] \n",
    "    terms = get_terms(nouns)\n",
    "        \n",
    "    for term in terms:   \n",
    "        tempset=[]\n",
    "        for word in term:\n",
    "            tempset.append(word)\n",
    "        revset.append(tempset)\n",
    "print(revset[:20])"
   ]
  },
  {
   "cell_type": "code",
   "execution_count": 303,
   "metadata": {},
   "outputs": [
    {
     "name": "stdout",
     "output_type": "stream",
     "text": [
      "[['серьезный', 'препарат'], ['рецептам'], ['наблюдением', 'врача'], ['побочки'], ['похудел'], ['побочных', 'эффектов'], ['помогает'], ['минусов'], ['рту'], ['это', 'приучило'], [], ['воду'], ['побочные', 'ужастики'], ['древние', 'таблетки'], ['противопоказания'], ['сильнодействующий', 'препарат'], ['курс', 'приема'], ['перечислил'], ['головная', 'боль'], ['аппетита']]\n"
     ]
    }
   ],
   "source": [
    "def is_noun(n):\n",
    "    if n=='NN' or n=='NNS' or n=='NNP' or n=='NNPS':\n",
    "        return True\n",
    "\n",
    "revset=[]\n",
    "for line in sent_neg_review:\n",
    "    a = nltk.word_tokenize(line)\n",
    "    nouns = [word for (word, pos) in nltk.pos_tag(a) if is_noun(pos)] \n",
    "    terms = get_terms(nouns)\n",
    "        \n",
    "    for term in terms:   \n",
    "        tempset=[]\n",
    "        for word in term:\n",
    "            tempset.append(word)\n",
    "        revset.append(tempset)\n",
    "print(revset[:20])"
   ]
  },
  {
   "cell_type": "code",
   "execution_count": 308,
   "metadata": {},
   "outputs": [
    {
     "name": "stdout",
     "output_type": "stream",
     "text": [
      "('цена',) 0.10759493670886076\n",
      "('настроение',) 0.052742616033755275\n",
      "('аппетит',) 0.0379746835443038\n",
      "('эффект',) 0.035864978902953586\n",
      "('депрессии',) 0.029535864978902954\n",
      "('аппетита',) 0.029535864978902954\n",
      "('помогает',) 0.027426160337552744\n",
      "('хорошее',) 0.023206751054852322\n",
      "('недорогой',) 0.023206751054852322\n",
      "('веса',) 0.02109704641350211\n",
      "('дешево',) 0.0189873417721519\n",
      "('хорошее', 'настроение') 0.0189873417721519\n",
      "('эффективность',) 0.016877637130801686\n",
      "('препарат',) 0.016877637130801686\n",
      "('похудение',) 0.016877637130801686\n",
      "('спокойствие',) 0.014767932489451477\n",
      "('эффективно',) 0.014767932489451477\n",
      "('низкая',) 0.014767932489451477\n",
      "('снижение',) 0.012658227848101266\n",
      "('успокаивает',) 0.012658227848101266\n",
      "('действие',) 0.012658227848101266\n",
      "('отсутствие',) 0.012658227848101266\n",
      "('реально',) 0.012658227848101266\n",
      "('цена', 'низкая') 0.012658227848101266\n",
      "('приема',) 0.010548523206751054\n",
      "('жизни',) 0.010548523206751054\n",
      "('хороший',) 0.010548523206751054\n",
      "('настроения',) 0.010548523206751054\n",
      "('эффективный',) 0.010548523206751054\n",
      "('действительно',) 0.010548523206751054\n",
      "('отсутствие', 'аппетита') 0.010548523206751054\n"
     ]
    }
   ],
   "source": [
    "items, rules = Apriori(positive, 0.01, 0.05)\n",
    "print(items)"
   ]
  },
  {
   "cell_type": "code",
   "execution_count": 324,
   "metadata": {},
   "outputs": [
    {
     "name": "stdout",
     "output_type": "stream",
     "text": [
      "[['серьезный', 'препарат'], ['рецептам'], ['наблюдением', 'врача'], ['побочки'], ['похудел'], ['побочных', 'эффектов'], ['помогает'], ['минусов'], ['рту'], ['это', 'приучило'], [], ['воду'], ['побочные', 'ужастики'], ['древние', 'таблетки'], ['противопоказания'], ['сильнодействующий', 'препарат'], ['курс', 'приема'], ['перечислил'], ['головная', 'боль'], ['аппетита']]\n"
     ]
    }
   ],
   "source": [
    "def is_noun(n):\n",
    "    if n=='NN' or n=='NNS' or n=='NNP' or n=='NNPS':\n",
    "        return True\n",
    "\n",
    "revset=[]\n",
    "for line in sent_neg_review:\n",
    "    a = nltk.word_tokenize(line)\n",
    "    nouns = [word for (word, pos) in nltk.pos_tag(a) if is_noun(pos)] \n",
    "    terms = get_terms(nouns)\n",
    "        \n",
    "    for term in terms:   \n",
    "        tempset=[]\n",
    "        for word in term:\n",
    "            tempset.append(word)\n",
    "        revset.append(tempset)\n",
    "print(revset[:20])"
   ]
  },
  {
   "cell_type": "code",
   "execution_count": 325,
   "metadata": {},
   "outputs": [
    {
     "name": "stdout",
     "output_type": "stream",
     "text": [
      "('эффекты',) 0.06018518518518518\n",
      "('побочные',) 0.05787037037037037\n",
      "('побочных',) 0.04861111111111111\n",
      "('побочные', 'эффекты') 0.04398148148148148\n",
      "('либидо',) 0.03009259259259259\n",
      "('побочки',) 0.03009259259259259\n",
      "('эффектов',) 0.03009259259259259\n",
      "('побочных', 'эффектов') 0.03009259259259259\n",
      "('рецепту',) 0.02546296296296296\n",
      "('привыкание',) 0.023148148148148147\n",
      "('боль',) 0.023148148148148147\n",
      "('побочек',) 0.023148148148148147\n",
      "('сонливость',) 0.018518518518518517\n",
      "('препарат',) 0.018518518518518517\n",
      "('потеря',) 0.018518518518518517\n",
      "('нашла',) 0.016203703703703703\n",
      "('снижение',) 0.013888888888888888\n",
      "('эффект',) 0.013888888888888888\n",
      "('апатия',) 0.013888888888888888\n",
      "('бессонница',) 0.013888888888888888\n",
      "('тошнота',) 0.013888888888888888\n",
      "('головная',) 0.013888888888888888\n",
      "('врача',) 0.013888888888888888\n",
      "('аппетита',) 0.013888888888888888\n",
      "('боль', 'головная') 0.013888888888888888\n",
      "('приема',) 0.011574074074074073\n",
      "('рту',) 0.011574074074074073\n",
      "('это',) 0.011574074074074073\n",
      "('пить',) 0.011574074074074073\n"
     ]
    }
   ],
   "source": [
    "items, rules = Apriori(negative, 0.01, 0.05)\n",
    "print(items)"
   ]
  },
  {
   "cell_type": "code",
   "execution_count": 309,
   "metadata": {},
   "outputs": [],
   "source": [
    "from nltk.corpus import opinion_lexicon"
   ]
  },
  {
   "cell_type": "code",
   "execution_count": 318,
   "metadata": {},
   "outputs": [
    {
     "name": "stdout",
     "output_type": "stream",
     "text": [
      "done\n"
     ]
    }
   ],
   "source": [
    "def custom_liu_hu_lexicon(sentence):\n",
    "    '''Takes in a sentence and returns the sentiment of the sentence by counting the no of positive and negitive \n",
    "    and negitive words and by reversing the sentiment if the words NO or NOT are present\n",
    "    '''\n",
    "    from nltk.corpus import opinion_lexicon\n",
    "    from nltk.tokenize import treebank\n",
    "\n",
    "    tokenizer = treebank.TreebankWordTokenizer()\n",
    "    pos_words = 0\n",
    "    neg_words = 0\n",
    "    tokenized_sent = [word.lower() for word in tokenizer.tokenize(sentence)]\n",
    "\n",
    "    x = list(range(len(tokenized_sent))) \n",
    "    y = []\n",
    "    isNegation = False\n",
    "    negationWords = ['нет','не','никогда','ничего','тяжело','сложно','страшно','']\n",
    "\n",
    "    for word in tokenized_sent:\n",
    "        if word in opinion_lexicon.positive():\n",
    "            pos_words += 1\n",
    "            y.append(1) # positive\n",
    "        elif word in opinion_lexicon.negative():\n",
    "            neg_words += 1\n",
    "            y.append(-1) # negative\n",
    "        else:\n",
    "            y.append(0) # neutral\n",
    "            \n",
    "        if word in negationWords:\n",
    "            isNegation = True\n",
    "\n",
    "    if pos_words > neg_words and isNegation==True:\n",
    "        return 'neg'\n",
    "    elif pos_words > neg_words:\n",
    "        return 'pos'\n",
    "    elif pos_words < neg_words and isNegation==True:\n",
    "        return 'pos'\n",
    "    elif pos_words < neg_words:\n",
    "        return 'neg'\n",
    "    elif pos_words == neg_words:\n",
    "        return 'neutral'\n",
    "\n",
    "neutral_review=[]\n",
    "positive_review=[]\n",
    "negative_review=[]\n",
    "for sentence in sent_fullreview + sent_neg_review:\n",
    "    for i in items:\n",
    "        if i[0][0] in sentence:\n",
    "            #print(i[0][0] +\"--\" + sentence)\n",
    "            x=custom_liu_hu_lexicon(sentence)\n",
    "            if(x==\"pos\"):\n",
    "                positive_review.append(sentence)\n",
    "            elif(x==\"neg\"):\n",
    "                negative_review.append(sentence)\n",
    "            else:\n",
    "                neutral_review.append(sentence)\n",
    "            break\n",
    "\n",
    "for sentence in sent_neg_review:\n",
    "    for i in items:\n",
    "        if i[0][0] in sentence:\n",
    "            #print(i[0][0] +\"--\" + sentence)\n",
    "            negative_review.append(sentence)\n",
    "            break\n",
    "print('done')            "
   ]
  },
  {
   "cell_type": "code",
   "execution_count": 319,
   "metadata": {},
   "outputs": [
    {
     "data": {
      "text/plain": [
       "['Серьезный препарат',\n",
       " 'Много побочных эффектов',\n",
       " 'Не помогает',\n",
       " 'сильнодействующий препарат',\n",
       " 'Длительный курс приема.',\n",
       " 'потеря аппетита.',\n",
       " 'снижение артериального давления',\n",
       " 'Не эффективен для похудения',\n",
       " 'равнодушие,потеря веса и либидо',\n",
       " 'Алкоголь! Во время приема Флу ни в коем случае. От бокала вина меня развозило в хламину',\n",
       " 'побочные эффекты',\n",
       " 'Опасный препарат и принимать его действительно нужно только по рекомендации врача.',\n",
       " 'много побочных эффектов (читайте мой отзыв)',\n",
       " 'Побочные эффекты довольно ощутимы',\n",
       " 'На аппетит не влияет (выдумки',\n",
       " 'само применение препарата',\n",
       " 'отсутствие любого рода эмоций',\n",
       " 'побочный эффект',\n",
       " 'Побочный эффект в виде диареи. Снижается масса теля.',\n",
       " 'долго ждать эффекта',\n",
       " 'при длительных приемах может вызвать и дибает',\n",
       " 'Не всем помогает',\n",
       " 'Побочные эффекты,отсутствие результата',\n",
       " 'Неопределенный эффект',\n",
       " 'Легкая бессонница в начале приема',\n",
       " 'Серьезный препарат! принимать только по назначению врача!',\n",
       " 'чувства реальности.Отсутствие концентрации внимания. Снижение либидо. Дрожь как с похмелья.',\n",
       " 'потеря веса',\n",
       " 'Хочется спать Резкая потеря веса',\n",
       " 'Сухость во рту. Долгая адаптация к побочным эффектам',\n",
       " 'много побочных эффектов',\n",
       " 'множество побочных эффектов',\n",
       " 'потеря аппетита,дрожание конечностей верхних и головы,запор,суицид альные мысли появились',\n",
       " 'Набор веса',\n",
       " 'После приема раздражительность.',\n",
       " 'Побочные эффекты',\n",
       " 'не помогает для похудения',\n",
       " 'Слишком много побочных эффектов',\n",
       " 'побочные эффекты',\n",
       " 'отсутствие аппетита',\n",
       " 'быстрое похудение',\n",
       " 'эффекта ноль',\n",
       " 'снижение либидо(со временем востанавливается)',\n",
       " 'много побочных эффектов.',\n",
       " 'эффект может быть неожиданным',\n",
       " 'после приема препарата было расстройство желудка',\n",
       " 'тахикардия (побочные эффекты)',\n",
       " 'Неэффективен при тяжелых депрессиях',\n",
       " 'много побочных эффектов',\n",
       " 'Много побочных эффектов',\n",
       " 'Возможные побочные действия: отсутствие аппетита.',\n",
       " 'Очень опасные побочные эффекты',\n",
       " 'есть побочные эффекты',\n",
       " 'Есть побочные эффекты',\n",
       " 'Побочные эффекты',\n",
       " 'химический препарат - подумайте прежде чем пить',\n",
       " 'Быстрое привыкание и побочные эффекты',\n",
       " 'Потеря аппетита',\n",
       " 'Большое количество побочных эффектов',\n",
       " 'есть побочные эффекты. но мало',\n",
       " 'Может быть недостаточно эффективен при тяжёлой депрессии',\n",
       " 'Могут быть побочные эффекты.',\n",
       " 'действует на мозг. Побочные эффекты.',\n",
       " 'Отсутствие побочных эффектов',\n",
       " 'цена.',\n",
       " 'Побочные эффекты.',\n",
       " 'Побочные эффекты после отмены',\n",
       " 'снижение либидо',\n",
       " 'отсутствие оргазма',\n",
       " 'Побочные эффекты',\n",
       " 'странные эффекты',\n",
       " 'Побочный эффект в виде маловероятного возможного самоубийства',\n",
       " 'серьёзное снижение потенции',\n",
       " 'Умеренные побочные эффекты',\n",
       " 'Побочные эффекты',\n",
       " 'Страшные побочные эффекты и привыкание',\n",
       " 'чтобы не было бессонницы! Недорогой препарат!',\n",
       " 'Побочные эффекты Рецептурный препарат',\n",
       " 'на последующих курсах эффективность снижается',\n",
       " 'но предупрежу что данный препарат редко но может в начале приёма обострить суицидальные мысли',\n",
       " 'Побочные эффекты',\n",
       " 'имеет ряд побочных эффектов.',\n",
       " 'Побочные эффекты.',\n",
       " 'Побочные эффекты. Особенно-нечёткость зрения.',\n",
       " 'на меня эффекта не оказал',\n",
       " 'не всегда продадут без рецепта,много возможных побочных эффектов',\n",
       " 'Проявляется побочный эффект.',\n",
       " 'зомби эффект',\n",
       " 'Снижение аппетита',\n",
       " 'Побочные эффекты',\n",
       " 'От них не худеешь,а только наоборот набираешь вес Очень много побочных эффектов Сложно прекратить пить',\n",
       " 'нужно ждать пока препарат накопится в крови']"
      ]
     },
     "execution_count": 319,
     "metadata": {},
     "output_type": "execute_result"
    }
   ],
   "source": [
    "negative_review"
   ]
  },
  {
   "cell_type": "code",
   "execution_count": 331,
   "metadata": {},
   "outputs": [
    {
     "data": {
      "text/plain": [
       "[]"
      ]
     },
     "execution_count": 331,
     "metadata": {},
     "output_type": "execute_result"
    }
   ],
   "source": [
    "positive_review"
   ]
  },
  {
   "cell_type": "code",
   "execution_count": 323,
   "metadata": {},
   "outputs": [],
   "source": [
    "opinion_lexicon?"
   ]
  },
  {
   "cell_type": "code",
   "execution_count": 328,
   "metadata": {},
   "outputs": [],
   "source": [
    "import pymorphy2 "
   ]
  },
  {
   "cell_type": "code",
   "execution_count": null,
   "metadata": {},
   "outputs": [],
   "source": []
  }
 ],
 "metadata": {
  "kernelspec": {
   "display_name": "Python 3",
   "language": "python",
   "name": "python3"
  },
  "language_info": {
   "codemirror_mode": {
    "name": "ipython",
    "version": 3
   },
   "file_extension": ".py",
   "mimetype": "text/x-python",
   "name": "python",
   "nbconvert_exporter": "python",
   "pygments_lexer": "ipython3",
   "version": "3.8.1"
  }
 },
 "nbformat": 4,
 "nbformat_minor": 2
}
