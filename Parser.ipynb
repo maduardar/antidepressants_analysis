{
 "cells": [
  {
   "cell_type": "code",
   "execution_count": 1,
   "metadata": {
    "colab": {
     "base_uri": "https://localhost:8080/",
     "height": 630
    },
    "colab_type": "code",
    "id": "K8DJLpFL8LFj",
    "outputId": "a3509465-4492-43c7-d5a2-0d0188a983e2"
   },
   "outputs": [
    {
     "name": "stdout",
     "output_type": "stream",
     "text": [
      "\u001b[31mERROR: Could not find a version that satisfies the requirement vbeautifulsoup4==4.9.0 (from -r requirements.txt (line 1)) (from versions: none)\u001b[0m\n",
      "\u001b[31mERROR: No matching distribution found for vbeautifulsoup4==4.9.0 (from -r requirements.txt (line 1))\u001b[0m\n",
      "\u001b[33mWARNING: You are using pip version 19.3.1; however, version 20.1 is available.\n",
      "You should consider upgrading via the 'pip install --upgrade pip' command.\u001b[0m\n"
     ]
    }
   ],
   "source": [
    "!pip install -r requirements.txt"
   ]
  },
  {
   "cell_type": "markdown",
   "metadata": {
    "colab_type": "text",
    "id": "9Et_6Ket9i_Y"
   },
   "source": [
    "Флуоксетин"
   ]
  },
  {
   "cell_type": "code",
   "execution_count": 2,
   "metadata": {
    "colab": {
     "base_uri": "https://localhost:8080/",
     "height": 71
    },
    "colab_type": "code",
    "id": "wBuwD4Ex8ZI7",
    "outputId": "d9611f5b-dd61-4b94-8f5c-3729730e6b73"
   },
   "outputs": [
    {
     "name": "stdout",
     "output_type": "stream",
     "text": [
      "Traceback (most recent call last):\r\n",
      "  File \"parser.py\", line 185, in <module>\r\n",
      "    p.run()\r\n",
      "  File \"parser.py\", line 176, in run\r\n",
      "    pagination = self.get_pagination_limit()\r\n",
      "  File \"parser.py\", line 96, in get_pagination_limit\r\n",
      "    container = soup.find_all('a', class_='pager-item nth')[-1].get_text(strip=True)\r\n",
      "IndexError: list index out of range\r\n"
     ]
    }
   ],
   "source": [
    "!python3 parser.py --url https://otzovik.com/reviews/antidepressant_ozon_fluoksetin/"
   ]
  },
  {
   "cell_type": "code",
   "execution_count": 0,
   "metadata": {
    "colab": {
     "base_uri": "https://localhost:8080/",
     "height": 68
    },
    "colab_type": "code",
    "id": "pvkZ2V3T8zxM",
    "outputId": "d8ad27a5-2685-4ddf-a9e7-723117880833"
   },
   "outputs": [
    {
     "name": "stdout",
     "output_type": "stream",
     "text": [
      "Парсинг страницы 1 из 20\n",
      "/antidepressant_biokom_fluoksetin.csv\n",
      "Запись в файл завершена. Таблица сохранена по пути /content/antidepressant_biokom_fluoksetin.csv\n"
     ]
    }
   ],
   "source": [
    "!python3 parser.py --url https://otzovik.com/reviews/antidepressant_biokom_fluoksetin/"
   ]
  },
  {
   "cell_type": "code",
   "execution_count": 0,
   "metadata": {
    "colab": {},
    "colab_type": "code",
    "id": "HAo1qNLl9IKA"
   },
   "outputs": [],
   "source": [
    "!python3 parser.py --url https://otzovik.com/reviews/preparat_kanonfarma_fluoksetin/"
   ]
  },
  {
   "cell_type": "code",
   "execution_count": 0,
   "metadata": {
    "colab": {},
    "colab_type": "code",
    "id": "DQJ3UplC9PRp"
   },
   "outputs": [],
   "source": [
    "!python3 parser.py --url https://otzovik.com/reviews/antidepressant_gncls_fluoksetin/"
   ]
  },
  {
   "cell_type": "code",
   "execution_count": 0,
   "metadata": {
    "colab": {},
    "colab_type": "code",
    "id": "xXGI91GM9QTM"
   },
   "outputs": [],
   "source": [
    "!python3 parser.py --url https://otzovik.com/reviews/antidepressant_lannaher_fluoksetin/"
   ]
  },
  {
   "cell_type": "code",
   "execution_count": 0,
   "metadata": {
    "colab": {},
    "colab_type": "code",
    "id": "Upr9z4bM9Qwn"
   },
   "outputs": [],
   "source": [
    "!python3 parser.py --url https://otzovik.com/reviews/antidepressant_varikozon_fluoksetin/"
   ]
  },
  {
   "cell_type": "code",
   "execution_count": 0,
   "metadata": {
    "colab": {},
    "colab_type": "code",
    "id": "e3y9e1wP9Q-p"
   },
   "outputs": [],
   "source": [
    "!python3 parser.py --url https://otzovik.com/reviews/antidepressant_apotex_inc_apo-fluoksetin/"
   ]
  },
  {
   "cell_type": "code",
   "execution_count": 0,
   "metadata": {
    "colab": {},
    "colab_type": "code",
    "id": "W_cyfbnr9RM4"
   },
   "outputs": [],
   "source": [
    "!python3 parser.py --url https://otzovik.com/reviews/antidepressant_alsi-farma_fluoksetin/"
   ]
  },
  {
   "cell_type": "code",
   "execution_count": 0,
   "metadata": {
    "colab": {},
    "colab_type": "code",
    "id": "9osKDYUS9RY4"
   },
   "outputs": [],
   "source": [
    "!python3 parser.py --url https://otzovik.com/reviews/antidepressant_sun_pharma_fluoksetin_prodep/"
   ]
  },
  {
   "cell_type": "markdown",
   "metadata": {
    "colab_type": "text",
    "id": "H3J-WGRU9iBy"
   },
   "source": [
    "citalopram"
   ]
  },
  {
   "cell_type": "code",
   "execution_count": 0,
   "metadata": {
    "colab": {},
    "colab_type": "code",
    "id": "YMtBujww9Rni"
   },
   "outputs": [],
   "source": [
    "!python3 parser.py --url https://otzovik.com/reviews/antidepressant_berezovskiy_farmacevticheskiy_zavod_escitalopram/"
   ]
  },
  {
   "cell_type": "code",
   "execution_count": 0,
   "metadata": {
    "colab": {},
    "colab_type": "code",
    "id": "Tq7-5t7H99dW"
   },
   "outputs": [],
   "source": [
    "!python3 parser.py --url https://otzovik.com/reviews/antidepressant_teva_escitalopram-teva/"
   ]
  },
  {
   "cell_type": "code",
   "execution_count": 0,
   "metadata": {
    "colab": {},
    "colab_type": "code",
    "id": "gUH-VsrH9-2f"
   },
   "outputs": [],
   "source": [
    "!python3 parser.py --url https://otzovik.com/reviews/antidepressant_lundbek_cipramil/"
   ]
  },
  {
   "cell_type": "markdown",
   "metadata": {
    "colab_type": "text",
    "id": "74TrBhBt-Ls0"
   },
   "source": [
    "sertraline"
   ]
  },
  {
   "cell_type": "code",
   "execution_count": 0,
   "metadata": {
    "colab": {},
    "colab_type": "code",
    "id": "y7FuYz_D9_WM"
   },
   "outputs": [],
   "source": [
    "!python3 parser.py --url https://otzovik.com/reviews/antidepressant_egis_stimuloton/"
   ]
  },
  {
   "cell_type": "code",
   "execution_count": 0,
   "metadata": {
    "colab": {},
    "colab_type": "code",
    "id": "a1ZC6TEA_YUc"
   },
   "outputs": [],
   "source": [
    "!python3 parser.py --url https://otzovik.com/reviews/antidepressant_pfizer_zoloft/"
   ]
  },
  {
   "cell_type": "code",
   "execution_count": 0,
   "metadata": {
    "colab": {},
    "colab_type": "code",
    "id": "PGf-Tnsx_cGW"
   },
   "outputs": [],
   "source": [
    "!python3 parser.py --url https://otzovik.com/reviews/antidepressant_torrent_farmasyutikals_serenata/"
   ]
  },
  {
   "cell_type": "code",
   "execution_count": 0,
   "metadata": {
    "colab": {},
    "colab_type": "code",
    "id": "VKv_QxVQ_irs"
   },
   "outputs": [],
   "source": [
    "!python3 parser.py --url https://otzovik.com/reviews/protivosudorozhniy_prepara_glaxosmithkline_lamiktal/"
   ]
  },
  {
   "cell_type": "code",
   "execution_count": 0,
   "metadata": {
    "colab": {},
    "colab_type": "code",
    "id": "9eGSLzRp_luH"
   },
   "outputs": [],
   "source": [
    "!python3 parser.py --url https://otzovik.com/reviews/antidepressant_verofarm_torin/"
   ]
  },
  {
   "cell_type": "markdown",
   "metadata": {
    "colab_type": "text",
    "id": "CTL8loopHn6W"
   },
   "source": [
    "paroxetine"
   ]
  },
  {
   "cell_type": "code",
   "execution_count": 0,
   "metadata": {
    "colab": {},
    "colab_type": "code",
    "id": "X7Jxy9h0HgIy"
   },
   "outputs": [],
   "source": [
    "!python3 parser.py --url https://otzovik.com/reviews/antideprisant_paroksetin/"
   ]
  },
  {
   "cell_type": "code",
   "execution_count": 0,
   "metadata": {
    "colab": {},
    "colab_type": "code",
    "id": "eJ9c51ROHmbr"
   },
   "outputs": [],
   "source": [
    "!python3 parser.py --url https://otzovik.com/reviews/antidepressant_farma_start_paroksin/"
   ]
  },
  {
   "cell_type": "markdown",
   "metadata": {
    "colab_type": "text",
    "id": "i3CD0bbKHtjK"
   },
   "source": [
    "escitalopram"
   ]
  },
  {
   "cell_type": "code",
   "execution_count": 0,
   "metadata": {
    "colab": {},
    "colab_type": "code",
    "id": "0og2454CHm7-"
   },
   "outputs": [],
   "source": [
    "!python3 parser.py --url https://otzovik.com/reviews/antidepressant_teva_escitalopram-teva/"
   ]
  },
  {
   "cell_type": "code",
   "execution_count": 0,
   "metadata": {
    "colab": {},
    "colab_type": "code",
    "id": "am5oY8rAHwSF"
   },
   "outputs": [],
   "source": [
    "!python3 parser.py --url https://otzovik.com/reviews/tabletki_sandoz_pozitiva_escitalopram/"
   ]
  },
  {
   "cell_type": "code",
   "execution_count": 0,
   "metadata": {
    "colab": {},
    "colab_type": "code",
    "id": "UpSuQWdIHwqE"
   },
   "outputs": [],
   "source": [
    "!python3 parser.py --url https://otzovik.com/reviews/antidepressant_farmastart_escitam/"
   ]
  },
  {
   "cell_type": "code",
   "execution_count": 0,
   "metadata": {
    "colab": {},
    "colab_type": "code",
    "id": "Mi0QvL3IH9-H"
   },
   "outputs": [],
   "source": [
    "!python3 parser.py --url https://otzovik.com/reviews/antidepressant_berezovskiy_farmacevticheskiy_zavod_escitalopram/"
   ]
  },
  {
   "cell_type": "code",
   "execution_count": 0,
   "metadata": {
    "colab": {},
    "colab_type": "code",
    "id": "uBXz0puvH-e8"
   },
   "outputs": [],
   "source": [
    "!python3 parser.py --url https://otzovik.com/reviews/antidepressant_actavis_escitalopram/"
   ]
  }
 ],
 "metadata": {
  "colab": {
   "collapsed_sections": [],
   "name": "Parser.ipynb",
   "provenance": []
  },
  "kernelspec": {
   "display_name": "Python 3",
   "language": "python",
   "name": "python3"
  },
  "language_info": {
   "codemirror_mode": {
    "name": "ipython",
    "version": 3
   },
   "file_extension": ".py",
   "mimetype": "text/x-python",
   "name": "python",
   "nbconvert_exporter": "python",
   "pygments_lexer": "ipython3",
   "version": "3.8.1"
  }
 },
 "nbformat": 4,
 "nbformat_minor": 1
}
